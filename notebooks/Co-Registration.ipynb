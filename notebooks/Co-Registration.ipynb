{
 "cells": [
  {
   "cell_type": "markdown",
   "metadata": {},
   "source": [
    "# Co-Registration"
   ]
  },
  {
   "cell_type": "code",
   "execution_count": null,
   "metadata": {},
   "outputs": [],
   "source": [
    "from plot_helpers import *\n",
    "from source_files_extended import sfm_snow_dsm, load_co_reg_dem, load_control_surfaces\n",
    "from raster_compare.base import RasterFile, MedianAbsoluteDeviation"
   ]
  },
  {
   "cell_type": "code",
   "execution_count": null,
   "metadata": {},
   "outputs": [],
   "source": [
    "control_surfaces_values = load_control_surfaces()"
   ]
  },
  {
   "cell_type": "code",
   "execution_count": null,
   "metadata": {},
   "outputs": [],
   "source": [
    "sfm_snow_free, sfm_snow_on = sfm_snow_dsm()\n",
    "sfm_snow_free_values = sfm_snow_free.band_values()\n",
    "sfm_snow_on_values = sfm_snow_on.band_values()\n",
    "\n",
    "np.ma.masked_where(control_surfaces_values.mask, sfm_snow_free_values, copy=False)\n",
    "np.ma.masked_where(control_surfaces_values.mask, sfm_snow_on_values, copy=False);"
   ]
  },
  {
   "cell_type": "markdown",
   "metadata": {},
   "source": [
    "### Percent Control surface pixels in DEM "
   ]
  },
  {
   "cell_type": "code",
   "execution_count": null,
   "metadata": {},
   "outputs": [],
   "source": [
    "print(f\"Percent of available: {control_surfaces_values.count() / control_surfaces_values.size:.2%}\")"
   ]
  },
  {
   "cell_type": "code",
   "execution_count": null,
   "metadata": {},
   "outputs": [],
   "source": [
    "def compare_control_surfaces(data):\n",
    "    mad = MedianAbsoluteDeviation(\n",
    "        data[np.isfinite(data)].compressed()\n",
    "    )\n",
    "    \n",
    "    make_box_plot(data, 'Control Surfaces');\n",
    "    \n",
    "    plot_opts = [\n",
    "        {\n",
    "            'data': data,\n",
    "            'label': 'Control Surfaces',\n",
    "            'color': 'peru',\n",
    "            'legend': LEGEND_TEXT.format(\" NMAD\", mad.normalized(), 'm'),\n",
    "            'skip_mean': True,\n",
    "            'alpha': 0.4\n",
    "        }\n",
    "    ]\n",
    "\n",
    "    with Histogram.plot(plot_opts, (-2, 2), figsize=(8, 3)) as ax:\n",
    "        ax\n",
    "        \n",
    "    plt.figure(figsize=(12, 12))\n",
    "    plt.imshow(\n",
    "        data, \n",
    "        extent=sfm_snow_free.extent,\n",
    "        cmap=RED_BLUE_CMAP,\n",
    "        vmin=-.5,\n",
    "        vmax=.5,\n",
    "    )\n",
    "\n",
    "    ax = plt.gca()\n",
    "    ax.set_xticks([])\n",
    "    ax.set_yticks([])\n",
    "    ax.patch.set_color('grey')\n",
    "\n",
    "    ax.add_artist(ScaleBar(1.0, location='lower left'))\n",
    "    plt.colorbar();\n"
   ]
  },
  {
   "cell_type": "markdown",
   "metadata": {},
   "source": [
    "### Control Surfaces: Snow On - Snow Free "
   ]
  },
  {
   "cell_type": "code",
   "execution_count": null,
   "metadata": {},
   "outputs": [],
   "source": [
    "compare_control_surfaces((sfm_snow_on_values - sfm_snow_free_values))"
   ]
  },
  {
   "cell_type": "markdown",
   "metadata": {},
   "source": [
    "### Control surfaces: Reference DEM - Snow Free"
   ]
  },
  {
   "cell_type": "code",
   "execution_count": null,
   "metadata": {},
   "outputs": [],
   "source": [
    "dem_co_reg_values = load_co_reg_dem()\n",
    "\n",
    "np.ma.masked_where(control_surfaces_values.mask, dem_co_reg_values, copy=False);"
   ]
  },
  {
   "cell_type": "code",
   "execution_count": null,
   "metadata": {},
   "outputs": [],
   "source": [
    "compare_control_surfaces((dem_co_reg_values - sfm_snow_free_values))"
   ]
  },
  {
   "cell_type": "markdown",
   "metadata": {},
   "source": [
    "### Control Surfaces: Reference DEM - Snow On"
   ]
  },
  {
   "cell_type": "code",
   "execution_count": null,
   "metadata": {},
   "outputs": [],
   "source": [
    "compare_control_surfaces((dem_co_reg_values - sfm_snow_on_values))"
   ]
  }
 ],
 "metadata": {
  "kernelspec": {
   "display_name": "snow_aso",
   "language": "python",
   "name": "snow_aso"
  },
  "language_info": {
   "codemirror_mode": {
    "name": "ipython",
    "version": 3
   },
   "file_extension": ".py",
   "mimetype": "text/x-python",
   "name": "python",
   "nbconvert_exporter": "python",
   "pygments_lexer": "ipython3",
   "version": "3.8.3"
  }
 },
 "nbformat": 4,
 "nbformat_minor": 4
}
