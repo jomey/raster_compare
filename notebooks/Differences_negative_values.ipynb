{
 "cells": [
  {
   "cell_type": "code",
   "execution_count": null,
   "metadata": {},
   "outputs": [],
   "source": [
    "from source_files import *\n",
    "from plot_helpers import *\n",
    "from raster_compare.plots import PlotBase\n",
    "\n",
    "import query_helpers\n",
    "\n",
    "import math"
   ]
  },
  {
   "cell_type": "markdown",
   "metadata": {},
   "source": [
    "# Analysis"
   ]
  },
  {
   "cell_type": "code",
   "execution_count": null,
   "metadata": {},
   "outputs": [],
   "source": [
    "df = db_query_to_df()"
   ]
  },
  {
   "cell_type": "code",
   "execution_count": null,
   "metadata": {},
   "outputs": [],
   "source": [
    "casi_colors = [CASI_COLORS[0], CASI_COLORS[2], CASI_COLORS[1]]\n",
    "casi_classes = ['Snow', 'Rock', 'Vegetation']"
   ]
  },
  {
   "cell_type": "markdown",
   "metadata": {},
   "source": [
    "# SfM measurement errors"
   ]
  },
  {
   "cell_type": "code",
   "execution_count": null,
   "metadata": {},
   "outputs": [],
   "source": [
    "df.loc[df['casi_class'] == 'Water', 'casi_class'] = 'Vegetation'\n",
    "negative_sfm = query_helpers.get_negative(df, 'sfm_snow_depth')\n",
    "\n",
    "vegetation = (negative_sfm.casi_class == 'Vegetation')\n",
    "open_areas = ~vegetation\n",
    "\n",
    "open_areas = negative_sfm[open_areas]\n",
    "vegetation = negative_sfm[vegetation]"
   ]
  },
  {
   "cell_type": "code",
   "execution_count": null,
   "metadata": {},
   "outputs": [],
   "source": [
    "max_bin = math.fabs(math.floor(negative_sfm.sfm_snow_depth.min()))\n",
    "\n",
    "sfm_bins = np.arange(-max_bin, 0, 0.1)\n",
    "aso_bins = np.concatenate((\n",
    "    np.arange(0, 2.0, 0.05),\n",
    "    np.arange(2, 10.1, 0.10)\n",
    "))\n",
    "xticks = np.concatenate((\n",
    "    np.arange(-40, 1, 2),\n",
    "))"
   ]
  },
  {
   "cell_type": "markdown",
   "metadata": {},
   "source": [
    "## ASO vs. SfM "
   ]
  },
  {
   "cell_type": "code",
   "execution_count": null,
   "metadata": {},
   "outputs": [],
   "source": [
    "matplotlib.rcParams['xtick.labelsize'] = LABEL_SIZE - 2\n",
    "matplotlib.rcParams['ytick.labelsize'] = LABEL_SIZE - 2\n",
    "annotate_args = dict(fontsize=14)\n",
    "\n",
    "fig, (ax1, ax2) = plt.subplots(nrows=2, figsize=(8, 4))\n",
    "\n",
    "h1 = ax1.hist2d(\n",
    "    negative_sfm['sfm_snow_depth'],\n",
    "    negative_sfm['aso_snow_depth'],\n",
    "    bins=[sfm_bins, aso_bins],\n",
    "    cmap=HIST_2D_CMAP,\n",
    "    vmin=0,\n",
    "    vmax=1000,\n",
    "    cmin=1,\n",
    ")\n",
    "ax1.set_facecolor('lightgrey')\n",
    "ax1.tick_params(axis='both', length=6)\n",
    "ax1.xaxis.set_ticks_position('bottom')\n",
    "\n",
    "ax1.set_xlim(-40, 0)\n",
    "ax1.set_xticks(xticks)\n",
    "ax1.xaxis.set_minor_locator(MultipleLocator(1))\n",
    "for label in ax1.xaxis.get_ticklabels()[::2]:\n",
    "    label.set_visible(False)\n",
    "\n",
    "ax1.yaxis.set_label_position(\"right\")\n",
    "ax1.yaxis.tick_right()\n",
    "ax1.set_ylim(0, 5)\n",
    "ax1.set_ylabel('ASO snow depth (m)', rotation=270, labelpad=14)\n",
    "\n",
    "ax1.annotate('a)', xy=(-39.8, 0.8), **annotate_args)\n",
    "\n",
    "cax = ax1.inset_axes([0.01, 0.89, 0.3, .08])\n",
    "cax.yaxis.set_label_position('right')\n",
    "cax.yaxis.set_label_coords(1.18, 0.9)\n",
    "colorbar = fig.colorbar(h1[3], cax=cax, orientation='horizontal')\n",
    "colorbar.ax.set_ylabel('Count', rotation=0)\n",
    "\n",
    "insert_start = -4\n",
    "\n",
    "bins = np.concatenate((\n",
    "    [math.floor(negative_sfm.sfm_snow_depth.min())],\n",
    "    np.arange(-40, 0.01, 0.01),\n",
    "))\n",
    "stack = []\n",
    "\n",
    "for casi_class in casi_classes:\n",
    "    stack.append(\n",
    "        negative_sfm[negative_sfm.casi_class == casi_class].sfm_snow_depth\n",
    "    )\n",
    "\n",
    "stack_opts = dict(\n",
    "    bins=bins,\n",
    "    label=casi_classes,\n",
    "    stacked=True,\n",
    "    color=casi_colors,\n",
    "    histtype='stepfilled',\n",
    "    ec='black',\n",
    ")\n",
    "    \n",
    "ax2.hist(stack, **stack_opts, linewidth=.3)\n",
    "ax2.set_xlabel('SfM ' + SNOW_DEPTH_LABEL)\n",
    "ax2.set_xlim(insert_start, bins.max())\n",
    "PlotBase.format_axes_scientific(ax2, 'y', (4, 4), fontsize=11, labelpad=10)\n",
    "PlotBase.move_yaxis_label_right(ax2)\n",
    "ax2.annotate('b)', xy=(-3.98, 10000), **annotate_args)\n",
    "\n",
    "ax3 = ax2.inset_axes([0.02, 0.4, 0.6, .6])\n",
    "ax3.hist(stack, **stack_opts, linewidth=.1)\n",
    "ax3.set_xlim(-30, insert_start)\n",
    "ax3.set_xticks(np.arange(-28, -3, 4))\n",
    "ax3.xaxis.set_minor_locator(MultipleLocator(1))\n",
    "ax3.set_ylim(top=3000)\n",
    "ax3.set_yticks(np.arange(0, 3000, 1000))\n",
    "PlotBase.format_axes_scientific(ax3, 'y', (3, 3), fontsize=10, labelpad=11)\n",
    "PlotBase.move_yaxis_label_right(ax3)\n",
    "ax3.legend(loc='upper left', fontsize=10, frameon=False, labelspacing=.25);"
   ]
  },
  {
   "cell_type": "markdown",
   "metadata": {},
   "source": [
    "## By Elevation "
   ]
  },
  {
   "cell_type": "markdown",
   "metadata": {},
   "source": [
    "### Data setup "
   ]
  },
  {
   "cell_type": "code",
   "execution_count": null,
   "metadata": {},
   "outputs": [],
   "source": [
    "elevation_bands = 10\n",
    "elevation_min = df[df['elevation'] > 0].elevation.min()\n",
    "elevation_min = elevation_min - elevation_min % elevation_bands\n",
    "elevation_max = df.elevation.max() + (elevation_bands - df.elevation.max() % elevation_bands)\n",
    "elevation_range = np.arange(elevation_min, elevation_max + elevation_bands, elevation_bands)\n",
    "\n",
    "hist_opts = dict(\n",
    "    vmin=0,\n",
    "    vmax=1000,\n",
    "    cmin=1,\n",
    ")\n",
    "bins = np.concatenate((\n",
    "    np.arange(-max_bin, 0, 0.1),\n",
    "    np.arange(0, 15.10, 0.10),\n",
    "    np.arange(15, max_bin, 0.25),\n",
    "))\n",
    "\n",
    "hist_opts['bins'] = [bins, elevation_range]"
   ]
  },
  {
   "cell_type": "markdown",
   "metadata": {},
   "source": [
    "### Plot setup"
   ]
  },
  {
   "cell_type": "code",
   "execution_count": null,
   "metadata": {},
   "outputs": [],
   "source": [
    "figure_size = dict(figsize=(8, 2.75))\n",
    "COLOR_BAR_ATTR = dict(right=0.9, rect=[0.91, 0.125, 0.03, 0.795])\n",
    "HIST2D_PLOT = dict(ncols=2, sharey=True, **figure_size)\n",
    "\n",
    "def plot_hist2d(ax, x_data, y_data, **kwargs):\n",
    "    if 'label' in kwargs:\n",
    "        ax.set_xlabel(kwargs['label'] + ' ' + SNOW_DEPTH_LABEL)\n",
    "    if 'title' in kwargs:\n",
    "        ax.set_title(kwargs['title'])\n",
    "    ax.tick_params(axis='x', direction='inout', length=10)\n",
    "    ax.tick_params(axis='y', length=6)\n",
    "    ax.set_facecolor('lightgrey')\n",
    "    ax.xaxis.set_ticks_position('both')\n",
    "    \n",
    "    data = ax.hist2d(x_data, y_data, cmap=HIST_2D_CMAP, **kwargs)\n",
    "    \n",
    "    ax.set_xlim(0, 40)\n",
    "\n",
    "    return data"
   ]
  },
  {
   "cell_type": "markdown",
   "metadata": {},
   "source": [
    "### Basin wide "
   ]
  },
  {
   "cell_type": "code",
   "execution_count": null,
   "metadata": {},
   "outputs": [],
   "source": [
    "fig, (ax1, ax2) = plt.subplots(**HIST2D_PLOT)\n",
    "\n",
    "h1 = plot_hist2d(\n",
    "    ax1,\n",
    "    negative_sfm['sfm_snow_depth'],\n",
    "    negative_sfm['elevation'],\n",
    "    label='SfM',\n",
    "    **hist_opts,\n",
    ")\n",
    "ax1.set_ylabel(ELEVATION_LABEL)\n",
    "ax1.set_xlim(-35, 0.2)\n",
    "ax1.yaxis.set_ticks_position('both')\n",
    "\n",
    "h2 = plot_hist2d(\n",
    "    ax2,\n",
    "    negative_sfm['aso_snow_depth'],\n",
    "    negative_sfm['elevation'],\n",
    "    label='ASO',\n",
    "    **hist_opts,\n",
    ")\n",
    "ax2.set_xlim(right=15)\n",
    "\n",
    "fig.suptitle('Snow Depth measurement errors by Elevation')\n",
    "PlotBase.insert_colorbar(ax2, h2[3], 'count', **COLOR_BAR_ATTR);"
   ]
  },
  {
   "cell_type": "markdown",
   "metadata": {},
   "source": [
    "### Open Areas"
   ]
  },
  {
   "cell_type": "code",
   "execution_count": null,
   "metadata": {},
   "outputs": [],
   "source": [
    "fig, (ax1, ax2) = plt.subplots(**HIST2D_PLOT)\n",
    "\n",
    "h1 = plot_hist2d(\n",
    "    ax1,\n",
    "    open_areas['sfm_snow_depth'],\n",
    "    open_areas['elevation'],\n",
    "    label='SfM',\n",
    "    **hist_opts,\n",
    ")\n",
    "ax1.set_ylabel(ELEVATION_LABEL)\n",
    "ax1.set_xlim(-35, 0)\n",
    "\n",
    "h2 = plot_hist2d(\n",
    "    ax2,\n",
    "    open_areas['aso_snow_depth'],\n",
    "    open_areas['elevation'],\n",
    "    label='ASO',\n",
    "    **hist_opts,\n",
    ")\n",
    "ax2.set_xlim(right=15)\n",
    "\n",
    "fig.suptitle('Snow Depth measurement errors by Elevation in open areas')\n",
    "PlotBase.insert_colorbar(ax2, h2[3], 'count', **COLOR_BAR_ATTR);"
   ]
  },
  {
   "cell_type": "markdown",
   "metadata": {},
   "source": [
    "### Vegetated areas"
   ]
  },
  {
   "cell_type": "code",
   "execution_count": null,
   "metadata": {},
   "outputs": [],
   "source": [
    "fig, (ax1, ax2) = plt.subplots(**HIST2D_PLOT)\n",
    "\n",
    "h1 = plot_hist2d(\n",
    "    ax1,\n",
    "    vegetation['sfm_snow_depth'],\n",
    "    vegetation['elevation'],\n",
    "    label='SfM',\n",
    "    **hist_opts,\n",
    ")\n",
    "ax1.set_ylabel(ELEVATION_LABEL)\n",
    "ax1.set_xlim(-35, 0)\n",
    "\n",
    "h2 = plot_hist2d(\n",
    "    ax2,\n",
    "    vegetation['aso_snow_depth'],\n",
    "    vegetation['elevation'],\n",
    "    label='ASO',\n",
    "    **hist_opts,\n",
    ")\n",
    "ax2.set_xlim(right=15)\n",
    "\n",
    "fig.suptitle('Snow Depth measurement errors by Elevation in vegetated areas')\n",
    "PlotBase.insert_colorbar(ax2, h2[3], 'count', **COLOR_BAR_ATTR);"
   ]
  },
  {
   "cell_type": "markdown",
   "metadata": {},
   "source": [
    "## SfM by Aspect"
   ]
  },
  {
   "cell_type": "markdown",
   "metadata": {
    "tags": []
   },
   "source": [
    "### Data setup "
   ]
  },
  {
   "cell_type": "code",
   "execution_count": null,
   "metadata": {},
   "outputs": [],
   "source": [
    "bin_min = math.floor(negative_sfm.sfm_snow_depth.min())\n",
    "bins = np.arange(0, bin_min - 0.1, -0.2)\n",
    "bins = np.flip(bins)\n",
    "\n",
    "aspect_range = np.arange(0, 361, 1)\n",
    "\n",
    "hist_opts = dict(\n",
    "    bins=[aspect_range, bins],\n",
    "    vmin=0,\n",
    "    vmax=200,\n",
    "    cmin=1,\n",
    ")"
   ]
  },
  {
   "cell_type": "markdown",
   "metadata": {
    "tags": []
   },
   "source": [
    "### Basin wide "
   ]
  },
  {
   "cell_type": "code",
   "execution_count": null,
   "metadata": {},
   "outputs": [],
   "source": [
    "fig = plt.figure(figsize=(8,4))\n",
    "ax = fig.gca()\n",
    "ax.set_facecolor('whitesmoke')\n",
    "ha = ax.hist2d(\n",
    "    negative_sfm['aspect'],\n",
    "    negative_sfm['sfm_snow_depth'],\n",
    "    **hist_opts,\n",
    ")\n",
    "PlotBase.insert_colorbar(ax, ha[3], 'Count')\n",
    "ax.set_ylabel(SNOW_DEPTH_LABEL)\n",
    "ax.set_xlabel('Aspect');"
   ]
  },
  {
   "cell_type": "code",
   "execution_count": null,
   "metadata": {},
   "outputs": [],
   "source": [
    "aspect_stats = negative_sfm[['sfm_snow_depth', 'aspect']].groupby('aspect')\n",
    "\n",
    "aspect_count = aspect_stats.count()\n",
    "aspect_medians = aspect_stats.median()\n",
    "aspect_means = aspect_stats.mean()\n",
    "\n",
    "fig, (ax1, ax2, ax3) = plt.subplots(3, 1, sharex=True, figsize=(8, 16))\n",
    "ax1.scatter(aspect_count.index, aspect_count.sfm_snow_depth)\n",
    "ax1.set_title('Aspect count')\n",
    "\n",
    "ax2.scatter(aspect_medians.index, aspect_medians.sfm_snow_depth)\n",
    "ax2.set_ylabel('Median SD difference')\n",
    "ax2.set_title('Median difference by aspect');\n",
    "\n",
    "ax3.scatter(aspect_means.index, aspect_means.sfm_snow_depth)\n",
    "ax3.set_xlim(aspect_range.min(), aspect_range.max())\n",
    "ax3.set_ylabel('Mean SD difference')\n",
    "ax3.set_xlabel('Aspect in degree')\n",
    "ax3.set_title('Mean difference by aspect');"
   ]
  },
  {
   "cell_type": "code",
   "execution_count": null,
   "metadata": {},
   "outputs": [],
   "source": [
    "aspect_count.sort_values('sfm_snow_depth', ascending=False).head(10).sort_index()"
   ]
  },
  {
   "cell_type": "markdown",
   "metadata": {
    "tags": []
   },
   "source": [
    "### Open Areas "
   ]
  },
  {
   "cell_type": "code",
   "execution_count": null,
   "metadata": {},
   "outputs": [],
   "source": [
    "open_areas_aspects = open_areas.groupby('aspect')\n",
    "open_areas_aspects_median = open_areas_aspects.median()\n",
    "open_areas_aspects_count = open_areas_aspects.count()"
   ]
  },
  {
   "cell_type": "code",
   "execution_count": null,
   "metadata": {},
   "outputs": [],
   "source": [
    "fig, (ax1, ax2, ax3) = plt.subplots(\n",
    "    3, 1, sharex=True, \n",
    "    figsize=(8,16), gridspec_kw={'hspace': 0.1}\n",
    ")\n",
    "\n",
    "ax1.set_facecolor('whitesmoke')\n",
    "\n",
    "ha = ax1.hist2d(\n",
    "    open_areas['aspect'],\n",
    "    open_areas['sfm_snow_depth'],\n",
    "    **hist_opts,\n",
    ")\n",
    "ax1.set_ylabel(SNOW_DEPTH_LABEL)\n",
    "ax1.set_title('Negative values with aspect - Open Areas')\n",
    "\n",
    "ax2.scatter(\n",
    "    open_areas_aspects_median.index, \n",
    "    open_areas_aspects_median.sfm_snow_depth,\n",
    "    s=2\n",
    ")\n",
    "ax2.set_title('Median difference by aspect - Open Areas')\n",
    "ax2.axvline(HILLSHADE_SNOW_ON['azimuth'], color='goldenrod', linestyle='--')\n",
    "ax2.annotate(\n",
    "    'Snow On\\n Sun Angle', \n",
    "    xy=(HILLSHADE_SNOW_ON['azimuth'] + 1, -0.15)\n",
    ")\n",
    "ax2.axvline(HILLSHADE_SNOW_ON['azimuth'] + 180, color='dimgrey', linestyle='--')\n",
    "ax2.annotate(\n",
    "    'Snow On\\n Shade', \n",
    "    xy=(HILLSHADE_SNOW_ON['azimuth'] + 181, -0.5)\n",
    ")\n",
    "ax2.axvline(HILLSHADE_SNOW_FREE['azimuth'], color='goldenrod', linestyle='--')\n",
    "ax2.annotate(\n",
    "    'Snow Free\\n Sun Angle', \n",
    "    xy=(HILLSHADE_SNOW_FREE['azimuth'] + 1, -0.5)\n",
    ")\n",
    "ax2.axvline(HILLSHADE_SNOW_FREE['azimuth'] % 180, color='dimgrey', linestyle='--')\n",
    "ax2.annotate(\n",
    "    'Snow Free\\n Shade', \n",
    "    xy=((HILLSHADE_SNOW_FREE['azimuth'] + 181) % 180, -0.15)\n",
    ")\n",
    "ax2.set_ylim(top=0)\n",
    "ax2.set_ylabel('Median SD difference')\n",
    "\n",
    "ax3.scatter(\n",
    "    open_areas_aspects_count.index, \n",
    "    open_areas_aspects_count.sfm_snow_depth,\n",
    "    s=2\n",
    ")\n",
    "ax3.set_title('Count of aspects - Open Areas');\n",
    "ax3.set_ylabel('Count')\n",
    "\n",
    "ax3.set_xlim(aspect_range.min(), aspect_range.max())\n",
    "ax3.set_xlabel('Aspect in degree');"
   ]
  },
  {
   "cell_type": "markdown",
   "metadata": {},
   "source": [
    "## SfM by Slope"
   ]
  },
  {
   "cell_type": "markdown",
   "metadata": {},
   "source": [
    "### Data setup "
   ]
  },
  {
   "cell_type": "code",
   "execution_count": null,
   "metadata": {},
   "outputs": [],
   "source": [
    "slope_range = np.arange(0, 91, 1)\n",
    "\n",
    "hist_opts['bins'] = [slope_range, bins]"
   ]
  },
  {
   "cell_type": "markdown",
   "metadata": {},
   "source": [
    "### Basin wide"
   ]
  },
  {
   "cell_type": "code",
   "execution_count": null,
   "metadata": {},
   "outputs": [],
   "source": [
    "fig = plt.figure(figsize=(8,4))\n",
    "ax = fig.gca()\n",
    "ax.set_facecolor('whitesmoke')\n",
    "hs = ax.hist2d(\n",
    "    negative_sfm['slope'],\n",
    "    negative_sfm['sfm_snow_depth'],\n",
    "    **hist_opts\n",
    ")\n",
    "PlotBase.insert_colorbar(ax, hs[3], 'count')\n",
    "ax.set_ylabel(SNOW_DEPTH_LABEL)\n",
    "ax.set_xlabel('Slope')\n",
    "ax.set_title('Negative values with slope');"
   ]
  },
  {
   "cell_type": "code",
   "execution_count": null,
   "metadata": {},
   "outputs": [],
   "source": [
    "slope_stats = negative_sfm.groupby('slope')\n",
    "slope_count = slope_stats.count()\n",
    "slope_median = slope_stats.median()\n",
    "slope_means = slope_stats.mean()\n",
    "\n",
    "elevation_change_with_angle = [math.tan(math.radians(slope)) for slope in slope_count.index]"
   ]
  },
  {
   "cell_type": "code",
   "execution_count": null,
   "metadata": {},
   "outputs": [],
   "source": [
    "fig, (ax1, ax2, ax3) = plt.subplots(3, 1, sharex=True, figsize=(8, 16))\n",
    "\n",
    "ax1.scatter(slope_count.index, slope_count.sfm_snow_depth)\n",
    "ax1.set_title('Slope Count')\n",
    "\n",
    "ax2.scatter(slope_median.index, slope_median.sfm_snow_depth)\n",
    "ax2.set_ylabel('Median SD difference')\n",
    "ax2.set_title('Median difference by slope')\n",
    "\n",
    "ax3.scatter(slope_means.index, slope_means.sfm_snow_depth)\n",
    "ax3.set_xlim(slope_range.min(), slope_range.max())\n",
    "ax3.set_xlabel('Slope in degree')\n",
    "ax3.set_ylabel('Mean SD difference')\n",
    "ax3.set_title('Mean difference by slope');"
   ]
  },
  {
   "cell_type": "markdown",
   "metadata": {},
   "source": [
    "### Open Areas "
   ]
  },
  {
   "cell_type": "code",
   "execution_count": null,
   "metadata": {},
   "outputs": [],
   "source": [
    "open_areas_slopes = open_areas.groupby('slope')\n",
    "open_areas_slopes_median = open_areas_slopes.median()\n",
    "open_areas_slopes_mean = open_areas_slopes.mean()\n",
    "open_areas_slopes_count = open_areas_slopes.count()"
   ]
  },
  {
   "cell_type": "code",
   "execution_count": null,
   "metadata": {},
   "outputs": [],
   "source": [
    "fig, ax1 = plt.subplots(figsize=(8, 1.75))\n",
    "\n",
    "ax1.add_line(mlines.Line2D([0, 55], [-1, -1], linewidth=1, linestyle='--', color='darkorange'))\n",
    "ax1.add_line(mlines.Line2D([55, 55], [-1.25, -20], linewidth=1, linestyle='dashdot', color='grey'))\n",
    "for hl in [-4, -8, -12, -16]:\n",
    "    ax1.axhline(hl, linewidth=0.25, linestyle='dotted', color='darkgrey')\n",
    "\n",
    "ax1.plot(\n",
    "    open_areas_slopes_median.index, \n",
    "    open_areas_slopes_median.sfm_snow_depth\n",
    ")\n",
    "\n",
    "ax1.xaxis.set_minor_locator(MultipleLocator(1))\n",
    "ax1.set_xlabel('Slope (degrees)')\n",
    "ax1.set_xlim(left=0)\n",
    "ax1.set_xticks(np.arange(0, 91, 10))\n",
    "ax1.set_ylim(-18, 0.2)\n",
    "ax1.set_yticks(np.arange(0, -20, -4))\n",
    "ax1.set_ylabel('Median Snow Depth \\n Difference (m)');"
   ]
  },
  {
   "cell_type": "markdown",
   "metadata": {},
   "source": [
    "#### Point statistics "
   ]
  },
  {
   "cell_type": "code",
   "execution_count": null,
   "metadata": {},
   "outputs": [],
   "source": [
    "fig, (ax1, ax2, ax3) = plt.subplots(\n",
    "    nrows=3, sharex=True, \n",
    "    figsize=(8,16), gridspec_kw={ 'hspace': 0.05}\n",
    ")\n",
    "\n",
    "ax1_data = ax1.plot(\n",
    "    open_areas_slopes_median.index, \n",
    "    open_areas_slopes_median.sfm_snow_depth,\n",
    "    color='deepskyblue',\n",
    "    label='Median',\n",
    ")\n",
    "ax1.add_line(mlines.Line2D([0, 55], [-1, -1], linestyle='--', color='orange'))\n",
    "ax1.add_line(mlines.Line2D([55, 55], [-1, -20], linestyle='--', color='orange'))\n",
    "ax1.axvline(84, linestyle='--', color='orange')\n",
    "ax1.xaxis.set_minor_locator(MultipleLocator(1))\n",
    "ax1.set_ylim(-18, 0.2)\n",
    "ax1.set_yticks(np.arange(0, -20, -2))\n",
    "ax1.set_ylabel('SD difference')\n",
    "\n",
    "ax1_2 = ax1.twinx()\n",
    "\n",
    "ax1_2_data = ax1_2.plot(\n",
    "    open_areas_slopes_count.index, \n",
    "    open_areas_slopes_count.sfm_snow_depth,\n",
    "    color='indigo',\n",
    "    label='Count',\n",
    ")\n",
    "ax1_2.set_xlabel('Slope in degree')\n",
    "ax1_2.set_xlim(slope_range.min(), slope_range.max())\n",
    "ax1_2.set_ylim(bottom=0)\n",
    "ax1_2.set_ylabel('Count')\n",
    "\n",
    "data = ax1_data + ax1_2_data\n",
    "labels = [l.get_label() for l in data]\n",
    "ax1.legend(data, labels);\n",
    "\n",
    "ax2.plot(\n",
    "    open_areas_slopes_median.index, \n",
    "    open_areas_slopes_median.sfm_point_count_snow_free, \n",
    "    label='Median Point Count Snow Free'\n",
    ")\n",
    "ax2.plot(\n",
    "    open_areas_slopes_median.index, \n",
    "    open_areas_slopes_median.sfm_point_count_snow_on, \n",
    "    label='Median Point Count Snow On'\n",
    ")\n",
    "ax2.axvline(55, linestyle='--', color='orange')\n",
    "ax2.axvline(84, linestyle='--', color='orange')\n",
    "ax2.set_ylim(bottom=-.2)\n",
    "ax2.set_ylabel('Point Count')\n",
    "ax2.legend();\n",
    "\n",
    "ax3.plot(\n",
    "    open_areas_slopes_median.index, \n",
    "    elevation_change_with_angle,\n",
    "    label=r'Max $\\Delta$m in pixel (theoretical)'\n",
    ")\n",
    "ax3.plot(\n",
    "    open_areas_slopes_median.index, \n",
    "    open_areas_slopes_median.point_spread_snow_on,\n",
    "    label='Median Point Spread Snow On'\n",
    ")\n",
    "ax3.plot(\n",
    "    open_areas_slopes_median.index, \n",
    "    open_areas_slopes_median.point_spread_snow_free,\n",
    "    label='Median Point Spread Snow Free'\n",
    ")\n",
    "ax3.axvline(55, linestyle='--', color='orange')\n",
    "ax3.axvline(84, linestyle='--', color='orange')\n",
    "ax3.set_ylabel('Meter')\n",
    "ax3.set_xlabel('Slope Angle')\n",
    "ax3.legend()\n",
    "\n",
    "plt.show()"
   ]
  },
  {
   "cell_type": "markdown",
   "metadata": {},
   "source": [
    "### ASO all values basin wide"
   ]
  },
  {
   "cell_type": "code",
   "execution_count": null,
   "metadata": {},
   "outputs": [],
   "source": [
    "bin_max = math.ceil(df.aso_snow_depth.max())\n",
    "bins = np.arange(0, bin_max + 0.1, 0.1)\n",
    "\n",
    "hist_opts['bins'] = [slope_range, bins]\n",
    "\n",
    "fig, ax1 = plt.subplots(\n",
    "    figsize=(13, 6),\n",
    "    dpi=150,\n",
    ")\n",
    "ax1.set_facecolor('whitesmoke')\n",
    "ha = ax1.hist2d(\n",
    "    df.slope,\n",
    "    df.aso_snow_depth,\n",
    "    **hist_opts,\n",
    ")\n",
    "ax1.set_ylabel(SNOW_DEPTH_LABEL)\n",
    "ax1.set_title('ASO snow depth by slope');"
   ]
  },
  {
   "cell_type": "markdown",
   "metadata": {},
   "source": [
    "# Point Density in Vegetation "
   ]
  },
  {
   "cell_type": "code",
   "execution_count": null,
   "metadata": {},
   "outputs": [],
   "source": [
    "negative_sfm[['sfm_point_count_snow_free', 'sfm_point_count_snow_on', 'point_spread_snow_free' , 'point_spread_snow_on']].agg([np.mean, np.median, np.std])"
   ]
  },
  {
   "cell_type": "code",
   "execution_count": null,
   "metadata": {},
   "outputs": [],
   "source": []
  }
 ],
 "metadata": {
  "language_info": {
   "name": "python"
  }
 },
 "nbformat": 4,
 "nbformat_minor": 4
}
