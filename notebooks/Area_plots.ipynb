{
 "cells": [
  {
   "cell_type": "code",
   "execution_count": null,
   "metadata": {},
   "outputs": [],
   "source": [
    "from source_files_extended import *\n",
    "from plot_helpers import *\n",
    "\n",
    "from raster_compare.plots import PlotBase\n",
    "\n",
    "import math"
   ]
  },
  {
   "cell_type": "code",
   "execution_count": null,
   "metadata": {},
   "outputs": [],
   "source": [
    "from source_files import HILLSHADE_SNOW_ON\n",
    "hillshade_snow_on = dem.hill_shade(**HILLSHADE_SNOW_ON)"
   ]
  },
  {
   "cell_type": "markdown",
   "metadata": {},
   "source": [
    "# Snow Depth Difference"
   ]
  },
  {
   "cell_type": "code",
   "execution_count": null,
   "metadata": {},
   "outputs": [],
   "source": [
    "HIST_BIN_WIDTH = .10\n",
    "bins = np.concatenate((\n",
    "#     [math.floor(np.nanmin(sfm_snow_depth_values))],\n",
    "    np.arange(0, 4. + HIST_BIN_WIDTH, HIST_BIN_WIDTH),\n",
    "    [math.ceil(np.nanmax(sfm_snow_depth_values))],\n",
    "))"
   ]
  },
  {
   "cell_type": "code",
   "execution_count": null,
   "metadata": {},
   "outputs": [],
   "source": [
    "AREA_PLOT_OPTS = dict(\n",
    "    nrows=1, ncols=2, sharex=True, sharey=True, figsize=(17,14), dpi=1000\n",
    ")\n",
    "\n",
    "def area_plot():\n",
    "    fig, axes = plt.subplots(**AREA_PLOT_OPTS)\n",
    "\n",
    "    for ax in axes:\n",
    "        ax.tick_params(axis='both', direction='inout', length=7)\n",
    "        ax.ticklabel_format(axis='both', style='plain')\n",
    "        ax.xaxis.set_ticks_position('both')\n",
    "        ax.yaxis.set_ticks_position('both')\n",
    "        \n",
    "        ax.add_artist(ScaleBar(1.0, location='lower left', pad=0.5))\n",
    "        ax.annotate('N', size=16, xy=(323800, 4319000), xytext=(323900, 4321000), ha=\"center\", va=\"center\", \n",
    "                    arrowprops=dict(arrowstyle=\"wedge,tail_width=1.5\", facecolor='black'))\n",
    "        \n",
    "#         ax.set_facecolor('whitesmoke')\n",
    "        ax.imshow(\n",
    "            hillshade_snow_on,\n",
    "            extent=sfm_snow_depth.extent,\n",
    "            cmap='gray', clim=(1, 255), alpha=0.25,\n",
    "        )\n",
    "    return fig, axes"
   ]
  },
  {
   "cell_type": "code",
   "execution_count": null,
   "metadata": {},
   "outputs": [],
   "source": [
    "COLORBAR_POSITION = dict(\n",
    "    right=0.90, rect=[0.91, 0.262, 0.022, 0.52],\n",
    ")\n",
    "\n",
    "SFM_UNDER = dict(color='darkorange', alpha=0.4)\n",
    "BLUE_CMAP.set_under(**SFM_UNDER)\n",
    "\n",
    "imshow_opts = dict(\n",
    "    extent=sfm_snow_depth.extent,\n",
    "    norm=colors.BoundaryNorm(\n",
    "        boundaries=bins, ncolors=BLUE_CMAP.N,\n",
    "    ),\n",
    "    cmap=BLUE_CMAP,\n",
    ")"
   ]
  },
  {
   "cell_type": "code",
   "execution_count": null,
   "metadata": {},
   "outputs": [],
   "source": [
    "fig, (ax1, ax2) = area_plot()\n",
    "\n",
    "ax1.imshow(\n",
    "    sfm_snow_depth_values,\n",
    "    **imshow_opts\n",
    ")\n",
    "ax1.annotate('a)', xy=(335600, 4306300), fontsize=20)\n",
    "ax1.add_artist(mpatches.Circle((323000, 4318500), 250, **SFM_UNDER))\n",
    "ax1.annotate('No SfM snow depth', xy=(323400, 4318650), fontsize=14)\n",
    "\n",
    "im_data = ax2.imshow(\n",
    "    aso_snow_depth_values,\n",
    "    **imshow_opts,\n",
    ")\n",
    "ax2.annotate('b)', xy=(335600, 4306300), fontsize=20)\n",
    "cax = PlotBase.insert_colorbar(\n",
    "    ax2, \n",
    "    im_data,\n",
    "    SNOW_DEPTH_LABEL,\n",
    "    ticks=np.arange(0, 5, 1),\n",
    "    labelpad=20,\n",
    "    **COLORBAR_POSITION\n",
    ")\n",
    "\n",
    "del im_data"
   ]
  },
  {
   "cell_type": "code",
   "execution_count": null,
   "metadata": {},
   "outputs": [],
   "source": [
    "CASI_COLORS = ['dodgerblue', 'forestgreen', 'brown', 'orange']"
   ]
  },
  {
   "cell_type": "code",
   "execution_count": null,
   "metadata": {},
   "outputs": [],
   "source": [
    "sd_difference_values = sfm_snow_depth_values - aso_snow_depth_values\n",
    "\n",
    "np.ma.masked_where(\n",
    "    sfm_snow_depth_values <= 0.0,\n",
    "    sd_difference_values,\n",
    "    copy=False\n",
    ")\n",
    "classification_plot = np.ma.masked_where(\n",
    "    sfm_snow_depth_values <= 0.0,\n",
    "    casi_classification,\n",
    ").astype(np.int8);"
   ]
  },
  {
   "cell_type": "code",
   "execution_count": null,
   "metadata": {},
   "outputs": [],
   "source": [
    "bins = np.concatenate((\n",
    "    [math.floor(np.nanmin(sd_difference_values))],\n",
    "    np.arange(-2., 2. + HIST_BIN_WIDTH, HIST_BIN_WIDTH),\n",
    "    [math.ceil(np.nanmax(sd_difference_values))],\n",
    "))\n",
    "imshow_opts = dict(\n",
    "    extent=sfm_snow_depth.extent,\n",
    "    norm=colors.BoundaryNorm(\n",
    "        boundaries=bins, ncolors=RED_BLUE_CMAP.N,\n",
    "    ),\n",
    "    cmap=RED_BLUE_CMAP,\n",
    ")"
   ]
  },
  {
   "cell_type": "code",
   "execution_count": null,
   "metadata": {},
   "outputs": [],
   "source": [
    "fig, (ax1, ax2) = area_plot()\n",
    "fig.subplots_adjust(wspace=.15)\n",
    "\n",
    "im_data = ax1.imshow(\n",
    "    sd_difference_values,     \n",
    "    **imshow_opts\n",
    ")\n",
    "ax1.set_title(\"Snow Depth Differences\")\n",
    "PlotBase.insert_colorbar(ax1, im_data, 'Snow Depth Difference (m)')\n",
    "\n",
    "im_data = ax2.imshow(\n",
    "    classification_plot, \n",
    "    extent=sfm_snow_depth.extent,\n",
    "    cmap=colors.ListedColormap(CASI_COLORS),\n",
    "    alpha=0.8,\n",
    ")\n",
    "ax2.set_title(\"Snow Depth Differences - Classification\")\n",
    "PlotBase.insert_colorbar(ax2, im_data, 'Classification');"
   ]
  },
  {
   "cell_type": "code",
   "execution_count": null,
   "metadata": {},
   "outputs": [],
   "source": [
    "high_elevation = np.ma.masked_where(\n",
    "    dem_values <= 3500,\n",
    "    sd_difference_values,\n",
    ")\n",
    "low_elevation = np.ma.masked_where(\n",
    "    dem_values > 3500,\n",
    "    sd_difference_values,\n",
    ")\n",
    "\n",
    "fig, (ax1, ax2) = area_plot()\n",
    "\n",
    "ax1.imshow(\n",
    "    high_elevation, \n",
    "    **imshow_opts\n",
    ")\n",
    "ax1.set_title(\"Snow Depth Differences - High Elevation >= 3500m\")\n",
    "\n",
    "im_data = ax2.imshow(\n",
    "    low_elevation, \n",
    "    **imshow_opts,\n",
    ")\n",
    "ax2.set_title(\"Snow Depth Differences - Low Elevation < 3500\")\n",
    "\n",
    "PlotBase.insert_colorbar(ax2, im_data, 'Snow Depth Difference (m)', **COLORBAR_POSITION);"
   ]
  },
  {
   "cell_type": "code",
   "execution_count": null,
   "metadata": {},
   "outputs": [],
   "source": [
    "high_elevation = np.ma.masked_where(\n",
    "    np.ma.masked_outside(dem_values, 3100, 3500).mask,\n",
    "    sd_difference_values,\n",
    ")\n",
    "low_elevation = np.ma.masked_where(\n",
    "    np.ma.masked_outside(dem_values, 3800, 3900).mask,\n",
    "    sd_difference_values,\n",
    ")\n",
    "\n",
    "fig, (ax1, ax2) = area_plot()\n",
    "ax1.imshow(\n",
    "    high_elevation, \n",
    "    **imshow_opts\n",
    ")\n",
    "ax1.set_title(\"Snow Depth Differences - 3100m < Elevation < 3200m\")\n",
    "\n",
    "im_data = ax2.imshow(\n",
    "    low_elevation, \n",
    "    **imshow_opts,\n",
    ")\n",
    "ax2.set_title(\"Snow Depth Differences - 3800 < Elevation < 3900\")\n",
    "\n",
    "insert_sd_colorbar(ax2, im_data);"
   ]
  },
  {
   "cell_type": "code",
   "execution_count": null,
   "metadata": {},
   "outputs": [],
   "source": [
    "fig, (ax1, ax2) = area_plot()\n",
    "\n",
    "ax1.imshow(\n",
    "    sd_difference_values, \n",
    "    **imshow_opts\n",
    ")\n",
    "ax1.set_title(\"Snow Depth Differences\")\n",
    "\n",
    "im_data = ax2.imshow(\n",
    "    sfm_snow_free_values - dem_values, \n",
    "    **imshow_opts,\n",
    ")\n",
    "ax2.set_title(\"Snow Free - Reference DEM\")\n",
    "\n",
    "PlotBase.insert_colorbar(ax2, im_data, **COLORBAR_POSITION);"
   ]
  },
  {
   "cell_type": "code",
   "execution_count": null,
   "metadata": {},
   "outputs": [],
   "source": [
    "data = [\n",
    "    {\n",
    "        'data': sfm_snow_free_values - dem_values,\n",
    "        'label': 'SfM snow free - DEM',\n",
    "        'color': 'dodgerblue',\n",
    "    },\n",
    "]\n",
    "\n",
    "with plot_histogram(data, (-6, 6), figsize=(10, 8)) as ax:\n",
    "    ax.set_title('Elevation Differences (SFM snow free - Reference DEM)');"
   ]
  },
  {
   "cell_type": "code",
   "execution_count": null,
   "metadata": {},
   "outputs": [],
   "source": []
  }
 ],
 "metadata": {
  "kernelspec": {
   "display_name": "snow_aso",
   "language": "python",
   "name": "snow_aso"
  },
  "language_info": {
   "codemirror_mode": {
    "name": "ipython",
    "version": 3
   },
   "file_extension": ".py",
   "mimetype": "text/x-python",
   "name": "python",
   "nbconvert_exporter": "python",
   "pygments_lexer": "ipython3",
   "version": "3.8.3"
  }
 },
 "nbformat": 4,
 "nbformat_minor": 4
}
