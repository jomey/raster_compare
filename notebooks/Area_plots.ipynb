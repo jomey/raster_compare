{
 "cells": [
  {
   "cell_type": "code",
   "execution_count": null,
   "metadata": {},
   "outputs": [],
   "source": [
    "from source_files import \\\n",
    "    RESOLUTION, HOME_DIR, SNOW_DEPTH_DIR, CASI_COLORS, \\\n",
    "    aso_snow_depth, sfm_snow_depth, \\\n",
    "    load_aso_depth, load_sfm_depth, \\\n",
    "    load_hillshade, load_classifier_data, \\\n",
    "    load_reference_dem\n",
    "from plot_helpers import *\n",
    "\n",
    "from raster_compare.plots import PlotBase\n",
    "from raster_compare.base import RasterFile\n",
    "\n",
    "import math\n",
    "\n",
    "from matplotlib.patches import Rectangle\n",
    "from matplotlib.collections import PatchCollection"
   ]
  },
  {
   "cell_type": "code",
   "execution_count": null,
   "metadata": {},
   "outputs": [],
   "source": [
    "aso_snow_depth_values = load_aso_depth()\n",
    "sfm_snow_depth_values = load_sfm_depth(aso_snow_depth_values.mask)\n",
    "hillshade = load_hillshade()"
   ]
  },
  {
   "cell_type": "markdown",
   "metadata": {},
   "source": [
    "# Snow Depth Difference"
   ]
  },
  {
   "cell_type": "code",
   "execution_count": null,
   "metadata": {},
   "outputs": [],
   "source": [
    "HIST_BIN_WIDTH = .25\n",
    "bins = np.concatenate((\n",
    "    np.arange(0., 2. + HIST_BIN_WIDTH, HIST_BIN_WIDTH),\n",
    "    [math.ceil(np.nanmax(sfm_snow_depth_values))],\n",
    "))"
   ]
  },
  {
   "cell_type": "code",
   "execution_count": null,
   "metadata": {},
   "outputs": [],
   "source": [
    "AREA_PLOT_OPTS = dict(\n",
    "    nrows=1, ncols=2, sharex=True, sharey=True, figsize=(10,8), dpi=300\n",
    ")\n",
    "\n",
    "COLORBAR_POSITION = dict(\n",
    "    right=0.90, rect=[0.91, 0.217, 0.02, 0.568],\n",
    ")\n",
    "\n",
    "SFM_UNDER = dict(color='indigo', alpha=0.4)\n",
    "BLUE_CMAP.set_under(**SFM_UNDER)\n",
    "\n",
    "imshow_opts = dict(\n",
    "    norm=colors.BoundaryNorm(\n",
    "        boundaries=bins, ncolors=BLUE_CMAP.N,\n",
    "    ),\n",
    "    cmap=BLUE_CMAP,\n",
    ")"
   ]
  },
  {
   "cell_type": "code",
   "execution_count": null,
   "metadata": {},
   "outputs": [],
   "source": [
    "def area_plot():\n",
    "    fig, axes = plt.subplots(**AREA_PLOT_OPTS)\n",
    "\n",
    "    for ax in axes:\n",
    "        ax.set_facecolor('whitesmoke')\n",
    "\n",
    "        ax.imshow(\n",
    "            hillshade,\n",
    "            extent=sfm_snow_depth.extent,\n",
    "            cmap='gray', clim=(1, 255), alpha=0.25,\n",
    "        )\n",
    "        ax.tick_params(axis='both', direction='inout', size=5)\n",
    "        ax.set_xticklabels([])\n",
    "        ax.set_yticklabels([])\n",
    "        \n",
    "    return fig, axes"
   ]
  },
  {
   "cell_type": "code",
   "execution_count": null,
   "metadata": {},
   "outputs": [],
   "source": [
    "fig, (ax1, ax2) = area_plot()\n",
    "\n",
    "ax1.imshow(\n",
    "    sfm_snow_depth_values,\n",
    "    extent=sfm_snow_depth.extent,\n",
    "    **imshow_opts\n",
    ")\n",
    "    \n",
    "ax1.annotate('a)', xy=(335600, 4306300), fontsize=14)\n",
    "ax1.add_artist(mpatches.Circle((323000, 4319750), 250, **SFM_UNDER))\n",
    "ax1.annotate('No SfM snow depth', xy=(323400, 4319950), fontsize=LABEL_SIZE)\n",
    "ax1.add_artist(\n",
    "    ScaleBar(1.0, location='lower left', pad=0.5, scale_loc='top', box_color='none')\n",
    ")\n",
    "ax1.annotate(\n",
    "    'N', size=LABEL_SIZE, \n",
    "    xy=(325500, 4320050), xytext=(325500, 4322000), \n",
    "    ha=\"center\", va=\"center\", \n",
    "    arrowprops=dict(arrowstyle=\"wedge,tail_width=1.25\", facecolor='black')\n",
    ")\n",
    "\n",
    "im_data = ax2.imshow(\n",
    "    aso_snow_depth_values,\n",
    "    extent=aso_snow_depth.extent,\n",
    "    **imshow_opts,\n",
    ")\n",
    "ax2.annotate('b)', xy=(335600, 4306300), fontsize=14)\n",
    "\n",
    "matplotlib.rcParams[\"ytick.major.pad\"] = 2\n",
    "PlotBase.insert_colorbar(\n",
    "    ax2, \n",
    "    im_data,\n",
    "    SNOW_DEPTH_LABEL,\n",
    "    ticks=[0, .5, 1, 1.5, 2],\n",
    "    labelpad=12,\n",
    "    **COLORBAR_POSITION\n",
    ")\n",
    "\n",
    "# Insert zoom figure\n",
    "ax2.add_patch(\n",
    "    Rectangle((327200, 4320470 - 13879), 1000, 1000,  ec='darkred', ls='--', fill=False),\n",
    ")\n",
    "ax2.legend(handles=[\n",
    "    mlines.Line2D([0], [0], label='Figure 4', color='darkred', ls='--'),\n",
    "], loc='lower left', facecolor='none', edgecolor='none')\n",
    "\n",
    "del im_data"
   ]
  },
  {
   "cell_type": "markdown",
   "metadata": {},
   "source": [
    "## Zoom comparison"
   ]
  },
  {
   "cell_type": "code",
   "execution_count": null,
   "metadata": {},
   "outputs": [],
   "source": [
    "rgb_zoom_tif = plt.imread((HOME_DIR / 'ERW_zoom_RGB/ERW_zoom.tif').as_posix())\n",
    "\n",
    "casi_zoom = RasterFile(\n",
    "    SNOW_DEPTH_DIR / f'20180524_ASO_CASI_ERW_basin_{RESOLUTION}_zoom.vrt',\n",
    "    band_number=1\n",
    ")\n",
    "casi_zoom_values = casi_zoom.band_values();"
   ]
  },
  {
   "cell_type": "code",
   "execution_count": null,
   "metadata": {},
   "outputs": [],
   "source": [
    "matplotlib.rcParams['axes.titlesize'] = 8\n",
    "matplotlib.rcParams['axes.titlepad'] = 2\n",
    "matplotlib.rcParams['axes.labelsize'] = 8\n",
    "matplotlib.rcParams['axes.labelpad'] = 0\n",
    "matplotlib.rcParams['xtick.labelsize'] = 0\n",
    "matplotlib.rcParams['ytick.labelsize'] = 0"
   ]
  },
  {
   "cell_type": "code",
   "execution_count": null,
   "metadata": {},
   "outputs": [],
   "source": [
    "def plot_zoom(resolution, ax1, ax2):\n",
    "    ax1.set_facecolor('whitesmoke')\n",
    "    ax2.set_facecolor('whitesmoke')\n",
    "    \n",
    "    aso_snow_depth_zoom = RasterFile(\n",
    "        HOME_DIR / f'{resolution}m/20180524_ASO_snow_depth_{resolution}m_zoom.vrt',\n",
    "        band_number=1\n",
    "    )\n",
    "    aso_snow_depth_zoom_values = aso_snow_depth_zoom.band_values()\n",
    "    aso_snow_depth_zoom_values = np.ma.masked_where(\n",
    "        aso_snow_depth_zoom_values <= 0.0,\n",
    "        aso_snow_depth_zoom_values,\n",
    "        copy=False\n",
    "    )\n",
    "\n",
    "    sfm_snow_depth_zoom = RasterFile(\n",
    "        HOME_DIR / f'{resolution}m/20180524_Agisoft_snow_depth_{resolution}m_zoom.vrt',\n",
    "        band_number=1\n",
    "    )\n",
    "    sfm_snow_depth_zoom_values = np.ma.masked_where(\n",
    "        aso_snow_depth_zoom_values.mask,\n",
    "        sfm_snow_depth_zoom.band_values(),\n",
    "        copy=False\n",
    "    )\n",
    "    \n",
    "    ax1.imshow(\n",
    "        sfm_snow_depth_zoom_values,\n",
    "        extent=sfm_snow_depth_zoom.extent,\n",
    "        **imshow_opts\n",
    "    )\n",
    "    ax1.set_ylabel(f' {resolution}m Resolution')\n",
    "    \n",
    "    return ax2.imshow(\n",
    "        aso_snow_depth_zoom_values,\n",
    "        extent=aso_snow_depth_zoom.extent,\n",
    "        **imshow_opts\n",
    "    )\n"
   ]
  },
  {
   "cell_type": "code",
   "execution_count": null,
   "metadata": {},
   "outputs": [],
   "source": [
    "fig = plt.figure(dpi=300)\n",
    "grid_spec = fig.add_gridspec(\n",
    "    nrows=1, ncols=2, wspace=0.05, width_ratios=[0.6, 0.3]\n",
    ")\n",
    "\n",
    "cell_grid = grid_spec[0].subgridspec(2, 2, wspace=0.02, hspace=.1)\n",
    "ax_1_1 = fig.add_subplot(cell_grid[0, 0])\n",
    "ax_1_2 = fig.add_subplot(cell_grid[0, 1:])\n",
    "ax_2_1 = fig.add_subplot(cell_grid[1, 0])\n",
    "ax_2_2 = fig.add_subplot(cell_grid[1, 1:])\n",
    "\n",
    "im_data = plot_zoom(3, ax_1_1, ax_1_2)\n",
    "ax_1_1.set_title('SfM')\n",
    "ax_1_2.set_title('ASO')\n",
    "\n",
    "plot_zoom(50, ax_2_1, ax_2_2)\n",
    "\n",
    "cell_grid = grid_spec[1].subgridspec(2, 1, wspace=0.02, hspace=.1)\n",
    "ax1 = fig.add_subplot(cell_grid[0, 0])\n",
    "ax2 = fig.add_subplot(cell_grid[1, 0])\n",
    "\n",
    "ax1.imshow(\n",
    "    casi_zoom_values, \n",
    "    extent=casi_zoom.extent,\n",
    "    cmap=colors.ListedColormap(CASI_COLORS),\n",
    "    alpha=0.8,\n",
    ")\n",
    "ax1.set_title('Classification')\n",
    "\n",
    "ax2.imshow(\n",
    "    rgb_zoom_tif,\n",
    "    extent=casi_zoom.extent,\n",
    ")\n",
    "ax2.set_title('Orthomosaic', pad=-4)\n",
    "\n",
    "for ax in fig.get_axes():\n",
    "    ax.tick_params(axis='both', direction='inout', size=5)\n",
    "    ax.set_xticklabels([])\n",
    "    ax.set_yticklabels([])"
   ]
  },
  {
   "cell_type": "markdown",
   "metadata": {},
   "source": [
    "## CASI Classification "
   ]
  },
  {
   "cell_type": "code",
   "execution_count": null,
   "metadata": {},
   "outputs": [],
   "source": [
    "classifier_data = load_classifier_data(aso_snow_depth_values.mask)\n",
    "sd_difference_values = sfm_snow_depth_values - aso_snow_depth_values\n",
    "\n",
    "np.ma.masked_where(\n",
    "    sfm_snow_depth_values <= 0.0,\n",
    "    sd_difference_values,\n",
    "    copy=False\n",
    ")\n",
    "classification_plot = np.ma.masked_where(\n",
    "    sfm_snow_depth_values <= 0.0,\n",
    "    classifier_data,\n",
    ").astype(np.int8);"
   ]
  },
  {
   "cell_type": "code",
   "execution_count": null,
   "metadata": {},
   "outputs": [],
   "source": [
    "bins = np.concatenate((\n",
    "    [math.floor(np.nanmin(sd_difference_values))],\n",
    "    np.arange(-2., 2. + HIST_BIN_WIDTH, HIST_BIN_WIDTH),\n",
    "    [math.ceil(np.nanmax(sd_difference_values))],\n",
    "))\n",
    "imshow_opts = dict(\n",
    "    extent=sfm_snow_depth.extent,\n",
    "    norm=colors.BoundaryNorm(\n",
    "        boundaries=bins, ncolors=RED_BLUE_CMAP.N,\n",
    "    ),\n",
    "    cmap=RED_BLUE_CMAP,\n",
    ")"
   ]
  },
  {
   "cell_type": "code",
   "execution_count": null,
   "metadata": {},
   "outputs": [],
   "source": [
    "fig, (ax1, ax2) = area_plot()\n",
    "fig.subplots_adjust(wspace=.15)\n",
    "\n",
    "im_data = ax1.imshow(\n",
    "    sd_difference_values,     \n",
    "    **imshow_opts\n",
    ")\n",
    "ax1.set_title(\"Snow Depth Differences\")\n",
    "PlotBase.insert_colorbar(ax1, im_data, 'Snow Depth Difference (m)')\n",
    "\n",
    "im_data = ax2.imshow(\n",
    "    classification_plot, \n",
    "    extent=sfm_snow_depth.extent,\n",
    "    cmap=colors.ListedColormap(CASI_COLORS),\n",
    "    alpha=0.8,\n",
    ")\n",
    "ax2.set_title(\"Snow Depth Differences - Classification\")\n",
    "PlotBase.insert_colorbar(ax2, im_data, 'Classification');"
   ]
  },
  {
   "cell_type": "code",
   "execution_count": null,
   "metadata": {},
   "outputs": [],
   "source": [
    "dem, dem_values = load_reference_dem(aso_snow_depth_values.mask)"
   ]
  },
  {
   "cell_type": "code",
   "execution_count": null,
   "metadata": {},
   "outputs": [],
   "source": [
    "high_elevation = np.ma.masked_where(\n",
    "    np.ma.masked_outside(dem_values, 3100, 3500).mask,\n",
    "    sd_difference_values,\n",
    ")\n",
    "low_elevation = np.ma.masked_where(\n",
    "    np.ma.masked_outside(dem_values, 3800, 3900).mask,\n",
    "    sd_difference_values,\n",
    ")\n",
    "\n",
    "fig, (ax1, ax2) = area_plot()\n",
    "ax1.imshow(\n",
    "    high_elevation, \n",
    "    **imshow_opts\n",
    ")\n",
    "ax1.set_title(\"Snow Depth Differences - 3100m < Elevation < 3200m\")\n",
    "\n",
    "im_data = ax2.imshow(\n",
    "    low_elevation, \n",
    "    **imshow_opts,\n",
    ")\n",
    "ax2.set_title(\"Snow Depth Differences - 3800 < Elevation < 3900\")\n",
    "\n",
    "PlotBase.insert_colorbar(ax2, im_data, r'$\\Delta$ Snow Depth (m)', **COLORBAR_POSITION);"
   ]
  },
  {
   "cell_type": "code",
   "execution_count": null,
   "metadata": {},
   "outputs": [],
   "source": [
    "fig, (ax1, ax2) = area_plot()\n",
    "\n",
    "ax1.imshow(\n",
    "    sd_difference_values, \n",
    "    **imshow_opts\n",
    ")\n",
    "ax1.set_title(\"Snow Depth Differences\")\n",
    "\n",
    "im_data = ax2.imshow(\n",
    "    sfm_snow_free_values - dem_values, \n",
    "    **imshow_opts,\n",
    ")\n",
    "ax2.set_title(\"Snow Free - Reference DEM\")\n",
    "\n",
    "PlotBase.insert_colorbar(ax2, im_data, **COLORBAR_POSITION);"
   ]
  },
  {
   "cell_type": "code",
   "execution_count": null,
   "metadata": {},
   "outputs": [],
   "source": [
    "data = [\n",
    "    {\n",
    "        'data': sfm_snow_free_values - dem_values,\n",
    "        'label': 'SfM snow free - DEM',\n",
    "        'color': 'dodgerblue',\n",
    "    },\n",
    "]\n",
    "\n",
    "with plot_histogram(data, (-6, 6), figsize=(10, 8)) as ax:\n",
    "    ax.set_title('Elevation Differences (SFM snow free - Reference DEM)');"
   ]
  },
  {
   "cell_type": "code",
   "execution_count": null,
   "metadata": {},
   "outputs": [],
   "source": []
  }
 ],
 "metadata": {
  "language_info": {
   "name": "python"
  }
 },
 "nbformat": 4,
 "nbformat_minor": 4
}
