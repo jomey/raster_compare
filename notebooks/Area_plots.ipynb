{
 "cells": [
  {
   "cell_type": "code",
   "execution_count": null,
   "metadata": {},
   "outputs": [],
   "source": [
    "from extended_source_files import *\n",
    "from plot_helpers import *\n",
    "\n",
    "from raster_compare.plots import PlotBase\n",
    "\n",
    "import math"
   ]
  },
  {
   "cell_type": "code",
   "execution_count": null,
   "metadata": {},
   "outputs": [],
   "source": [
    "mask_to_snow_depth()"
   ]
  },
  {
   "cell_type": "markdown",
   "metadata": {},
   "source": [
    "# Snow Depth Difference"
   ]
  },
  {
   "cell_type": "code",
   "execution_count": null,
   "metadata": {},
   "outputs": [],
   "source": [
    "COLORMAP = PlotColor.mpl_colormap\n",
    "\n",
    "CASI_COLORS = ['dodgerblue', 'forestgreen', 'brown', 'orange']\n",
    "\n",
    "AREA_PLOT_OPTS = dict(\n",
    "    nrows=1, ncols=2, sharex=True, sharey=True, figsize=(16,12)\n",
    ")\n",
    "\n",
    "def area_plot():\n",
    "    fig, axes = plt.subplots(**AREA_PLOT_OPTS)\n",
    "\n",
    "    for ax in axes:\n",
    "        ax.tick_params(axis='both', direction='inout', length=7)\n",
    "        ax.xaxis.set_ticks_position('both')\n",
    "        ax.yaxis.set_ticks_position('both')\n",
    "        \n",
    "        ax.set_facecolor('whitesmoke')\n",
    "        ax.imshow(\n",
    "            hillshade_snow_on,\n",
    "            extent=sfm_snow_depth.extent,\n",
    "            cmap='gray', clim=(1, 255), alpha=0.3,\n",
    "        )\n",
    "    return fig, axes\n",
    "\n",
    "def insert_sd_colorbar(ax, data):\n",
    "    PlotBase.insert_colorbar(\n",
    "        ax, data, \n",
    "        'Snow Depth Difference (m)', \n",
    "        right=0.90, rect=[0.91, 0.22, 0.022, 0.608]\n",
    "    )"
   ]
  },
  {
   "cell_type": "code",
   "execution_count": null,
   "metadata": {},
   "outputs": [],
   "source": [
    "np.ma.masked_where(\n",
    "    sfm_snow_depth_values <= 0.0,\n",
    "    sd_difference_values,\n",
    "    copy=False\n",
    ")\n",
    "plot_data = sd_difference_values[np.isfinite(sd_difference_values)]\n",
    "\n",
    "classification_plot = np.ma.masked_where(\n",
    "    np.isfinite(sd_difference_values).mask,\n",
    "    casi_classification,\n",
    ").astype(np.int8);"
   ]
  },
  {
   "cell_type": "code",
   "execution_count": null,
   "metadata": {},
   "outputs": [],
   "source": [
    "HIST_BIN_WIDTH = .10\n",
    "bins = np.concatenate((\n",
    "    [math.floor(plot_data.min())],\n",
    "    np.arange(-2., 2. + HIST_BIN_WIDTH, HIST_BIN_WIDTH),\n",
    "    [math.ceil(plot_data.max())],\n",
    "))\n",
    "imshow_opts = dict(\n",
    "    extent=sfm_snow_depth.extent,\n",
    "    norm=colors.BoundaryNorm(\n",
    "        boundaries=bins, ncolors=COLORMAP.N,\n",
    "    ),\n",
    "    cmap=COLORMAP,\n",
    ")"
   ]
  },
  {
   "cell_type": "code",
   "execution_count": null,
   "metadata": {},
   "outputs": [],
   "source": [
    "fig, (ax1, ax2) = area_plot()\n",
    "fig.subplots_adjust(wspace=.15)\n",
    "\n",
    "im_data = ax1.imshow(\n",
    "    sd_difference_values,     \n",
    "    **imshow_opts\n",
    ")\n",
    "ax1.set_title(\"Snow Depth Differences\")\n",
    "PlotBase.insert_colorbar(ax1, im_data, 'Snow Depth Difference (m)')\n",
    "\n",
    "im_data = ax2.imshow(\n",
    "    classification_plot, \n",
    "    extent=sfm_snow_depth.extent,\n",
    "    cmap=colors.ListedColormap(CASI_COLORS),\n",
    "    alpha=0.8,\n",
    ")\n",
    "ax2.set_title(\"Snow Depth Differences - Classification\")\n",
    "PlotBase.insert_colorbar(ax2, im_data, 'Classification');"
   ]
  },
  {
   "cell_type": "code",
   "execution_count": null,
   "metadata": {},
   "outputs": [],
   "source": [
    "high_elevation = np.ma.masked_where(\n",
    "    dem_values <= 3500,\n",
    "    sd_difference_values,\n",
    ")\n",
    "low_elevation = np.ma.masked_where(\n",
    "    dem_values > 3500,\n",
    "    sd_difference_values,\n",
    ")\n",
    "\n",
    "fig, (ax1, ax2) = area_plot()\n",
    "\n",
    "ax1.imshow(\n",
    "    high_elevation, \n",
    "    **imshow_opts\n",
    ")\n",
    "ax1.set_title(\"Snow Depth Differences - High Elevation >= 3500m\")\n",
    "\n",
    "im_data = ax2.imshow(\n",
    "    low_elevation, \n",
    "    **imshow_opts,\n",
    ")\n",
    "ax2.set_title(\"Snow Depth Differences - Low Elevation < 3500\")\n",
    "\n",
    "insert_sd_colorbar(ax2, im_data);"
   ]
  },
  {
   "cell_type": "code",
   "execution_count": null,
   "metadata": {},
   "outputs": [],
   "source": [
    "high_elevation = np.ma.masked_where(\n",
    "    np.ma.masked_outside(dem_values, 3100, 3200).mask,\n",
    "    sd_difference_values,\n",
    ")\n",
    "low_elevation = np.ma.masked_where(\n",
    "    np.ma.masked_outside(dem_values, 3800, 3900).mask,\n",
    "    sd_difference_values,\n",
    ")\n",
    "\n",
    "fig, (ax1, ax2) = area_plot()\n",
    "ax1.imshow(\n",
    "    high_elevation, \n",
    "    **imshow_opts\n",
    ")\n",
    "ax1.set_title(\"Snow Depth Differences - 3100m < Elevation < 3200m\")\n",
    "\n",
    "im_data = ax2.imshow(\n",
    "    low_elevation, \n",
    "    **imshow_opts,\n",
    ")\n",
    "ax2.set_title(\"Snow Depth Differences - 3800 < Elevation < 3900\")\n",
    "\n",
    "insert_sd_colorbar(ax2, im_data);"
   ]
  },
  {
   "cell_type": "code",
   "execution_count": null,
   "metadata": {},
   "outputs": [],
   "source": [
    "fig, (ax1, ax2) = area_plot()\n",
    "\n",
    "ax1.imshow(\n",
    "    sd_difference_values, \n",
    "    **imshow_opts\n",
    ")\n",
    "ax1.set_title(\"Snow Depth Differences\")\n",
    "\n",
    "im_data = ax2.imshow(\n",
    "    sfm_snow_free_values - dem_values, \n",
    "    **imshow_opts,\n",
    ")\n",
    "ax2.set_title(\"Snow Free - Reference DEM\")\n",
    "\n",
    "insert_sd_colorbar(ax2, im_data);"
   ]
  },
  {
   "cell_type": "code",
   "execution_count": null,
   "metadata": {},
   "outputs": [],
   "source": [
    "data = [\n",
    "    {\n",
    "        'data': sfm_snow_free_values - dem_values,\n",
    "        'label': 'SfM snow free - DEM',\n",
    "        'color': 'dodgerblue',\n",
    "    },\n",
    "]\n",
    "\n",
    "ax = plot_histogram(data, (-6, 6), figsize=(10, 8))\n",
    "ax.set_title('Elevation Differences (SFM snow free - Reference DEM)');"
   ]
  }
 ],
 "metadata": {
  "kernelspec": {
   "display_name": "Python [conda env:raster_compare]",
   "language": "python",
   "name": "conda-env-raster_compare-py"
  },
  "language_info": {
   "codemirror_mode": {
    "name": "ipython",
    "version": 3
   },
   "file_extension": ".py",
   "mimetype": "text/x-python",
   "name": "python",
   "nbconvert_exporter": "python",
   "pygments_lexer": "ipython3",
   "version": "3.8.2"
  }
 },
 "nbformat": 4,
 "nbformat_minor": 4
}
