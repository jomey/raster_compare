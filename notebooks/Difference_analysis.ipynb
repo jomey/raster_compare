{
 "cells": [
  {
   "cell_type": "code",
   "execution_count": null,
   "metadata": {},
   "outputs": [],
   "source": [
    "from source_files import *\n",
    "from plot_helpers import *\n",
    "from raster_compare.base import RasterFile\n",
    "from raster_compare.plots import PlotBase\n",
    "\n",
    "import math\n",
    "import pandas as pd"
   ]
  },
  {
   "cell_type": "markdown",
   "metadata": {},
   "source": [
    "Source files were masked to only ERW watershed boundaries. No mask need to be applied here."
   ]
  },
  {
   "cell_type": "code",
   "execution_count": null,
   "metadata": {},
   "outputs": [],
   "source": [
    "sfm_snow_free = RasterFile(SFM_SNOW_FREE, band_number=3)\n",
    "sfm_snow_free_values = sfm_snow_free.band_values()\n",
    "\n",
    "sfm_snow_on = RasterFile(SFM_SNOW_ON, band_number=3)\n",
    "sfm_snow_on_values = sfm_snow_on.band_values()\n",
    "\n",
    "sd_difference_values = sfm_snow_depth_values - aso_snow_depth_values\n",
    "\n",
    "dem = RasterFile(DEM_SNOW_FREE, band_number=1)\n",
    "dem_values = dem.band_values()\n",
    "\n",
    "HILLSHADE_SNOW_ON_AZIMUTH = 100\n",
    "HILLSHADE_SNOW_FREE_AZIMUTH = 247\n",
    "\n",
    "hillshade_snow_on = dem.hill_shade(azimuth=100, altitude=47)\n",
    "hillshade_snow_free =  dem.hill_shade(azimuth=247, altitude=32)\n",
    "\n",
    "for values in [sfm_snow_free_values, sfm_snow_on_values, sd_difference_values, dem_values]:\n",
    "    np.ma.masked_where(aso_snow_depth_values.mask, values, copy=False)\n",
    "\n",
    "assert aso_snow_depth.geo_transform == dem.geo_transform\n",
    "assert aso_snow_depth.geo_transform == sfm_snow_free.geo_transform == sfm_snow_on.geo_transform"
   ]
  },
  {
   "cell_type": "markdown",
   "metadata": {},
   "source": [
    "# Analysis"
   ]
  },
  {
   "cell_type": "code",
   "execution_count": null,
   "metadata": {},
   "outputs": [],
   "source": [
    "df = pd.DataFrame({\n",
    "        'aso_snow_depth': aso_snow_depth_values.ravel(),\n",
    "        'sfm_snow_depth': sfm_snow_depth_values.ravel(),\n",
    "        'sd_difference': sd_difference_values.ravel(),\n",
    "        'elevation': dem_values.ravel(),\n",
    "        'slope': dem.slope.ravel(),\n",
    "        'aspect': dem.aspect.ravel(),\n",
    "        'hillshade_snow_on': hillshade_snow_on.ravel(),\n",
    "        'hillshade_snow_free': hillshade_snow_free.ravel(),\n",
    "        'casi_class': casi_classification.ravel(),\n",
    "    },\n",
    "    dtype='float32'\n",
    ")"
   ]
  },
  {
   "cell_type": "code",
   "execution_count": null,
   "metadata": {},
   "outputs": [],
   "source": [
    "df.dropna(inplace=True)\n",
    "df['elevation'] = df['elevation'].astype('int16')\n",
    "df['slope'] = df['slope'].astype('int16')\n",
    "df['aspect'] = df['aspect'].astype('int16')\n",
    "df['hillshade_snow_on'] = df['hillshade_snow_on'].astype('int16')\n",
    "df['hillshade_snow_free'] = df['hillshade_snow_free'].astype('int16')\n",
    "df['casi_class'] = pd.cut(df['casi_class'], CASI_MAPPING, labels=CASI_CLASSES)\n",
    "\n",
    "positive_sfm = df.query('sfm_snow_depth >= 0')\n",
    "negative_sfm = df.query('sfm_snow_depth < 0')"
   ]
  },
  {
   "cell_type": "markdown",
   "metadata": {},
   "source": [
    "## Snow depth by elevation (positive SfM values)\n",
    "\n",
    "**Snow Depth binning**\n",
    "* 0.1 m from 0 to 15 m\n",
    "* 0.5 m from 15 m to 50 m"
   ]
  },
  {
   "cell_type": "code",
   "execution_count": null,
   "metadata": {},
   "outputs": [],
   "source": [
    "bins = np.concatenate((\n",
    "    np.arange(0, 15.10, 0.10),\n",
    "    np.arange(15, 50, 0.5),\n",
    "    [math.ceil(positive_sfm.sfm_snow_depth.max())]\n",
    "))\n",
    "\n",
    "elevation_bands = 10\n",
    "elevation_min = df.elevation.min() - df.elevation.min() % elevation_bands\n",
    "elevation_max = df.elevation.max() + (elevation_bands - df.elevation.max() % elevation_bands)\n",
    "elevation_range = np.arange(elevation_min, elevation_max + elevation_bands, elevation_bands)\n",
    "\n",
    "hist_opts = dict(\n",
    "    bins=[bins, elevation_range],\n",
    "    vmin=0,\n",
    "    vmax=150,\n",
    "    cmin=1,\n",
    ")\n",
    "\n",
    "COLOR_BAR_ATTR = dict(right=0.9, rect=[0.91, 0.125, 0.02, 0.795])\n",
    "HIST2D_PLOT = dict(ncols=2, sharey=True, sharex=True, figsize=(18,10))\n",
    "\n",
    "def plot_hist2d(ax, x_data, y_data, title, **kwargs):\n",
    "    ax.set_facecolor('whitesmoke')\n",
    "    if len(title) > 0:\n",
    "        ax.set_xlabel(SNOW_DEPTH_LABEL)\n",
    "        ax.set_title(title)\n",
    "    ax.set_xlim(left=-.2)\n",
    "\n",
    "    return ax.hist2d(x_data, y_data, **kwargs)"
   ]
  },
  {
   "cell_type": "code",
   "execution_count": null,
   "metadata": {},
   "outputs": [],
   "source": [
    "fig, (ax1, ax2) = plt.subplots(**HIST2D_PLOT)\n",
    "\n",
    "h1 = plot_hist2d(\n",
    "    ax1,\n",
    "    positive_sfm['sfm_snow_depth'],\n",
    "    positive_sfm['elevation'],\n",
    "    'SfM',\n",
    "    **hist_opts,\n",
    ")\n",
    "ax1.set_ylabel(ELEVATION_LABEL)\n",
    "\n",
    "h2 = plot_hist2d(\n",
    "    ax2,\n",
    "    positive_sfm['aso_snow_depth'],\n",
    "    positive_sfm['elevation'],\n",
    "    'ASO',\n",
    "    **hist_opts,\n",
    ")\n",
    "PlotBase.insert_colorbar(ax2, h2[3], 'count', **COLOR_BAR_ATTR);"
   ]
  },
  {
   "cell_type": "code",
   "execution_count": null,
   "metadata": {},
   "outputs": [],
   "source": [
    "fig, (ax1, ax2) = plt.subplots(**HIST2D_PLOT)\n",
    "\n",
    "bin_count_sum = np.count_nonzero(~np.isnan(h1[0].T), axis=1)\n",
    "ax1.axhline(y=3500, color='orange', linestyle='--')\n",
    "ax1.scatter(bin_count_sum, elevation_range[:-1])\n",
    "ax1.set_ylabel(ELEVATION_LABEL)\n",
    "ax1.set_xlabel('Number of bins')\n",
    "\n",
    "bin_count_sum = np.count_nonzero(~np.isnan(h2[0].T), axis=1)\n",
    "ax2.axhline(y=3500, color='orange', linestyle='--')\n",
    "ax2.scatter(bin_count_sum, elevation_range[:-1])\n",
    "ax2.set_xlabel('Number of bins')\n",
    "\n",
    "plt.suptitle('Bin count per elevation band', fontsize=16)\n",
    "ax1.set_xlim(left=0);"
   ]
  },
  {
   "cell_type": "code",
   "execution_count": null,
   "metadata": {},
   "outputs": [],
   "source": [
    "condition = (positive_sfm.casi_class == 'Vegetation')\n",
    "fig, (ax1, ax2) = plt.subplots(**HIST2D_PLOT)\n",
    "\n",
    "h1 = plot_hist2d(\n",
    "    ax1,\n",
    "    positive_sfm[condition]['sfm_snow_depth'],\n",
    "    positive_sfm[condition]['elevation'],\n",
    "    'SfM',\n",
    "    **hist_opts,\n",
    ")\n",
    "ax1.set_ylabel(ELEVATION_LABEL)\n",
    "\n",
    "h2 = plot_hist2d(\n",
    "    ax2,\n",
    "    positive_sfm[condition]['aso_snow_depth'],\n",
    "    positive_sfm[condition]['elevation'],\n",
    "    'ASO',\n",
    "    **hist_opts,\n",
    ")\n",
    "\n",
    "plt.suptitle('Snow Depth in Vegetation')\n",
    "PlotBase.insert_colorbar(ax2, h2[3], 'count', **COLOR_BAR_ATTR);"
   ]
  },
  {
   "cell_type": "code",
   "execution_count": null,
   "metadata": {},
   "outputs": [],
   "source": [
    "condition = (positive_sfm.casi_class != 'Vegetation')\n",
    "fig, (ax1, ax2) = plt.subplots(**HIST2D_PLOT)\n",
    "\n",
    "h1 = plot_hist2d(\n",
    "    ax1,\n",
    "    positive_sfm[condition]['sfm_snow_depth'],\n",
    "    positive_sfm[condition]['elevation'],\n",
    "    'SfM',\n",
    "    **hist_opts,\n",
    ")\n",
    "ax1.set_ylabel(ELEVATION_LABEL)\n",
    "\n",
    "\n",
    "h2 = plot_hist2d(\n",
    "    ax2,\n",
    "    positive_sfm[condition]['aso_snow_depth'],\n",
    "    positive_sfm[condition]['elevation'],\n",
    "    'ASO',\n",
    "    **hist_opts,\n",
    ")\n",
    "plt.suptitle('Snow Depth in Open Areas')\n",
    "PlotBase.insert_colorbar(ax2, h2[3], 'count', **COLOR_BAR_ATTR);"
   ]
  },
  {
   "cell_type": "markdown",
   "metadata": {},
   "source": [
    "# Snow Depth Difference"
   ]
  },
  {
   "cell_type": "code",
   "execution_count": null,
   "metadata": {},
   "outputs": [],
   "source": [
    "HIST_BIN_WIDTH = .10\n",
    "COLORMAP = PlotColor.mpl_colormap\n",
    "\n",
    "CASI_COLORS = ['dodgerblue', 'forestgreen', 'brown', 'orange']\n",
    "COLOR_BAR_ATTR = dict(right=0.90, rect=[0.91, 0.22, 0.022, 0.608])"
   ]
  },
  {
   "cell_type": "code",
   "execution_count": null,
   "metadata": {},
   "outputs": [],
   "source": [
    "np.ma.masked_where(\n",
    "    sfm_snow_depth_values <= 0.0,\n",
    "    sd_difference_values,\n",
    "    copy=False\n",
    ")\n",
    "plot_data = sd_difference_values[np.isfinite(sd_difference_values)]\n",
    "\n",
    "classification_plot = np.ma.masked_where(\n",
    "    np.isfinite(sd_difference_values).mask,\n",
    "    casi_classification,\n",
    ").astype(np.int8);"
   ]
  },
  {
   "cell_type": "code",
   "execution_count": null,
   "metadata": {},
   "outputs": [],
   "source": [
    "bins = np.concatenate((\n",
    "    [math.floor(plot_data.min())],\n",
    "    np.arange(-2., 2. + HIST_BIN_WIDTH, HIST_BIN_WIDTH),\n",
    "    [math.ceil(plot_data.max())],\n",
    "))\n",
    "bounds = dict(\n",
    "    norm=colors.BoundaryNorm(\n",
    "        boundaries=bins, ncolors=COLORMAP.N,\n",
    "    ),\n",
    "    cmap=COLORMAP,\n",
    ")"
   ]
  },
  {
   "cell_type": "code",
   "execution_count": null,
   "metadata": {},
   "outputs": [],
   "source": [
    "fig, (ax1, ax2) = plt.subplots(1, 2, sharey=True, figsize=(24,20))\n",
    "\n",
    "ax1.set_facecolor('whitesmoke')\n",
    "ax1.imshow(\n",
    "    hillshade_snow_on,\n",
    "    extent=sfm_snow_depth.extent,\n",
    "    cmap='gray', clim=(1, 255), alpha=0.3,\n",
    ")\n",
    "im_data = ax1.imshow(\n",
    "    sd_difference_values, \n",
    "    extent=sfm_snow_depth.extent,\n",
    "    **bounds\n",
    ")\n",
    "ax1.set_title(\"Snow Depth Differences\")\n",
    "PlotBase.insert_colorbar(ax1, im_data, 'Snow Depth Difference')\n",
    "\n",
    "ax2.imshow(\n",
    "    hillshade_snow_on,\n",
    "    extent=sfm_snow_depth.extent,\n",
    "    cmap='gray', clim=(1, 255), alpha=0.3,\n",
    ")\n",
    "ax2.set_facecolor('whitesmoke')\n",
    "im_data = ax2.imshow(\n",
    "    classification_plot, \n",
    "    extent=sfm_snow_depth.extent,\n",
    "    cmap=colors.ListedColormap(CASI_COLORS),\n",
    "    alpha=0.8,\n",
    ")\n",
    "ax2.set_title(\"Snow Depth Differences - Classification\")\n",
    "PlotBase.insert_colorbar(ax2, im_data, 'Classification');"
   ]
  },
  {
   "cell_type": "code",
   "execution_count": null,
   "metadata": {},
   "outputs": [],
   "source": [
    "high_elevation = np.ma.masked_where(\n",
    "    dem_values <= 3500,\n",
    "    sd_difference_values,\n",
    ")\n",
    "low_elevation = np.ma.masked_where(\n",
    "    dem_values > 3500,\n",
    "    sd_difference_values,\n",
    ")\n",
    "\n",
    "fig, (ax1, ax2) = plt.subplots(\n",
    "    1, 2, \n",
    "    sharey=True, \n",
    "    figsize=(24,18),\n",
    ")\n",
    "\n",
    "ax1.set_facecolor('whitesmoke')\n",
    "ax1.imshow(\n",
    "    hillshade_snow_on,\n",
    "    extent=sfm_snow_depth.extent,\n",
    "    cmap='gray', clim=(1, 255), alpha=0.3,\n",
    ")\n",
    "im_data = ax1.imshow(\n",
    "    high_elevation, \n",
    "    extent=sfm_snow_depth.extent,\n",
    "    **bounds\n",
    ")\n",
    "ax1.set_title(\"Snow Depth Differences - High Elevation >= 3500m\")\n",
    "\n",
    "ax2.set_facecolor('whitesmoke')\n",
    "ax2.imshow(\n",
    "    hillshade_snow_on,\n",
    "    extent=sfm_snow_depth.extent,\n",
    "    cmap='gray', clim=(1, 255), alpha=0.3,\n",
    ")\n",
    "im_data = ax2.imshow(\n",
    "    low_elevation, \n",
    "    extent=sfm_snow_depth.extent,\n",
    "    **bounds,\n",
    ")\n",
    "ax2.set_title(\"Snow Depth Differences - Low Elevation < 3500\")\n",
    "\n",
    "PlotBase.insert_colorbar(\n",
    "    ax2, im_data, 'Snow Depth Difference', **COLOR_BAR_ATTR\n",
    ");"
   ]
  },
  {
   "cell_type": "code",
   "execution_count": null,
   "metadata": {},
   "outputs": [],
   "source": [
    "high_elevation = np.ma.masked_where(\n",
    "    np.ma.masked_outside(dem_values, 3100, 3200).mask,\n",
    "    sd_difference_values,\n",
    ")\n",
    "low_elevation = np.ma.masked_where(\n",
    "    np.ma.masked_outside(dem_values, 3800, 3900).mask,\n",
    "    sd_difference_values,\n",
    ")\n",
    "\n",
    "fig, (ax1, ax2) = plt.subplots(\n",
    "    1, 2, \n",
    "    sharey=True, \n",
    "    figsize=(24,18),\n",
    ")\n",
    "\n",
    "ax1.set_facecolor('whitesmoke')\n",
    "ax1.imshow(\n",
    "    hillshade_snow_free,\n",
    "    extent=sfm_snow_depth.extent,\n",
    "    cmap='gray', clim=(1, 255), alpha=0.3,\n",
    ")\n",
    "im_data = ax1.imshow(\n",
    "    high_elevation, \n",
    "    extent=sfm_snow_depth.extent,\n",
    "    **bounds\n",
    ")\n",
    "ax1.set_title(\"Snow Depth Differences - 3100m < Elevation < 3200m\")\n",
    "\n",
    "ax2.set_facecolor('whitesmoke')\n",
    "ax2.imshow(\n",
    "    hillshade_snow_free,\n",
    "    extent=sfm_snow_depth.extent,\n",
    "    cmap='gray', clim=(1, 255), alpha=0.3,\n",
    ")\n",
    "im_data = ax2.imshow(\n",
    "    low_elevation, \n",
    "    extent=sfm_snow_depth.extent,\n",
    "    **bounds,\n",
    ")\n",
    "ax2.set_title(\"Snow Depth Differences - 3800 < Elevation < 3900\")\n",
    "\n",
    "PlotBase.insert_colorbar(\n",
    "    ax2, im_data, 'Snow Depth Difference', **COLOR_BAR_ATTR\n",
    ");"
   ]
  },
  {
   "cell_type": "code",
   "execution_count": null,
   "metadata": {},
   "outputs": [],
   "source": [
    "fig, (ax1, ax2) = plt.subplots(\n",
    "    1, 2, \n",
    "    sharey=True, \n",
    "    figsize=(24,18),\n",
    ")\n",
    "\n",
    "ax1.set_facecolor('whitesmoke')\n",
    "ax1.imshow(\n",
    "    hillshade_snow_free,\n",
    "    extent=sfm_snow_depth.extent,\n",
    "    cmap='gray', clim=(1, 255), alpha=0.3,\n",
    ")\n",
    "im_data = ax1.imshow(\n",
    "    sd_difference_values, \n",
    "    extent=sfm_snow_depth.extent,\n",
    "    **bounds\n",
    ")\n",
    "ax1.set_title(\"Snow Depth Differences\")\n",
    "\n",
    "ax2.set_facecolor('whitesmoke')\n",
    "ax2.imshow(\n",
    "    hillshade_snow_free,\n",
    "    extent=sfm_snow_depth.extent,\n",
    "    cmap='gray', clim=(1, 255), alpha=0.3,\n",
    ")\n",
    "im_data = ax2.imshow(\n",
    "    sfm_snow_free_values - dem_values, \n",
    "    extent=sfm_snow_depth.extent,\n",
    "    **bounds,\n",
    ")\n",
    "ax2.set_title(\"Snow Free - Reference DEM\")\n",
    "\n",
    "PlotBase.insert_colorbar(\n",
    "    ax2, im_data, 'Snow Depth Difference', **COLOR_BAR_ATTR\n",
    ");"
   ]
  },
  {
   "cell_type": "code",
   "execution_count": null,
   "metadata": {},
   "outputs": [],
   "source": [
    "data = [\n",
    "    {\n",
    "        'data': sfm_snow_free_values - dem_values,\n",
    "        'label': 'SfM snow free - DEM',\n",
    "        'color': 'dodgerblue',\n",
    "    },\n",
    "]\n",
    "\n",
    "ax = plot_histogram(data, (-6, 6), figsize=(10, 8))\n",
    "ax.set_title('Elevation Differences (SFM snow free - DEM)');"
   ]
  },
  {
   "cell_type": "markdown",
   "metadata": {},
   "source": [
    "# Snow Depth Difference (SfM - ASO)"
   ]
  },
  {
   "cell_type": "code",
   "execution_count": null,
   "metadata": {},
   "outputs": [],
   "source": [
    "cmap = plt.get_cmap(\"tab20c\")\n",
    "cmap = cmap(np.arange(4)*4, alpha=0.7)"
   ]
  },
  {
   "cell_type": "code",
   "execution_count": null,
   "metadata": {},
   "outputs": [],
   "source": [
    "fig, (ax1) = plt.subplots(\n",
    "    1, 1, \n",
    "    figsize=(8,12),\n",
    ")\n",
    "\n",
    "bins = np.arange(math.floor(positive_sfm.sd_difference.min()) -0.1, math.ceil(positive_sfm.sd_difference.max()) + 0.2, 0.2)\n",
    "stack = []\n",
    "\n",
    "for casi_class in CASI_CLASSES:\n",
    "    stack.append(positive_sfm[positive_sfm.casi_class == casi_class].sd_difference)\n",
    "\n",
    "ax1.hist(\n",
    "    stack,\n",
    "    bins=bins,\n",
    "    label=CASI_CLASSES,\n",
    "    stacked=True,\n",
    "    color=cmap,\n",
    "#     histtype='step',\n",
    ")\n",
    "ax1.axvline(0, color='black', linewidth=.4, alpha=1)\n",
    "ax1.set_xlabel(SNOW_DEPTH_LABEL)\n",
    "ax1.set_xlim(-5, 5)\n",
    "ax1.set_ylabel('Count')\n",
    "ax1.legend(loc='upper left');"
   ]
  },
  {
   "cell_type": "code",
   "execution_count": null,
   "metadata": {},
   "outputs": [],
   "source": [
    "print(f\"Mean difference {positive_sfm.sd_difference.mean():.4f}m\")\n",
    "print(f\"Median difference {positive_sfm.sd_difference.median():.4f}m\")"
   ]
  },
  {
   "cell_type": "markdown",
   "metadata": {},
   "source": [
    "## Negative by CASI classification"
   ]
  },
  {
   "cell_type": "code",
   "execution_count": null,
   "metadata": {},
   "outputs": [],
   "source": [
    "fig, (ax1, ax2) = plt.subplots(\n",
    "    1, 2, \n",
    "    figsize=(20,8),\n",
    "    gridspec_kw = {'width_ratios':[2, 3]}\n",
    ")\n",
    "fig.subplots_adjust(wspace=.25)\n",
    "patches, texts, autotexts = ax1.pie(\n",
    "    negative_sfm.groupby('casi_class').count().aso_snow_depth, \n",
    "    labels=CASI_CLASSES, \n",
    "    colors=cmap,\n",
    "    wedgeprops=dict(width=0.5, edgecolor='w'),\n",
    "    textprops={'fontsize': 14},\n",
    "    autopct='%1.1f%%'\n",
    ")\n",
    "ax1.axis('equal')\n",
    "ax1.set_title('Percentage by classification')\n",
    "\n",
    "bins = np.arange(math.floor(negative_sfm.sfm_snow_depth.min()), 0, 0.5)\n",
    "stack = []\n",
    "\n",
    "for casi_class in CASI_CLASSES:\n",
    "    stack.append(negative_sfm[negative_sfm.casi_class == casi_class].sfm_snow_depth)\n",
    "\n",
    "ax2.hist(\n",
    "    stack,\n",
    "    bins=bins,\n",
    "    label=CASI_CLASSES,\n",
    "    stacked=True,\n",
    "    color=cmap,\n",
    "#     histtype='step',\n",
    ")\n",
    "ax2.set_xlabel(SNOW_DEPTH_LABEL)\n",
    "ax2.set_xlim(-30, bins.max())\n",
    "ax2.set_ylabel('Count')\n",
    "ax2.legend(loc='upper left');"
   ]
  },
  {
   "cell_type": "markdown",
   "metadata": {},
   "source": [
    "## SfM negative snow depth values with aspect"
   ]
  },
  {
   "cell_type": "code",
   "execution_count": null,
   "metadata": {},
   "outputs": [],
   "source": [
    "bins = np.concatenate((\n",
    "    np.arange(0, -30.1, -0.2),\n",
    "    np.arange(-30, -40, -0.5),\n",
    "    [math.floor(negative_sfm.sfm_snow_depth.min())]\n",
    "))\n",
    "bins = np.flip(bins)\n",
    "\n",
    "aspect_range = np.arange(0, 361, 1)\n",
    "\n",
    "hist_opts = dict(\n",
    "    bins=[aspect_range, bins],\n",
    "    vmin=0,\n",
    "    vmax=100,\n",
    "    cmin=1,\n",
    ")"
   ]
  },
  {
   "cell_type": "code",
   "execution_count": null,
   "metadata": {},
   "outputs": [],
   "source": [
    "fig = plt.figure(figsize=(15,8))\n",
    "ax = fig.gca()\n",
    "ax.set_facecolor('whitesmoke')\n",
    "ha = ax.hist2d(\n",
    "    negative_sfm['aspect'],\n",
    "    negative_sfm['sfm_snow_depth'],\n",
    "    **hist_opts,\n",
    ")\n",
    "PlotBase.insert_colorbar(ax, ha[3], 'count')\n",
    "ax.set_ylabel(SNOW_DEPTH_LABEL)\n",
    "ax.set_xlabel('Aspect')\n",
    "ax.set_title('Negative values with aspect');"
   ]
  },
  {
   "cell_type": "code",
   "execution_count": null,
   "metadata": {},
   "outputs": [],
   "source": [
    "aspect_stats = negative_sfm[['sfm_snow_depth', 'aspect']].groupby('aspect')\n",
    "\n",
    "aspect_count = aspect_stats.count()\n",
    "aspect_medians = aspect_stats.median()\n",
    "aspect_means = aspect_stats.mean()"
   ]
  },
  {
   "cell_type": "code",
   "execution_count": null,
   "metadata": {},
   "outputs": [],
   "source": [
    "fig, (ax1, ax2, ax3) = plt.subplots(3, 1, sharex=True, figsize=(14, 24))\n",
    "ax1.scatter(aspect_count.index, aspect_count.sfm_snow_depth)\n",
    "ax1.set_title('Aspect count')\n",
    "\n",
    "ax2.scatter(aspect_medians.index, aspect_medians.sfm_snow_depth)\n",
    "ax2.set_ylabel('Median SD difference')\n",
    "ax2.set_title('Median difference by aspect');\n",
    "\n",
    "ax3.scatter(aspect_means.index, aspect_means.sfm_snow_depth)\n",
    "ax3.set_xlim(aspect_range.min(), aspect_range.max())\n",
    "ax3.set_ylabel('Mean SD difference')\n",
    "ax3.set_xlabel('Aspect in degree')\n",
    "ax3.set_title('Mean difference by aspect');"
   ]
  },
  {
   "cell_type": "code",
   "execution_count": null,
   "metadata": {},
   "outputs": [],
   "source": [
    "aspect_count.sort_values('sfm_snow_depth', ascending=False).head(10).sort_index()"
   ]
  },
  {
   "cell_type": "markdown",
   "metadata": {},
   "source": [
    "**NOTE**: Vegetation and Water category masked out."
   ]
  },
  {
   "cell_type": "code",
   "execution_count": null,
   "metadata": {},
   "outputs": [],
   "source": [
    "vegetation_free = negative_sfm.query('casi_class != \"Vegetation\" and casi_class != \"Water\"')\n",
    "vegetation_free_aspects = vegetation_free.groupby('aspect')\n",
    "vegetation_free_aspects_median = vegetation_free_aspects.median()\n",
    "vegetation_free_aspects_count = vegetation_free_aspects.count()"
   ]
  },
  {
   "cell_type": "code",
   "execution_count": null,
   "metadata": {},
   "outputs": [],
   "source": [
    "fig, (ax1, ax2, ax3) = plt.subplots(3, 1, sharex=True, figsize=(15,24))\n",
    "ax1.set_facecolor('whitesmoke')\n",
    "ha = ax1.hist2d(\n",
    "    vegetation_free['aspect'],\n",
    "    vegetation_free['sfm_snow_depth'],\n",
    "    **hist_opts,\n",
    ")\n",
    "ax1.set_ylabel(SNOW_DEPTH_LABEL)\n",
    "ax1.set_title('Negative values with aspect - No Vegetation')\n",
    "\n",
    "ax2.scatter(vegetation_free_aspects_median.index, vegetation_free_aspects_median.sfm_snow_depth)\n",
    "ax2.set_title('Mean difference by aspect - No Vegetation')\n",
    "ax2.axvline(HILLSHADE_SNOW_ON_AZIMUTH, color='goldenrod', linestyle='--')\n",
    "ax2.annotate('Snow On\\n Azimuth', xy=(HILLSHADE_SNOW_ON_AZIMUTH + 1, -8))\n",
    "ax2.axvline(HILLSHADE_SNOW_ON_AZIMUTH + 180, color='dimgrey', linestyle='--')\n",
    "ax2.axvline(HILLSHADE_SNOW_FREE_AZIMUTH, color='goldenrod', linestyle='--')\n",
    "ax2.annotate('Snow Free\\n Azimuth', xy=(HILLSHADE_SNOW_FREE_AZIMUTH + 1, -8))\n",
    "ax2.axvline(HILLSHADE_SNOW_FREE_AZIMUTH % 180, color='dimgrey', linestyle='--')\n",
    "ax2.set_ylabel('Median SD difference')\n",
    "\n",
    "ax3.scatter(vegetation_free_aspects_count.index, vegetation_free_aspects_count.sfm_snow_depth)\n",
    "ax3.set_title('Count of aspects - No Vegetation');\n",
    "ax3.set_ylabel('Median SD difference')\n",
    "\n",
    "ax3.set_xlim(aspect_range.min(), aspect_range.max())\n",
    "ax3.set_xlabel('Aspect in degree');\n",
    "\n",
    "# PlotBase.insert_colorbar(ax1, ha[3], 'count');"
   ]
  },
  {
   "cell_type": "markdown",
   "metadata": {},
   "source": [
    "## SfM negative snow depth values with slope"
   ]
  },
  {
   "cell_type": "code",
   "execution_count": null,
   "metadata": {},
   "outputs": [],
   "source": [
    "slope_range = np.arange(0, 91, 1)\n",
    "\n",
    "hist_opts = dict(\n",
    "    bins=[slope_range, bins],\n",
    "    vmin=0,\n",
    "    vmax=150,\n",
    "    cmin=1,\n",
    ")"
   ]
  },
  {
   "cell_type": "code",
   "execution_count": null,
   "metadata": {},
   "outputs": [],
   "source": [
    "fig = plt.figure(figsize=(15,10))\n",
    "ax = fig.gca()\n",
    "ax.set_facecolor('whitesmoke')\n",
    "hs = ax.hist2d(\n",
    "    negative_sfm['slope'],\n",
    "    negative_sfm['sfm_snow_depth'],\n",
    "    **hist_opts\n",
    ")\n",
    "PlotBase.insert_colorbar(ax, hs[3], 'count')\n",
    "ax.set_ylabel(SNOW_DEPTH_LABEL)\n",
    "ax.set_xlabel('Slope')\n",
    "ax.set_title('Negative values with slope');"
   ]
  },
  {
   "cell_type": "code",
   "execution_count": null,
   "metadata": {},
   "outputs": [],
   "source": [
    "slope_stats = negative_sfm[['sfm_snow_depth', 'slope']].groupby('slope')\n",
    "slope_count = slope_stats.count()\n",
    "slope_median = slope_stats.median()\n",
    "slope_means = slope_stats.mean()"
   ]
  },
  {
   "cell_type": "code",
   "execution_count": null,
   "metadata": {},
   "outputs": [],
   "source": [
    "fig, (ax1, ax2, ax3) = plt.subplots(3, 1, sharex=True, figsize=(15, 24))\n",
    "\n",
    "ax1.scatter(slope_count.index, slope_count.sfm_snow_depth)\n",
    "ax1.set_title('Slope Count')\n",
    "\n",
    "ax2.scatter(slope_median.index, slope_median.sfm_snow_depth)\n",
    "ax2.set_ylabel('Median SD difference')\n",
    "ax2.set_title('Median difference by slope')\n",
    "\n",
    "ax3.scatter(slope_means.index, slope_means.sfm_snow_depth)\n",
    "ax3.set_xlim(slope_range.min(), slope_range.max())\n",
    "ax3.set_xlabel('Slope in degree')\n",
    "ax3.set_ylabel('Mean SD difference')\n",
    "ax3.set_title('Mean difference by slope');"
   ]
  },
  {
   "cell_type": "code",
   "execution_count": null,
   "metadata": {},
   "outputs": [],
   "source": [
    "slope_count.query('sfm_snow_depth > 20000').sort_index()"
   ]
  },
  {
   "cell_type": "code",
   "execution_count": null,
   "metadata": {},
   "outputs": [],
   "source": [
    "vegetation_free_slopes = vegetation_free.groupby('slope')\n",
    "vegetation_free_slopes_median = vegetation_free_slopes.median()\n",
    "vegetation_free_slopes_mean = vegetation_free_slopes.mean()\n",
    "vegetation_free_slopes_count = vegetation_free_slopes.count()"
   ]
  },
  {
   "cell_type": "code",
   "execution_count": null,
   "metadata": {},
   "outputs": [],
   "source": [
    "fig, (ax1, ax2, ax3, ax4) = plt.subplots(4, 1, sharex=True, figsize=(15,32))\n",
    "\n",
    "ax1.set_facecolor('whitesmoke')\n",
    "hs = ax1.hist2d(\n",
    "    vegetation_free['slope'],\n",
    "    vegetation_free['sfm_snow_depth'],\n",
    "    **hist_opts\n",
    ")\n",
    "PlotBase.insert_colorbar(ax1, hs[3], 'count')\n",
    "ax1.set_ylabel(SNOW_DEPTH_LABEL)\n",
    "ax1.set_title('Negative values with slope - No Vegetation')\n",
    "\n",
    "ax2.scatter(vegetation_free_slopes_median.index, vegetation_free_slopes_median.sfm_snow_depth)\n",
    "ax2.axhline(-1, color='orange', linestyle='--', alpha=0.8)\n",
    "ax2.axhline(-2, color='orange', linestyle='--', alpha=0.8)\n",
    "ax2.axvline(51, color='orange', linestyle='--', alpha=0.8)\n",
    "ax2.axvline(75, color='orange', linestyle='--', alpha=0.8)\n",
    "ax2.set_ylabel('Median SD difference')\n",
    "ax2.set_title('Median difference by slope - No vegetation')\n",
    "\n",
    "ax3.scatter(vegetation_free_slopes_mean.index, vegetation_free_slopes_mean.sfm_snow_depth)\n",
    "ax3.axvline(51, color='orange', linestyle='--', alpha=0.8)\n",
    "ax3.axvline(75, color='orange', linestyle='--', alpha=0.8)\n",
    "ax3.set_ylabel('Mean SD difference')\n",
    "ax3.set_title('Mean difference by slope - No vegetation')\n",
    "\n",
    "ax4.scatter(vegetation_free_slopes_count.index, vegetation_free_slopes_count.sfm_snow_depth)\n",
    "ax4.axvline(51, color='orange', linestyle='--', alpha=0.8)\n",
    "ax4.set_title('Count of slope angels - No vegetation')\n",
    "\n",
    "ax4.set_xlabel('Slope in degree')\n",
    "ax4.set_xlim(slope_range.min(), slope_range.max());"
   ]
  },
  {
   "cell_type": "markdown",
   "metadata": {},
   "source": [
    "## Hillshade comparison (No Vegetation)"
   ]
  },
  {
   "cell_type": "markdown",
   "metadata": {},
   "source": [
    "## Snow free SfM\n",
    "\n",
    "Azimuth: 247\n",
    "\n",
    "Altitude: 32"
   ]
  },
  {
   "cell_type": "code",
   "execution_count": null,
   "metadata": {},
   "outputs": [],
   "source": [
    "HILLSHADE_MIN = 0\n",
    "HILLSHADE_MAX = 255\n",
    "\n",
    "hillshade_range = np.arange(HILLSHADE_MIN, HILLSHADE_MAX + 1, 1)\n",
    "\n",
    "hist_opts = dict(\n",
    "    bins=[hillshade_range, bins],\n",
    "    vmin=0,\n",
    "    vmax=150,\n",
    "    cmin=1,\n",
    ")"
   ]
  },
  {
   "cell_type": "code",
   "execution_count": null,
   "metadata": {},
   "outputs": [],
   "source": [
    "hillshade_snow_free = vegetation_free.groupby('hillshade_snow_free')\n",
    "hillshade_snow_free_median = hillshade_snow_free.median()\n",
    "hillshade_snow_free_count = hillshade_snow_free.count()\n",
    "\n",
    "fig, (ax1, ax2, ax3) = plt.subplots(3, 1, sharex=True, figsize=(15,24))\n",
    "\n",
    "ax1.set_facecolor('whitesmoke')\n",
    "ax1.set_facecolor('whitesmoke')\n",
    "ha = ax1.hist2d(\n",
    "    negative_sfm.hillshade_snow_free,\n",
    "    negative_sfm.sfm_snow_depth,\n",
    "    **hist_opts,\n",
    ")\n",
    "PlotBase.insert_colorbar(ax1, ha[3], 'count')\n",
    "ax1.set_ylabel(SNOW_DEPTH_LABEL)\n",
    "ax1.set_title('Negative values with Snow Free hillshade')\n",
    "\n",
    "ax2.scatter(hillshade_snow_free_median.index, hillshade_snow_free_median.sfm_snow_depth)\n",
    "ax2.set_ylabel('Median SD difference')\n",
    "ax2.set_title('Median difference')\n",
    "\n",
    "ax3.scatter(hillshade_snow_free_count.index, hillshade_snow_free_count.sfm_snow_depth)\n",
    "ax3.set_ylabel('Count')\n",
    "ax3.set_title('Count by hillshade')\n",
    "\n",
    "ax3.set_xlim(HILLSHADE_MIN, HILLSHADE_MAX)\n",
    "ax3.set_xlabel('Hillshade');"
   ]
  },
  {
   "cell_type": "markdown",
   "metadata": {},
   "source": [
    "## SfM snow on\n",
    "\n",
    "Azimuth: 100\n",
    "\n",
    "Altitude: 47"
   ]
  },
  {
   "cell_type": "code",
   "execution_count": null,
   "metadata": {},
   "outputs": [],
   "source": [
    "hillshade_snow_on = vegetation_free.groupby('hillshade_snow_on')\n",
    "hillshade_snow_on_median = hillshade_snow_on.median()\n",
    "hillshade_snow_on_count = hillshade_snow_on.count()\n",
    "\n",
    "fig, (ax1, ax2, ax3) = plt.subplots(3, 1, sharex=True, figsize=(15,24))\n",
    "\n",
    "ax1.set_facecolor('whitesmoke')\n",
    "ax1.set_facecolor('whitesmoke')\n",
    "ha = ax1.hist2d(\n",
    "    negative_sfm.hillshade_snow_on,\n",
    "    negative_sfm.sfm_snow_depth,\n",
    "    **hist_opts,\n",
    ")\n",
    "PlotBase.insert_colorbar(ax1, ha[3], 'count')\n",
    "ax1.set_ylabel(SNOW_DEPTH_LABEL)\n",
    "ax1.set_title('Negative values with Snow On hillshade')\n",
    "\n",
    "ax2.scatter(hillshade_snow_on_median.index, hillshade_snow_on_median.sfm_snow_depth)\n",
    "ax2.set_ylabel('Median SD difference')\n",
    "ax2.set_title('Median difference')\n",
    "\n",
    "ax3.scatter(hillshade_snow_on_count.index, hillshade_snow_on_count.sfm_snow_depth)\n",
    "ax3.set_ylabel('Count')\n",
    "ax3.set_title('Count by hillshade')\n",
    "\n",
    "ax3.set_xlim(HILLSHADE_MIN, HILLSHADE_MAX)\n",
    "ax3.set_xlabel('Hillshade');"
   ]
  }
 ],
 "metadata": {
  "kernelspec": {
   "display_name": "Python [conda env:raster_compare]",
   "language": "python",
   "name": "conda-env-raster_compare-py"
  },
  "language_info": {
   "codemirror_mode": {
    "name": "ipython",
    "version": 3
   },
   "file_extension": ".py",
   "mimetype": "text/x-python",
   "name": "python",
   "nbconvert_exporter": "python",
   "pygments_lexer": "ipython3",
   "version": "3.8.2"
  }
 },
 "nbformat": 4,
 "nbformat_minor": 4
}
