{
 "cells": [
  {
   "cell_type": "code",
   "execution_count": null,
   "metadata": {},
   "outputs": [],
   "source": [
    "from extended_source_files import *\n",
    "from plot_helpers import *\n",
    "from raster_compare.plots import PlotBase\n",
    "\n",
    "import query_helpers\n",
    "\n",
    "import math\n",
    "import pandas as pd"
   ]
  },
  {
   "cell_type": "markdown",
   "metadata": {},
   "source": [
    "# Analysis"
   ]
  },
  {
   "cell_type": "code",
   "execution_count": null,
   "metadata": {},
   "outputs": [],
   "source": [
    "mask_to_snow_depth()\n",
    "\n",
    "df = pd.DataFrame({\n",
    "        'aso_snow_depth': aso_snow_depth_values.ravel(),\n",
    "        'sfm_snow_depth': sfm_snow_depth_values.ravel(),\n",
    "        'sd_difference': sd_difference_values.ravel(),\n",
    "        'elevation': dem_values.ravel(),\n",
    "        'slope': dem.slope.ravel(),\n",
    "        'aspect': dem.aspect.ravel(),\n",
    "        'hillshade_snow_on': hillshade_snow_on.ravel(),\n",
    "        'hillshade_snow_free': hillshade_snow_free.ravel(),\n",
    "        'casi_class': casi_classification.ravel(),\n",
    "})"
   ]
  },
  {
   "cell_type": "code",
   "execution_count": null,
   "metadata": {},
   "outputs": [],
   "source": [
    "# TODO - Only drop rows that have no ASO and SfM NaN\n",
    "df.dropna(inplace=True)\n",
    "df['elevation'] = df['elevation'].astype('int16')\n",
    "df['slope'] = df['slope'].astype('int16')\n",
    "df['aspect'] = df['aspect'].astype('int16')\n",
    "df['hillshade_snow_on'] = df['hillshade_snow_on'].astype('int16')\n",
    "df['hillshade_snow_free'] = df['hillshade_snow_free'].astype('int16')\n",
    "df['casi_class'] = pd.cut(df['casi_class'], CASI_MAPPING, labels=CASI_CLASSES)\n",
    "\n",
    "positive_sfm = query_helpers.get_positive(df, 'sfm_snow_depth')\n",
    "negative_sfm = query_helpers.get_negative(df, 'sfm_snow_depth')"
   ]
  },
  {
   "cell_type": "markdown",
   "metadata": {},
   "source": [
    "## Snow depth by elevation (positive SfM values)\n",
    "\n",
    "**Snow Depth binning**\n",
    "* 0.1 m from 0 to 15 m\n",
    "* 0.5 m from 15 m to 50 m"
   ]
  },
  {
   "cell_type": "code",
   "execution_count": null,
   "metadata": {},
   "outputs": [],
   "source": [
    "max_sd = math.ceil(positive_sfm.sfm_snow_depth.max())\n",
    "bins = np.concatenate((\n",
    "    np.arange(0, 15.10, 0.10),\n",
    "    np.arange(15, max_sd, 0.25),\n",
    "))\n",
    "\n",
    "elevation_bands = 10\n",
    "elevation_min = df.elevation.min() - df.elevation.min() % elevation_bands\n",
    "elevation_max = df.elevation.max() + (elevation_bands - df.elevation.max() % elevation_bands)\n",
    "elevation_range = np.arange(elevation_min, elevation_max + elevation_bands, elevation_bands)\n",
    "\n",
    "hist_opts = dict(\n",
    "    bins=[bins, elevation_range],\n",
    "    vmin=0,\n",
    "    vmax=150,\n",
    "    cmin=1,\n",
    ")\n",
    "\n",
    "COLOR_BAR_ATTR = dict(right=0.9, rect=[0.91, 0.125, 0.03, 0.795])\n",
    "FIGURE_SPECS = dict(figsize=(14,7), dpi=150)\n",
    "HIST2D_PLOT = dict(ncols=2, sharey=True, sharex=True, **FIGURE_SPECS)\n",
    "\n",
    "def plot_hist2d(ax, x_data, y_data, title, **kwargs):\n",
    "    ax.set_facecolor('whitesmoke')\n",
    "    if len(title) > 0:\n",
    "        ax.set_xlabel(SNOW_DEPTH_LABEL)\n",
    "        ax.set_title(title)\n",
    "    ax.set_xlim(left=-.2)\n",
    "    ax.tick_params(axis='x', direction='inout', length=10)\n",
    "    ax.tick_params(axis='y', length=6)\n",
    "    ax.xaxis.set_ticks_position('both')\n",
    "\n",
    "    return ax.hist2d(x_data, y_data, **kwargs)\n",
    "\n",
    "def scatter_inset(ax, data, label):\n",
    "    bin_count_sum = np.count_nonzero(~np.isnan(data[0].T), axis=1)\n",
    "    inset_ax = ax.inset_axes([.6, 0, 0.40, .40])\n",
    "    inset_ax.scatter(bin_count_sum, elevation_range[:-1], marker='.', s=14)\n",
    "    inset_ax.set_xlim([0, 160])\n",
    "    inset_ax.set_xticks([])\n",
    "    inset_ax.tick_params(axis='y', length=5)\n",
    "    inset_ax.set_ylabel(ELEVATION_LABEL)\n",
    "    inset_ax.annotate(label, xy=(138, 3990), fontsize=20)"
   ]
  },
  {
   "cell_type": "code",
   "execution_count": null,
   "metadata": {},
   "outputs": [],
   "source": [
    "fig, (ax1, ax2) = plt.subplots(**HIST2D_PLOT)\n",
    "\n",
    "h2d_data_sfm = plot_hist2d(\n",
    "    ax1,\n",
    "    positive_sfm['sfm_snow_depth'],\n",
    "    positive_sfm['elevation'],\n",
    "    'SfM',\n",
    "    **hist_opts,\n",
    ")\n",
    "ax1.set_ylabel(ELEVATION_LABEL)\n",
    "ax1.annotate('a)', xy=(49.8, 4035), fontsize=20)\n",
    "# scatter_inset(ax1, h2d_data_sfm, 'c)')\n",
    "\n",
    "h2d_data_aso = plot_hist2d(\n",
    "    ax2,\n",
    "    positive_sfm['aso_snow_depth'],\n",
    "    positive_sfm['elevation'],\n",
    "    'ASO',\n",
    "    **hist_opts,\n",
    ")\n",
    "ax2.annotate('b)', xy=(49.8, 4035), fontsize=20)\n",
    "# scatter_inset(ax2, h2d_data_aso, 'd)')\n",
    "\n",
    "# fig.suptitle('Snow Depth distribution by elevation')\n",
    "PlotBase.insert_colorbar(ax2, h2d_data_aso[3], 'Count', **COLOR_BAR_ATTR);"
   ]
  },
  {
   "cell_type": "code",
   "execution_count": null,
   "metadata": {},
   "outputs": [],
   "source": [
    "fig, (ax1, ax2) = plt.subplots(**HIST2D_PLOT)\n",
    "\n",
    "bin_count_sum = np.count_nonzero(~np.isnan(h2d_data_sfm[0].T), axis=1)\n",
    "ax1.axhline(y=3550, color='orange', linestyle='--')\n",
    "ax1.scatter(bin_count_sum, elevation_range[:-1], s=10)\n",
    "ax1.set_ylabel(ELEVATION_LABEL)\n",
    "ax1.set_xlabel('Number of bins')\n",
    "\n",
    "bin_count_sum = np.count_nonzero(~np.isnan(h2d_data_aso[0].T), axis=1)\n",
    "ax2.axhline(y=3500, color='orange', linestyle='--')\n",
    "ax2.scatter(bin_count_sum, elevation_range[:-1], s=10)\n",
    "ax2.set_xlabel('Number of bins')\n",
    "\n",
    "plt.suptitle('Bin count per elevation band', fontsize=16)\n",
    "ax1.set_xlim(left=0);"
   ]
  },
  {
   "cell_type": "code",
   "execution_count": null,
   "metadata": {},
   "outputs": [],
   "source": [
    "fig, ax1 = plt.subplots(figsize=(6, 6), dpi=150)\n",
    "\n",
    "h1 = plot_hist2d(\n",
    "    ax1,\n",
    "    positive_sfm['sfm_snow_depth'],\n",
    "    positive_sfm['aso_snow_depth'],\n",
    "    '',\n",
    "    bins=[bins, bins],\n",
    "    vmin=0,\n",
    "    vmax=150,\n",
    "    cmin=1,\n",
    ")\n",
    "ax1.add_line(mlines.Line2D([-1, 16], [-1, 16], linestyle='--', color='orange'))\n",
    "ax1.set_xticks(np.arange(0, 16, 1))\n",
    "ax1.set_yticks(np.arange(0, 16, 1))\n",
    "ax1.set_xlim(0, 15)\n",
    "ax1.set_ylim(0, 15)\n",
    "ax1.set_ylabel('ASO snow depth (m)')\n",
    "ax1.set_xlabel('SfM snow depth (m)')\n",
    "ax1.xaxis.set_ticks_position('bottom');"
   ]
  },
  {
   "cell_type": "code",
   "execution_count": null,
   "metadata": {},
   "outputs": [],
   "source": [
    "vegetation = ((positive_sfm.casi_class == 'Vegetation') | (positive_sfm.casi_class == 'Water'))\n",
    "open_areas = ~vegetation"
   ]
  },
  {
   "cell_type": "code",
   "execution_count": null,
   "metadata": {},
   "outputs": [],
   "source": [
    "fig, (ax1, ax2) = plt.subplots(**HIST2D_PLOT)\n",
    "\n",
    "h1 = plot_hist2d(\n",
    "    ax1,\n",
    "    positive_sfm[vegetation]['sfm_snow_depth'],\n",
    "    positive_sfm[vegetation]['elevation'],\n",
    "    'SfM',\n",
    "    **hist_opts,\n",
    ")\n",
    "ax1.set_ylabel(ELEVATION_LABEL)\n",
    "\n",
    "h2 = plot_hist2d(\n",
    "    ax2,\n",
    "    positive_sfm[vegetation]['aso_snow_depth'],\n",
    "    positive_sfm[vegetation]['elevation'],\n",
    "    'ASO',\n",
    "    **hist_opts,\n",
    ")\n",
    "\n",
    "plt.suptitle('Snow Depth in Vegetation')\n",
    "PlotBase.insert_colorbar(ax2, h2[3], 'count', **COLOR_BAR_ATTR);"
   ]
  },
  {
   "cell_type": "code",
   "execution_count": null,
   "metadata": {},
   "outputs": [],
   "source": [
    "fig, (ax1, ax2) = plt.subplots(**HIST2D_PLOT)\n",
    "\n",
    "h1 = plot_hist2d(\n",
    "    ax1,\n",
    "    positive_sfm[open_areas]['sfm_snow_depth'],\n",
    "    positive_sfm[open_areas]['elevation'],\n",
    "    'SfM',\n",
    "    **hist_opts,\n",
    ")\n",
    "ax1.set_ylabel(ELEVATION_LABEL)\n",
    "\n",
    "\n",
    "h2 = plot_hist2d(\n",
    "    ax2,\n",
    "    positive_sfm[open_areas]['aso_snow_depth'],\n",
    "    positive_sfm[open_areas]['elevation'],\n",
    "    'ASO',\n",
    "    **hist_opts,\n",
    ")\n",
    "plt.suptitle('Snow Depth in Open Areas')\n",
    "PlotBase.insert_colorbar(ax2, h2[3], 'count', **COLOR_BAR_ATTR);"
   ]
  },
  {
   "cell_type": "markdown",
   "metadata": {},
   "source": [
    "# Snow Depth Difference (SfM - ASO)"
   ]
  },
  {
   "cell_type": "code",
   "execution_count": null,
   "metadata": {},
   "outputs": [],
   "source": [
    "cmap = plt.get_cmap(\"tab20c\")\n",
    "cmap = cmap(np.arange(4)*4, alpha=0.7)"
   ]
  },
  {
   "cell_type": "code",
   "execution_count": null,
   "metadata": {},
   "outputs": [],
   "source": [
    "fig, (ax1) = plt.subplots(\n",
    "    1, 1, \n",
    "    figsize=(8,8),\n",
    ")\n",
    "bin_width = 0.1\n",
    "bins = np.arange(\n",
    "    math.floor(df.sd_difference.min()) - bin_width, \n",
    "    math.ceil(df.sd_difference.max()) + bin_width, \n",
    "    bin_width\n",
    ")\n",
    "stack = []\n",
    "\n",
    "for casi_class in CASI_CLASSES:\n",
    "    stack.append(df[df.casi_class == casi_class].sd_difference)\n",
    "\n",
    "ax1.hist(\n",
    "    stack,\n",
    "    bins=bins,\n",
    "    label=CASI_CLASSES,\n",
    "    stacked=True,\n",
    "    color=cmap,\n",
    "#     histtype='step',\n",
    ")\n",
    "ax1.axvline(0, color='black', linewidth=.4, alpha=1)\n",
    "ax1.set_xlabel(SNOW_DEPTH_LABEL)\n",
    "ax1.set_xlim(-5, 5)\n",
    "ax1.set_ylabel('Count')\n",
    "ax1.legend(loc='upper left');"
   ]
  },
  {
   "cell_type": "code",
   "execution_count": null,
   "metadata": {},
   "outputs": [],
   "source": [
    "positive_sfm.sd_difference.agg([np.mean, np.median, np.std])"
   ]
  },
  {
   "cell_type": "markdown",
   "metadata": {},
   "source": [
    "# SfM measurement errors\n",
    "\n",
    "**Snow Depth binning**\n",
    "* 0.1 m from -25 to 15 m\n",
    "* 0.25 m from 15 m to 30 m"
   ]
  },
  {
   "cell_type": "code",
   "execution_count": null,
   "metadata": {},
   "outputs": [],
   "source": [
    "max_bin = max(\n",
    "    math.fabs(math.floor(negative_sfm.sfm_snow_depth.min())),\n",
    "    math.ceil(positive_sfm.sfm_snow_depth.max())\n",
    ")\n",
    "bins = np.concatenate((\n",
    "    np.arange(-max_bin, 0, 0.1),\n",
    "    np.arange(0, 15.10, 0.10),\n",
    "    np.arange(15, max_bin, 0.25),\n",
    "))\n",
    "\n",
    "hist_opts['bins'] = [bins, elevation_range]\n",
    "HIST2D_PLOT = dict(ncols=2, sharey=True, **FIGURE_SPECS)"
   ]
  },
  {
   "cell_type": "code",
   "execution_count": null,
   "metadata": {},
   "outputs": [],
   "source": [
    "fig, (ax1, ax2) = plt.subplots(**HIST2D_PLOT)\n",
    "\n",
    "h1 = plot_hist2d(\n",
    "    ax1,\n",
    "    negative_sfm['sfm_snow_depth'],\n",
    "    negative_sfm['elevation'],\n",
    "    'SfM',\n",
    "    **hist_opts,\n",
    ")\n",
    "ax1.set_ylabel(ELEVATION_LABEL)\n",
    "ax1.set_xlim(right=0.)\n",
    "ax1.yaxis.set_ticks_position('both')\n",
    "\n",
    "h2 = plot_hist2d(\n",
    "    ax2,\n",
    "    negative_sfm['aso_snow_depth'],\n",
    "    negative_sfm['elevation'],\n",
    "    'ASO',\n",
    "    **hist_opts,\n",
    ")\n",
    "ax2.set_xlim(left=-0.2)\n",
    "\n",
    "fig.suptitle('Snow Depth measurement errors by Elevation')\n",
    "PlotBase.insert_colorbar(ax2, h2[3], 'count', **COLOR_BAR_ATTR);"
   ]
  },
  {
   "cell_type": "code",
   "execution_count": null,
   "metadata": {},
   "outputs": [],
   "source": [
    "vegetation = ((negative_sfm.casi_class == 'Vegetation') | (negative_sfm.casi_class == 'Water'))\n",
    "open_areas = ~vegetation"
   ]
  },
  {
   "cell_type": "markdown",
   "metadata": {},
   "source": [
    "### Open Areas"
   ]
  },
  {
   "cell_type": "code",
   "execution_count": null,
   "metadata": {},
   "outputs": [],
   "source": [
    "fig, (ax1, ax2) = plt.subplots(**HIST2D_PLOT)\n",
    "\n",
    "h1 = plot_hist2d(\n",
    "    ax1,\n",
    "    negative_sfm[open_areas]['sfm_snow_depth'],\n",
    "    negative_sfm[open_areas]['elevation'],\n",
    "    'SfM',\n",
    "    **hist_opts,\n",
    ")\n",
    "ax1.set_ylabel(ELEVATION_LABEL)\n",
    "ax1.set_xlim(right=0.)\n",
    "\n",
    "h2 = plot_hist2d(\n",
    "    ax2,\n",
    "    negative_sfm[open_areas]['aso_snow_depth'],\n",
    "    negative_sfm[open_areas]['elevation'],\n",
    "    'ASO',\n",
    "    **hist_opts,\n",
    ")\n",
    "ax2.set_xlim(left=-0.2)\n",
    "\n",
    "fig.suptitle('Snow Depth measurement errors by Elevation in open areas')\n",
    "PlotBase.insert_colorbar(ax2, h2[3], 'count', **COLOR_BAR_ATTR);"
   ]
  },
  {
   "cell_type": "markdown",
   "metadata": {},
   "source": [
    "### Vegetated areas"
   ]
  },
  {
   "cell_type": "code",
   "execution_count": null,
   "metadata": {},
   "outputs": [],
   "source": [
    "fig, (ax1, ax2) = plt.subplots(**HIST2D_PLOT)\n",
    "\n",
    "h1 = plot_hist2d(\n",
    "    ax1,\n",
    "    negative_sfm[vegetation]['sfm_snow_depth'],\n",
    "    negative_sfm[vegetation]['elevation'],\n",
    "    'SfM',\n",
    "    **hist_opts,\n",
    ")\n",
    "ax1.set_ylabel(ELEVATION_LABEL)\n",
    "ax1.set_xlim(right=0.)\n",
    "\n",
    "h2 = plot_hist2d(\n",
    "    ax2,\n",
    "    negative_sfm[vegetation]['aso_snow_depth'],\n",
    "    negative_sfm[vegetation]['elevation'],\n",
    "    'ASO',\n",
    "    **hist_opts,\n",
    ")\n",
    "ax2.set_xlim(left=-0.2)\n",
    "\n",
    "fig.suptitle('Snow Depth measurement errors by Elevation in vegetated areas')\n",
    "PlotBase.insert_colorbar(ax2, h2[3], 'count', **COLOR_BAR_ATTR);"
   ]
  },
  {
   "cell_type": "markdown",
   "metadata": {},
   "source": [
    "### SfM vs ASO depth"
   ]
  },
  {
   "cell_type": "code",
   "execution_count": null,
   "metadata": {},
   "outputs": [],
   "source": [
    "sfm_bins = np.arange(-max_bin, 0, 0.1)\n",
    "aso_bins = np.concatenate((\n",
    "    np.arange(0, 2.0, 0.05),\n",
    "    np.arange(2, 10.1, 0.10)\n",
    "))\n",
    "xticks = np.concatenate((\n",
    "    np.arange(-30, -20, 5),\n",
    "    np.arange(-20, 0, 2)\n",
    "))\n",
    "\n",
    "fig, ax1 = plt.subplots(figsize=(10, 4), dpi=150)\n",
    "ax1.set_facecolor('whitesmoke')\n",
    "\n",
    "h1 = ax1.hist2d(\n",
    "    negative_sfm['sfm_snow_depth'],\n",
    "    negative_sfm['aso_snow_depth'],\n",
    "    bins=[sfm_bins, aso_bins],\n",
    "    vmin=0,\n",
    "    vmax=150,\n",
    "    cmin=1,\n",
    ")\n",
    "ax1.tick_params(axis='both', length=6)\n",
    "ax1.yaxis.set_label_position(\"right\")\n",
    "ax1.yaxis.tick_right()\n",
    "ax1.set_xlim(-40, 0)\n",
    "ax1.set_xticks(xticks)\n",
    "ax1.set_ylim(0, 5)\n",
    "ax1.set_ylabel('ASO snow depth (m)', rotation=270, labelpad=14)\n",
    "ax1.set_xlabel('SfM snow depth (m)')\n",
    "ax1.xaxis.set_ticks_position('bottom')\n",
    "PlotBase.insert_colorbar(ax1, h1[3], 'Count', right=0.85, rect=COLOR_BAR_ATTR['rect']);"
   ]
  },
  {
   "cell_type": "markdown",
   "metadata": {},
   "source": [
    "## Negative by CASI classification"
   ]
  },
  {
   "cell_type": "code",
   "execution_count": null,
   "metadata": {},
   "outputs": [],
   "source": [
    "fig, ax1 = plt.subplots(\n",
    "    figsize=(10.2, 4),\n",
    "    dpi=150,\n",
    ")\n",
    "\n",
    "insert_start = -5\n",
    "\n",
    "bins = np.concatenate((\n",
    "    [math.floor(negative_sfm.sfm_snow_depth.min())],\n",
    "    np.arange(-40, insert_start, 0.1),\n",
    "    np.arange(insert_start, 0.01, 0.01),\n",
    "))\n",
    "stack = []\n",
    "\n",
    "for casi_class in CASI_CLASSES:\n",
    "    stack.append(negative_sfm[negative_sfm.casi_class == casi_class].sfm_snow_depth)\n",
    "\n",
    "ax1.hist(\n",
    "    stack,\n",
    "    bins=bins,\n",
    "    label=CASI_CLASSES,\n",
    "    stacked=True,\n",
    "    color=cmap,\n",
    "#     histtype='step',\n",
    ")\n",
    "ax1.set_xlabel(SNOW_DEPTH_LABEL)\n",
    "ax1.set_xlim(insert_start, bins.max())\n",
    "PlotBase.format_axes_scientific(ax1, 'y', (4, 4))\n",
    "PlotBase.move_yaxis_label_right(ax1)\n",
    "\n",
    "ax2 = ax1.inset_axes([0.02, 0.4, 0.6, .6])\n",
    "ax2.hist(\n",
    "    stack,\n",
    "    bins=bins,\n",
    "    label=CASI_CLASSES,\n",
    "    stacked=True,\n",
    "    color=cmap,\n",
    ")\n",
    "ax2.set_xlim(-30, insert_start)\n",
    "ax2.set_ylim(top=3000)\n",
    "ax2.set_yticks(np.arange(0, 3000, 500))\n",
    "PlotBase.format_axes_scientific(ax2, 'y', (3, 3))\n",
    "PlotBase.move_yaxis_label_right(ax2)\n",
    "ax2.legend(loc='upper left', fontsize=11);"
   ]
  },
  {
   "cell_type": "markdown",
   "metadata": {},
   "source": [
    "## SfM negative with aspect"
   ]
  },
  {
   "cell_type": "code",
   "execution_count": null,
   "metadata": {},
   "outputs": [],
   "source": [
    "bin_min = math.floor(negative_sfm.sfm_snow_depth.min())\n",
    "bins = np.arange(0, bin_min - 0.1, -0.2)\n",
    "bins = np.flip(bins)\n",
    "\n",
    "aspect_range = np.arange(0, 361, 1)\n",
    "\n",
    "hist_opts = dict(\n",
    "    bins=[aspect_range, bins],\n",
    "    vmin=0,\n",
    "    vmax=200,\n",
    "    cmin=1,\n",
    ")"
   ]
  },
  {
   "cell_type": "code",
   "execution_count": null,
   "metadata": {},
   "outputs": [],
   "source": [
    "fig = plt.figure(figsize=(15,8))\n",
    "ax = fig.gca()\n",
    "ax.set_facecolor('whitesmoke')\n",
    "ha = ax.hist2d(\n",
    "    negative_sfm['aspect'],\n",
    "    negative_sfm['sfm_snow_depth'],\n",
    "    **hist_opts,\n",
    ")\n",
    "PlotBase.insert_colorbar(ax, ha[3], 'Count')\n",
    "ax.set_ylabel(SNOW_DEPTH_LABEL)\n",
    "ax.set_xlabel('Aspect');"
   ]
  },
  {
   "cell_type": "code",
   "execution_count": null,
   "metadata": {},
   "outputs": [],
   "source": [
    "aspect_stats = negative_sfm[['sfm_snow_depth', 'aspect']].groupby('aspect')\n",
    "\n",
    "aspect_count = aspect_stats.count()\n",
    "aspect_medians = aspect_stats.median()\n",
    "aspect_means = aspect_stats.mean()"
   ]
  },
  {
   "cell_type": "code",
   "execution_count": null,
   "metadata": {},
   "outputs": [],
   "source": [
    "fig, (ax1, ax2, ax3) = plt.subplots(3, 1, sharex=True, figsize=(14, 24))\n",
    "ax1.scatter(aspect_count.index, aspect_count.sfm_snow_depth)\n",
    "ax1.set_title('Aspect count')\n",
    "\n",
    "ax2.scatter(aspect_medians.index, aspect_medians.sfm_snow_depth)\n",
    "ax2.set_ylabel('Median SD difference')\n",
    "ax2.set_title('Median difference by aspect');\n",
    "\n",
    "ax3.scatter(aspect_means.index, aspect_means.sfm_snow_depth)\n",
    "ax3.set_xlim(aspect_range.min(), aspect_range.max())\n",
    "ax3.set_ylabel('Mean SD difference')\n",
    "ax3.set_xlabel('Aspect in degree')\n",
    "ax3.set_title('Mean difference by aspect');"
   ]
  },
  {
   "cell_type": "code",
   "execution_count": null,
   "metadata": {},
   "outputs": [],
   "source": [
    "aspect_count.sort_values('sfm_snow_depth', ascending=False).head(10).sort_index()"
   ]
  },
  {
   "cell_type": "markdown",
   "metadata": {},
   "source": [
    "## Vegetation and Water category masked out"
   ]
  },
  {
   "cell_type": "code",
   "execution_count": null,
   "metadata": {},
   "outputs": [],
   "source": [
    "vegetation_free = negative_sfm.query('casi_class != \"Vegetation\" and casi_class != \"Water\"')\n",
    "vegetation_free_aspects = vegetation_free.groupby('aspect')\n",
    "vegetation_free_aspects_median = vegetation_free_aspects.median()\n",
    "vegetation_free_aspects_count = vegetation_free_aspects.count()"
   ]
  },
  {
   "cell_type": "code",
   "execution_count": null,
   "metadata": {},
   "outputs": [],
   "source": [
    "fig, (ax1, ax2, ax3) = plt.subplots(3, 1, sharex=True, figsize=(15,24))\n",
    "ax1.set_facecolor('whitesmoke')\n",
    "ha = ax1.hist2d(\n",
    "    vegetation_free['aspect'],\n",
    "    vegetation_free['sfm_snow_depth'],\n",
    "    **hist_opts,\n",
    ")\n",
    "ax1.set_ylabel(SNOW_DEPTH_LABEL)\n",
    "ax1.set_title('Negative values with aspect - No Vegetation')\n",
    "\n",
    "ax2.scatter(vegetation_free_aspects_median.index, vegetation_free_aspects_median.sfm_snow_depth)\n",
    "ax2.set_title('Median difference by aspect - No Vegetation')\n",
    "ax2.axvline(HILLSHADE_SNOW_ON['azimuth'], color='goldenrod', linestyle='--')\n",
    "ax2.annotate('Snow On\\n Sun Angle', xy=(HILLSHADE_SNOW_ON['azimuth'] + 1, -0.15))\n",
    "ax2.axvline(HILLSHADE_SNOW_ON['azimuth'] + 180, color='dimgrey', linestyle='--')\n",
    "ax2.annotate('Snow On\\n Shade', xy=(HILLSHADE_SNOW_ON['azimuth'] + 181, -0.5))\n",
    "ax2.axvline(HILLSHADE_SNOW_FREE['azimuth'], color='goldenrod', linestyle='--')\n",
    "ax2.annotate('Snow Free\\n Sun Angle', xy=(HILLSHADE_SNOW_FREE['azimuth'] + 1, -0.5))\n",
    "ax2.axvline(HILLSHADE_SNOW_FREE['azimuth'] % 180, color='dimgrey', linestyle='--')\n",
    "ax2.annotate('Snow Free\\n Shade', xy=((HILLSHADE_SNOW_FREE['azimuth'] + 181) % 180, -0.15))\n",
    "ax2.set_ylabel('Median SD difference')\n",
    "\n",
    "ax3.scatter(vegetation_free_aspects_count.index, vegetation_free_aspects_count.sfm_snow_depth)\n",
    "ax3.set_title('Count of aspects - No Vegetation');\n",
    "ax3.set_ylabel('Median SD difference')\n",
    "\n",
    "ax3.set_xlim(aspect_range.min(), aspect_range.max())\n",
    "ax3.set_xlabel('Aspect in degree');\n",
    "\n",
    "# PlotBase.insert_colorbar(ax1, ha[3], 'count');"
   ]
  },
  {
   "cell_type": "markdown",
   "metadata": {},
   "source": [
    "## SfM values with slope"
   ]
  },
  {
   "cell_type": "code",
   "execution_count": null,
   "metadata": {},
   "outputs": [],
   "source": [
    "slope_range = np.arange(0, 91, 1)\n",
    "\n",
    "hist_opts['bins'] = [slope_range, bins]"
   ]
  },
  {
   "cell_type": "code",
   "execution_count": null,
   "metadata": {},
   "outputs": [],
   "source": [
    "fig = plt.figure(figsize=(15,10))\n",
    "ax = fig.gca()\n",
    "ax.set_facecolor('whitesmoke')\n",
    "hs = ax.hist2d(\n",
    "    negative_sfm['slope'],\n",
    "    negative_sfm['sfm_snow_depth'],\n",
    "    **hist_opts\n",
    ")\n",
    "PlotBase.insert_colorbar(ax, hs[3], 'count')\n",
    "ax.set_ylabel(SNOW_DEPTH_LABEL)\n",
    "ax.set_xlabel('Slope')\n",
    "ax.set_title('Negative values with slope');"
   ]
  },
  {
   "cell_type": "code",
   "execution_count": null,
   "metadata": {},
   "outputs": [],
   "source": [
    "slope_stats = negative_sfm[['sfm_snow_depth', 'slope']].groupby('slope')\n",
    "slope_count = slope_stats.count()\n",
    "slope_median = slope_stats.median()\n",
    "slope_means = slope_stats.mean()"
   ]
  },
  {
   "cell_type": "code",
   "execution_count": null,
   "metadata": {},
   "outputs": [],
   "source": [
    "fig, (ax1, ax2, ax3) = plt.subplots(3, 1, sharex=True, figsize=(15, 24))\n",
    "\n",
    "ax1.scatter(slope_count.index, slope_count.sfm_snow_depth)\n",
    "ax1.set_title('Slope Count')\n",
    "\n",
    "ax2.scatter(slope_median.index, slope_median.sfm_snow_depth)\n",
    "ax2.set_ylabel('Median SD difference')\n",
    "ax2.set_title('Median difference by slope')\n",
    "\n",
    "ax3.scatter(slope_means.index, slope_means.sfm_snow_depth)\n",
    "ax3.set_xlim(slope_range.min(), slope_range.max())\n",
    "ax3.set_xlabel('Slope in degree')\n",
    "ax3.set_ylabel('Mean SD difference')\n",
    "ax3.set_title('Mean difference by slope');"
   ]
  },
  {
   "cell_type": "code",
   "execution_count": null,
   "metadata": {},
   "outputs": [],
   "source": [
    "vegetation_free_slopes = vegetation_free.groupby('slope')\n",
    "vegetation_free_slopes_median = vegetation_free_slopes.median()\n",
    "vegetation_free_slopes_mean = vegetation_free_slopes.mean()\n",
    "vegetation_free_slopes_count = vegetation_free_slopes.count()"
   ]
  },
  {
   "cell_type": "code",
   "execution_count": null,
   "metadata": {},
   "outputs": [],
   "source": [
    "fig, (ax1, ax2, ax3, ax4) = plt.subplots(4, 1, sharex=True, figsize=(15,32))\n",
    "\n",
    "ax1.set_facecolor('whitesmoke')\n",
    "hs = ax1.hist2d(\n",
    "    vegetation_free['slope'],\n",
    "    vegetation_free['sfm_snow_depth'],\n",
    "    **hist_opts\n",
    ")\n",
    "PlotBase.insert_colorbar(ax1, hs[3], 'count')\n",
    "ax1.set_ylabel(SNOW_DEPTH_LABEL)\n",
    "ax1.set_title('Negative values with slope - No Vegetation')\n",
    "\n",
    "ax2.scatter(vegetation_free_slopes_median.index, vegetation_free_slopes_median.sfm_snow_depth)\n",
    "ax2.axhline(-1, color='orange', linestyle='--', alpha=0.8)\n",
    "ax2.axhline(-4, color='orange', linestyle='--', alpha=0.8)\n",
    "ax2.axvline(51, color='orange', linestyle='--', alpha=0.8)\n",
    "ax2.axvline(75, color='orange', linestyle='--', alpha=0.8)\n",
    "ax2.set_ylabel('Median SD difference')\n",
    "ax2.set_title('Median difference by slope - No vegetation')\n",
    "\n",
    "ax3.scatter(vegetation_free_slopes_mean.index, vegetation_free_slopes_mean.sfm_snow_depth)\n",
    "ax3.axvline(51, color='orange', linestyle='--', alpha=0.8)\n",
    "ax3.axvline(75, color='orange', linestyle='--', alpha=0.8)\n",
    "ax3.set_ylabel('Mean SD difference')\n",
    "ax3.set_title('Mean difference by slope - No vegetation')\n",
    "\n",
    "ax4.scatter(vegetation_free_slopes_count.index, vegetation_free_slopes_count.sfm_snow_depth)\n",
    "ax4.axvline(51, color='orange', linestyle='--', alpha=0.8)\n",
    "ax4.axvline(75, color='orange', linestyle='--', alpha=0.8)\n",
    "ax4.set_title('Count of slope angels - No vegetation')\n",
    "ax4.set_ylim(bottom=0)\n",
    "\n",
    "ax4.set_xlabel('Slope in degree')\n",
    "ax4.set_xlim(slope_range.min(), slope_range.max());"
   ]
  },
  {
   "cell_type": "markdown",
   "metadata": {},
   "source": [
    "## Hillshade comparison (No Vegetation)"
   ]
  },
  {
   "cell_type": "markdown",
   "metadata": {},
   "source": [
    "## Snow free SfM\n",
    "\n",
    "Azimuth: 247\n",
    "\n",
    "Altitude: 32"
   ]
  },
  {
   "cell_type": "code",
   "execution_count": null,
   "metadata": {},
   "outputs": [],
   "source": [
    "HILLSHADE_MIN = 0\n",
    "HILLSHADE_MAX = 255\n",
    "\n",
    "hillshade_range = np.arange(HILLSHADE_MIN, HILLSHADE_MAX + 1, 1)\n",
    "\n",
    "hist_opts['bins'] = [hillshade_range, bins]"
   ]
  },
  {
   "cell_type": "code",
   "execution_count": null,
   "metadata": {},
   "outputs": [],
   "source": [
    "hillshade_snow_free = vegetation_free.groupby('hillshade_snow_free')\n",
    "hillshade_snow_free_median = hillshade_snow_free.median()\n",
    "hillshade_snow_free_count = hillshade_snow_free.count()\n",
    "\n",
    "fig, (ax1, ax2, ax3) = plt.subplots(3, 1, sharex=True, figsize=(15,24))\n",
    "\n",
    "ax1.set_facecolor('whitesmoke')\n",
    "ax1.set_facecolor('whitesmoke')\n",
    "ha = ax1.hist2d(\n",
    "    negative_sfm.hillshade_snow_free,\n",
    "    negative_sfm.sfm_snow_depth,\n",
    "    **hist_opts,\n",
    ")\n",
    "PlotBase.insert_colorbar(ax1, ha[3], 'count')\n",
    "ax1.set_ylabel(SNOW_DEPTH_LABEL)\n",
    "ax1.set_title('Negative values with Snow Free hillshade')\n",
    "\n",
    "ax2.scatter(hillshade_snow_free_median.index, hillshade_snow_free_median.sfm_snow_depth)\n",
    "ax2.set_ylabel('Median SD difference')\n",
    "ax2.set_title('Median difference')\n",
    "\n",
    "ax3.scatter(hillshade_snow_free_count.index, hillshade_snow_free_count.sfm_snow_depth)\n",
    "ax3.set_ylabel('Count')\n",
    "ax3.set_title('Count by hillshade')\n",
    "\n",
    "ax3.set_xlim(HILLSHADE_MIN, HILLSHADE_MAX)\n",
    "ax3.set_xlabel('Hillshade');"
   ]
  },
  {
   "cell_type": "markdown",
   "metadata": {},
   "source": [
    "## SfM snow on\n",
    "\n",
    "Azimuth: 100\n",
    "\n",
    "Altitude: 47"
   ]
  },
  {
   "cell_type": "code",
   "execution_count": null,
   "metadata": {},
   "outputs": [],
   "source": [
    "hillshade_snow_on = vegetation_free.groupby('hillshade_snow_on')\n",
    "hillshade_snow_on_median = hillshade_snow_on.median()\n",
    "hillshade_snow_on_count = hillshade_snow_on.count()\n",
    "\n",
    "fig, (ax1, ax2, ax3) = plt.subplots(3, 1, sharex=True, figsize=(15,24))\n",
    "\n",
    "ax1.set_facecolor('whitesmoke')\n",
    "ax1.set_facecolor('whitesmoke')\n",
    "ha = ax1.hist2d(\n",
    "    negative_sfm.hillshade_snow_on,\n",
    "    negative_sfm.sfm_snow_depth,\n",
    "    **hist_opts,\n",
    ")\n",
    "PlotBase.insert_colorbar(ax1, ha[3], 'count')\n",
    "ax1.set_ylabel(SNOW_DEPTH_LABEL)\n",
    "ax1.set_title('Negative values with Snow On hillshade')\n",
    "\n",
    "ax2.scatter(hillshade_snow_on_median.index, hillshade_snow_on_median.sfm_snow_depth)\n",
    "ax2.set_ylabel('Median SD difference')\n",
    "ax2.set_title('Median difference')\n",
    "\n",
    "ax3.scatter(hillshade_snow_on_count.index, hillshade_snow_on_count.sfm_snow_depth)\n",
    "ax3.set_ylabel('Count')\n",
    "ax3.set_title('Count by hillshade')\n",
    "\n",
    "ax3.set_xlim(HILLSHADE_MIN, HILLSHADE_MAX)\n",
    "ax3.set_xlabel('Hillshade');"
   ]
  }
 ],
 "metadata": {
  "kernelspec": {
   "display_name": "Python [conda env:raster_compare]",
   "language": "python",
   "name": "conda-env-raster_compare-py"
  },
  "language_info": {
   "codemirror_mode": {
    "name": "ipython",
    "version": 3
   },
   "file_extension": ".py",
   "mimetype": "text/x-python",
   "name": "python",
   "nbconvert_exporter": "python",
   "pygments_lexer": "ipython3",
   "version": "3.8.2"
  }
 },
 "nbformat": 4,
 "nbformat_minor": 4
}
