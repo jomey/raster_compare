{
 "cells": [
  {
   "cell_type": "code",
   "execution_count": null,
   "metadata": {},
   "outputs": [],
   "source": [
    "import query_helpers\n",
    "\n",
    "from pathlib import PurePath\n",
    "from raster_compare.base import RasterFile\n",
    "import os\n",
    "import numpy as np\n",
    "import pandas as pd"
   ]
  },
  {
   "cell_type": "markdown",
   "metadata": {},
   "source": [
    "# 50 m"
   ]
  },
  {
   "cell_type": "code",
   "execution_count": null,
   "metadata": {},
   "outputs": [],
   "source": [
    "SNOW_DEPTH_DIR = HOME_DIR = PurePath(f\"{os.environ['HOME']}/skiles-group1/ERW-SfM/50m\")\n",
    "\n",
    "\n",
    "aso_snow_depth = RasterFile(\n",
    "    SNOW_DEPTH_DIR / '20180524_ASO_snow_depth_50m.tif',\n",
    "    band_number=1\n",
    ")\n",
    "aso_snow_depth_values = aso_snow_depth.band_values()\n",
    "np.ma.masked_where(\n",
    "    aso_snow_depth_values <= 0.0,\n",
    "    aso_snow_depth_values,\n",
    "    copy=False\n",
    ")\n",
    "\n",
    "sfm_snow_depth = RasterFile(\n",
    "    SNOW_DEPTH_DIR / '20180524_Agisoft_snow_depth_50m.tif',\n",
    "    band_number=1\n",
    ")\n",
    "assert aso_snow_depth.geo_transform == sfm_snow_depth.geo_transform\n",
    "\n",
    "sfm_snow_depth_values = sfm_snow_depth.band_values()\n",
    "np.ma.masked_where(\n",
    "    aso_snow_depth_values.mask,\n",
    "    sfm_snow_depth_values,\n",
    "    copy=False\n",
    ");"
   ]
  },
  {
   "cell_type": "markdown",
   "metadata": {},
   "source": [
    "## Prepare"
   ]
  },
  {
   "cell_type": "code",
   "execution_count": null,
   "metadata": {},
   "outputs": [],
   "source": [
    "df = pd.DataFrame({\n",
    "    'aso_snow_depth': aso_snow_depth_values.ravel(),\n",
    "    'sfm_snow_depth': sfm_snow_depth_values.ravel(),\n",
    "})\n",
    "df.dropna(inplace=True, how='all')"
   ]
  },
  {
   "cell_type": "markdown",
   "metadata": {},
   "source": [
    "### Depth Differences, Volume, and SWE "
   ]
  },
  {
   "cell_type": "code",
   "execution_count": null,
   "metadata": {},
   "outputs": [],
   "source": [
    "df = query_helpers.diff_vol_swe(df, aso_snow_depth, sfm_snow_depth)"
   ]
  },
  {
   "cell_type": "code",
   "execution_count": null,
   "metadata": {},
   "outputs": [],
   "source": [
    "positive_sfm = query_helpers.get_positive(df, 'sfm_snow_depth')\n",
    "negative_sfm = query_helpers.get_negative(df, 'sfm_snow_depth')\n",
    "no_values_sfm = query_helpers.get_no_data(df, 'sfm_snow_depth')\n",
    "\n",
    "columns = ['sfm_snow_depth', 'aso_snow_depth', 'sd_difference']\n",
    "pd.set_option('display.float_format', lambda x: '%.2f m' % x)"
   ]
  },
  {
   "cell_type": "markdown",
   "metadata": {},
   "source": [
    "# Snow Depth (50 m)"
   ]
  },
  {
   "cell_type": "code",
   "execution_count": null,
   "metadata": {},
   "outputs": [],
   "source": [
    "df[columns].agg([np.mean, np.median, np.std])"
   ]
  },
  {
   "cell_type": "markdown",
   "metadata": {},
   "source": [
    "### Positive SfM values"
   ]
  },
  {
   "cell_type": "code",
   "execution_count": null,
   "metadata": {},
   "outputs": [],
   "source": [
    "positive_sfm[columns].agg([np.mean, np.median, np.std])"
   ]
  },
  {
   "cell_type": "markdown",
   "metadata": {},
   "source": [
    "### Negative SfM values"
   ]
  },
  {
   "cell_type": "code",
   "execution_count": null,
   "metadata": {},
   "outputs": [],
   "source": [
    "negative_sfm[columns].agg([np.mean, np.median, np.std])"
   ]
  },
  {
   "cell_type": "code",
   "execution_count": null,
   "metadata": {},
   "outputs": [],
   "source": [
    "pd.set_option('display.float_format', None)"
   ]
  },
  {
   "cell_type": "markdown",
   "metadata": {},
   "source": [
    "# Snow Volume (50 m)"
   ]
  },
  {
   "cell_type": "code",
   "execution_count": null,
   "metadata": {},
   "outputs": [],
   "source": [
    "m2_style = \"{:,.0f} m<sup>3</sup>\"\n",
    "\n",
    "table_style = {\n",
    "    'sfm_snow_volume': m2_style,\n",
    "    'aso_snow_volume': m2_style,\n",
    "    'difference': m2_style,\n",
    "    'sfm % to aso': \"{:.2%}\",\n",
    "    'percent_sfm_scene': \"{:.2%}\",\n",
    "    'percent_aso_scene': \"{:.2%}\",\n",
    "}\n",
    "columns = ['casi_class', 'aso_snow_volume', 'sfm_snow_volume']"
   ]
  },
  {
   "cell_type": "code",
   "execution_count": null,
   "metadata": {},
   "outputs": [],
   "source": [
    "total_volume = pd.DataFrame({\n",
    "    'sfm_snow_volume': df.sfm_snow_volume.sum(),\n",
    "    'aso_snow_volume': df.aso_snow_volume.sum(),\n",
    "    },\n",
    "    index=[0]\n",
    ")\n",
    "total_volume['difference'] = total_volume.aso_snow_volume - total_volume.sfm_snow_volume\n",
    "total_volume['sfm % to aso'] = total_volume.sfm_snow_volume / total_volume.aso_snow_volume\n",
    "total_volume.style.format(table_style)"
   ]
  },
  {
   "cell_type": "code",
   "execution_count": null,
   "metadata": {},
   "outputs": [],
   "source": [
    "captured_volume = pd.DataFrame({\n",
    "    'sfm_snow_volume': positive_sfm.sfm_snow_volume.sum(),\n",
    "    'aso_snow_volume': positive_sfm.aso_snow_volume.sum(),\n",
    "    },\n",
    "    index=[0]\n",
    ")\n",
    "captured_volume['difference'] = captured_volume.aso_snow_volume - captured_volume.sfm_snow_volume\n",
    "captured_volume['sfm % to aso'] = captured_volume.sfm_snow_volume / captured_volume.aso_snow_volume\n",
    "captured_volume.style.format(table_style)"
   ]
  },
  {
   "cell_type": "code",
   "execution_count": null,
   "metadata": {},
   "outputs": [],
   "source": [
    "missed_volume = pd.DataFrame({\n",
    "    'sfm_snow_volume': negative_sfm.sfm_snow_volume.sum(),\n",
    "    'aso_snow_volume': negative_sfm.aso_snow_volume.sum(),\n",
    "    },\n",
    "    index=[0]\n",
    ")\n",
    "missed_volume['difference'] = missed_volume.aso_snow_volume - missed_volume.sfm_snow_volume\n",
    "missed_volume['sfm % to aso'] = missed_volume.sfm_snow_volume / missed_volume.aso_snow_volume\n",
    "missed_volume.style.format(table_style)"
   ]
  },
  {
   "cell_type": "code",
   "execution_count": null,
   "metadata": {},
   "outputs": [],
   "source": [
    "assert (captured_volume.aso_snow_volume + missed_volume.aso_snow_volume).item(), total_volume.aso_snow_volume.item()"
   ]
  },
  {
   "cell_type": "code",
   "execution_count": null,
   "metadata": {},
   "outputs": [],
   "source": [
    "num_pixels_aso = df.aso_snow_depth.count()\n",
    "num_pixels_sfm = positive_sfm.aso_snow_depth.count()"
   ]
  },
  {
   "cell_type": "code",
   "execution_count": null,
   "metadata": {},
   "outputs": [],
   "source": [
    "print(\"Pixels with depth:\")\n",
    "print(f\"  ASO count: {num_pixels_aso:,}\")\n",
    "print(f\"  SfM count: {num_pixels_sfm:,}\")\n",
    "print(\"Percent ASO pixels:\")\n",
    "print(f\"  with values in SfM: {num_pixels_sfm/num_pixels_aso:.2%}\")\n",
    "print(f\"  with negative in SfM: {negative_sfm.query('sfm_snow_depth == sfm_snow_depth').aso_snow_depth.count()/num_pixels_aso:.2%}\")\n",
    "print(f\"  with no value in SfM: {no_values_sfm.aso_snow_depth.count()/num_pixels_aso:.2%}\")"
   ]
  },
  {
   "cell_type": "markdown",
   "metadata": {},
   "source": [
    "# SWE (50 m)"
   ]
  },
  {
   "cell_type": "code",
   "execution_count": null,
   "metadata": {},
   "outputs": [],
   "source": [
    "m2_style = \"{:,.0f} m<sup>3</sup>\"\n",
    "\n",
    "table_style = {\n",
    "    'sfm_swe': m2_style,\n",
    "    'aso_swe': m2_style,\n",
    "    'difference': m2_style,\n",
    "    'sfm % to aso': \"{:.2%}\",\n",
    "}\n",
    "columns = ['aso_swe', 'sfm_swe']"
   ]
  },
  {
   "cell_type": "code",
   "execution_count": null,
   "metadata": {},
   "outputs": [],
   "source": [
    "total_swe = pd.DataFrame({\n",
    "    'sfm_swe': df.sfm_swe.sum(),\n",
    "    'aso_swe': df.aso_swe.sum(),\n",
    "    },\n",
    "    index=[0]\n",
    ")\n",
    "total_swe['difference'] = total_swe.aso_swe - total_swe.sfm_swe\n",
    "total_swe['sfm % to aso'] = total_swe.sfm_swe / total_swe.aso_swe\n",
    "total_swe.style.format(table_style)"
   ]
  },
  {
   "cell_type": "markdown",
   "metadata": {},
   "source": [
    "## NSIDC SWE "
   ]
  },
  {
   "cell_type": "code",
   "execution_count": null,
   "metadata": {},
   "outputs": [],
   "source": [
    "swe_aso_nsidc = RasterFile(\n",
    "    SNOW_DEPTH_DIR / '20180524_ASO_SWE_ERW_basin_50m.tif',\n",
    "    band_number=1\n",
    ")\n",
    "swe_aso_values = np.ma.masked_where(\n",
    "    aso_snow_depth_values.mask,\n",
    "    swe_aso_nsidc.band_values(),\n",
    "    copy=False\n",
    ")"
   ]
  },
  {
   "cell_type": "code",
   "execution_count": null,
   "metadata": {},
   "outputs": [],
   "source": [
    "np.median((swe_aso_values / aso_snow_depth_values).compressed())"
   ]
  },
  {
   "cell_type": "code",
   "execution_count": null,
   "metadata": {},
   "outputs": [],
   "source": [
    "swe_aso_values.sum()"
   ]
  }
 ],
 "metadata": {
  "kernelspec": {
   "display_name": "snow_aso",
   "language": "python",
   "name": "snow_aso"
  },
  "language_info": {
   "codemirror_mode": {
    "name": "ipython",
    "version": 3
   },
   "file_extension": ".py",
   "mimetype": "text/x-python",
   "name": "python",
   "nbconvert_exporter": "python",
   "pygments_lexer": "ipython3",
   "version": "3.8.3"
  }
 },
 "nbformat": 4,
 "nbformat_minor": 4
}
