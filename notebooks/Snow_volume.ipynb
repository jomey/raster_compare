{
 "cells": [
  {
   "cell_type": "code",
   "execution_count": 1,
   "metadata": {},
   "outputs": [],
   "source": [
    "from source_files import *\n",
    "\n",
    "import query_helpers\n",
    "\n",
    "import math\n",
    "import numpy as np\n",
    "import pandas as pd\n",
    "import numba"
   ]
  },
  {
   "cell_type": "code",
   "execution_count": 2,
   "metadata": {},
   "outputs": [],
   "source": [
    "@numba.jit\n",
    "def column_to_volume(snow_depth, x_resolution, y_resolution):\n",
    "    length = len(snow_depth)\n",
    "    result = np.empty(length, dtype=snow_depth.dtype)\n",
    "    for i in range(length):\n",
    "        result[i] = snow_volume(snow_depth[i], x_resolution, y_resolution)\n",
    "    return result\n",
    "\n",
    "@numba.jit\n",
    "def snow_volume(snow_depth, x_resolution, y_resolution):\n",
    "    if snow_depth < 0:\n",
    "        return 0.0\n",
    "    else:\n",
    "        return math.fabs(x_resolution * y_resolution) * snow_depth"
   ]
  },
  {
   "cell_type": "code",
   "execution_count": 3,
   "metadata": {},
   "outputs": [],
   "source": [
    "df = db_query_to_df(\n",
    "        'Select aso_snow_depth, sfm_snow_depth, sd_difference, casi_class FROM ERW_analysis'\n",
    ")\n",
    "\n",
    "df['aso_snow_volume'] = column_to_volume(\n",
    "    df.aso_snow_depth.to_numpy(), \n",
    "    aso_snow_depth.x_resolution, \n",
    "    aso_snow_depth.y_resolution\n",
    ")\n",
    "df['sfm_snow_volume'] = column_to_volume(\n",
    "    df.sfm_snow_depth.to_numpy(), \n",
    "    sfm_snow_depth.x_resolution, \n",
    "    sfm_snow_depth.y_resolution\n",
    ")"
   ]
  },
  {
   "cell_type": "code",
   "execution_count": 4,
   "metadata": {},
   "outputs": [],
   "source": [
    "positive_sfm = query_helpers.get_positive(df, 'sfm_snow_depth')\n",
    "negative_sfm = query_helpers.get_negative(df, 'sfm_snow_depth')\n",
    "no_values_sfm = query_helpers.get_no_data(df, 'sfm_snow_depth')\n",
    "\n",
    "columns = ['casi_class', 'sfm_snow_depth', 'aso_snow_depth', 'sd_difference']\n",
    "\n",
    "pd.set_option('display.float_format', lambda x: '%.2f m' % x)"
   ]
  },
  {
   "cell_type": "markdown",
   "metadata": {},
   "source": [
    "# Snow Depth"
   ]
  },
  {
   "cell_type": "code",
   "execution_count": 5,
   "metadata": {},
   "outputs": [
    {
     "data": {
      "text/html": [
       "<div>\n",
       "<style scoped>\n",
       "    .dataframe tbody tr th:only-of-type {\n",
       "        vertical-align: middle;\n",
       "    }\n",
       "\n",
       "    .dataframe tbody tr th {\n",
       "        vertical-align: top;\n",
       "    }\n",
       "\n",
       "    .dataframe thead th {\n",
       "        text-align: right;\n",
       "    }\n",
       "</style>\n",
       "<table border=\"1\" class=\"dataframe\">\n",
       "  <thead>\n",
       "    <tr style=\"text-align: right;\">\n",
       "      <th></th>\n",
       "      <th>sfm_snow_depth</th>\n",
       "      <th>aso_snow_depth</th>\n",
       "      <th>sd_difference</th>\n",
       "    </tr>\n",
       "  </thead>\n",
       "  <tbody>\n",
       "    <tr>\n",
       "      <th>mean</th>\n",
       "      <td>-0.55 m</td>\n",
       "      <td>0.89 m</td>\n",
       "      <td>-1.44 m</td>\n",
       "    </tr>\n",
       "    <tr>\n",
       "      <th>median</th>\n",
       "      <td>0.45 m</td>\n",
       "      <td>0.64 m</td>\n",
       "      <td>-0.17 m</td>\n",
       "    </tr>\n",
       "    <tr>\n",
       "      <th>std</th>\n",
       "      <td>4.31 m</td>\n",
       "      <td>0.88 m</td>\n",
       "      <td>4.15 m</td>\n",
       "    </tr>\n",
       "  </tbody>\n",
       "</table>\n",
       "</div>"
      ],
      "text/plain": [
       "        sfm_snow_depth  aso_snow_depth  sd_difference\n",
       "mean           -0.55 m          0.89 m        -1.44 m\n",
       "median          0.45 m          0.64 m        -0.17 m\n",
       "std             4.31 m          0.88 m         4.15 m"
      ]
     },
     "execution_count": 5,
     "metadata": {},
     "output_type": "execute_result"
    }
   ],
   "source": [
    "df[columns].agg([np.mean, np.median, np.std])"
   ]
  },
  {
   "cell_type": "code",
   "execution_count": 6,
   "metadata": {},
   "outputs": [
    {
     "data": {
      "text/html": [
       "<div>\n",
       "<style scoped>\n",
       "    .dataframe tbody tr th:only-of-type {\n",
       "        vertical-align: middle;\n",
       "    }\n",
       "\n",
       "    .dataframe tbody tr th {\n",
       "        vertical-align: top;\n",
       "    }\n",
       "\n",
       "    .dataframe thead tr th {\n",
       "        text-align: left;\n",
       "    }\n",
       "\n",
       "    .dataframe thead tr:last-of-type th {\n",
       "        text-align: right;\n",
       "    }\n",
       "</style>\n",
       "<table border=\"1\" class=\"dataframe\">\n",
       "  <thead>\n",
       "    <tr>\n",
       "      <th></th>\n",
       "      <th colspan=\"3\" halign=\"left\">sfm_snow_depth</th>\n",
       "      <th colspan=\"3\" halign=\"left\">aso_snow_depth</th>\n",
       "      <th colspan=\"3\" halign=\"left\">sd_difference</th>\n",
       "    </tr>\n",
       "    <tr>\n",
       "      <th></th>\n",
       "      <th>mean</th>\n",
       "      <th>median</th>\n",
       "      <th>std</th>\n",
       "      <th>mean</th>\n",
       "      <th>median</th>\n",
       "      <th>std</th>\n",
       "      <th>mean</th>\n",
       "      <th>median</th>\n",
       "      <th>std</th>\n",
       "    </tr>\n",
       "    <tr>\n",
       "      <th>casi_class</th>\n",
       "      <th></th>\n",
       "      <th></th>\n",
       "      <th></th>\n",
       "      <th></th>\n",
       "      <th></th>\n",
       "      <th></th>\n",
       "      <th></th>\n",
       "      <th></th>\n",
       "      <th></th>\n",
       "    </tr>\n",
       "  </thead>\n",
       "  <tbody>\n",
       "    <tr>\n",
       "      <th>Snow</th>\n",
       "      <td>0.72 m</td>\n",
       "      <td>0.68 m</td>\n",
       "      <td>1.81 m</td>\n",
       "      <td>1.08 m</td>\n",
       "      <td>0.83 m</td>\n",
       "      <td>0.96 m</td>\n",
       "      <td>-0.36 m</td>\n",
       "      <td>-0.12 m</td>\n",
       "      <td>1.54 m</td>\n",
       "    </tr>\n",
       "    <tr>\n",
       "      <th>Vegetation</th>\n",
       "      <td>-5.70 m</td>\n",
       "      <td>-3.21 m</td>\n",
       "      <td>7.37 m</td>\n",
       "      <td>0.50 m</td>\n",
       "      <td>0.45 m</td>\n",
       "      <td>0.33 m</td>\n",
       "      <td>-6.20 m</td>\n",
       "      <td>-3.68 m</td>\n",
       "      <td>7.45 m</td>\n",
       "    </tr>\n",
       "    <tr>\n",
       "      <th>Rock</th>\n",
       "      <td>-0.97 m</td>\n",
       "      <td>0.10 m</td>\n",
       "      <td>3.99 m</td>\n",
       "      <td>0.45 m</td>\n",
       "      <td>0.27 m</td>\n",
       "      <td>0.54 m</td>\n",
       "      <td>-1.42 m</td>\n",
       "      <td>-0.15 m</td>\n",
       "      <td>4.02 m</td>\n",
       "    </tr>\n",
       "    <tr>\n",
       "      <th>Water</th>\n",
       "      <td>-4.67 m</td>\n",
       "      <td>-1.10 m</td>\n",
       "      <td>7.21 m</td>\n",
       "      <td>0.47 m</td>\n",
       "      <td>0.40 m</td>\n",
       "      <td>0.36 m</td>\n",
       "      <td>-5.13 m</td>\n",
       "      <td>-1.56 m</td>\n",
       "      <td>7.29 m</td>\n",
       "    </tr>\n",
       "  </tbody>\n",
       "</table>\n",
       "</div>"
      ],
      "text/plain": [
       "           sfm_snow_depth                aso_snow_depth                \\\n",
       "                     mean  median    std           mean median    std   \n",
       "casi_class                                                              \n",
       "Snow               0.72 m  0.68 m 1.81 m         1.08 m 0.83 m 0.96 m   \n",
       "Vegetation        -5.70 m -3.21 m 7.37 m         0.50 m 0.45 m 0.33 m   \n",
       "Rock              -0.97 m  0.10 m 3.99 m         0.45 m 0.27 m 0.54 m   \n",
       "Water             -4.67 m -1.10 m 7.21 m         0.47 m 0.40 m 0.36 m   \n",
       "\n",
       "           sd_difference                 \n",
       "                    mean  median    std  \n",
       "casi_class                               \n",
       "Snow             -0.36 m -0.12 m 1.54 m  \n",
       "Vegetation       -6.20 m -3.68 m 7.45 m  \n",
       "Rock             -1.42 m -0.15 m 4.02 m  \n",
       "Water            -5.13 m -1.56 m 7.29 m  "
      ]
     },
     "execution_count": 6,
     "metadata": {},
     "output_type": "execute_result"
    }
   ],
   "source": [
    "df[columns].groupby('casi_class').agg([np.mean, np.median, np.std])"
   ]
  },
  {
   "cell_type": "markdown",
   "metadata": {},
   "source": [
    "### Positive SfM values"
   ]
  },
  {
   "cell_type": "code",
   "execution_count": 7,
   "metadata": {},
   "outputs": [
    {
     "data": {
      "text/html": [
       "<div>\n",
       "<style scoped>\n",
       "    .dataframe tbody tr th:only-of-type {\n",
       "        vertical-align: middle;\n",
       "    }\n",
       "\n",
       "    .dataframe tbody tr th {\n",
       "        vertical-align: top;\n",
       "    }\n",
       "\n",
       "    .dataframe thead th {\n",
       "        text-align: right;\n",
       "    }\n",
       "</style>\n",
       "<table border=\"1\" class=\"dataframe\">\n",
       "  <thead>\n",
       "    <tr style=\"text-align: right;\">\n",
       "      <th></th>\n",
       "      <th>sfm_snow_depth</th>\n",
       "      <th>aso_snow_depth</th>\n",
       "      <th>sd_difference</th>\n",
       "    </tr>\n",
       "  </thead>\n",
       "  <tbody>\n",
       "    <tr>\n",
       "      <th>mean</th>\n",
       "      <td>1.06 m</td>\n",
       "      <td>1.05 m</td>\n",
       "      <td>0.01 m</td>\n",
       "    </tr>\n",
       "    <tr>\n",
       "      <th>median</th>\n",
       "      <td>0.76 m</td>\n",
       "      <td>0.79 m</td>\n",
       "      <td>-0.03 m</td>\n",
       "    </tr>\n",
       "    <tr>\n",
       "      <th>std</th>\n",
       "      <td>1.11 m</td>\n",
       "      <td>0.96 m</td>\n",
       "      <td>0.83 m</td>\n",
       "    </tr>\n",
       "  </tbody>\n",
       "</table>\n",
       "</div>"
      ],
      "text/plain": [
       "        sfm_snow_depth  aso_snow_depth  sd_difference\n",
       "mean            1.06 m          1.05 m         0.01 m\n",
       "median          0.76 m          0.79 m        -0.03 m\n",
       "std             1.11 m          0.96 m         0.83 m"
      ]
     },
     "execution_count": 7,
     "metadata": {},
     "output_type": "execute_result"
    }
   ],
   "source": [
    "positive_sfm[columns].agg([np.mean, np.median, np.std])"
   ]
  },
  {
   "cell_type": "code",
   "execution_count": 8,
   "metadata": {},
   "outputs": [
    {
     "data": {
      "text/html": [
       "<div>\n",
       "<style scoped>\n",
       "    .dataframe tbody tr th:only-of-type {\n",
       "        vertical-align: middle;\n",
       "    }\n",
       "\n",
       "    .dataframe tbody tr th {\n",
       "        vertical-align: top;\n",
       "    }\n",
       "\n",
       "    .dataframe thead tr th {\n",
       "        text-align: left;\n",
       "    }\n",
       "\n",
       "    .dataframe thead tr:last-of-type th {\n",
       "        text-align: right;\n",
       "    }\n",
       "</style>\n",
       "<table border=\"1\" class=\"dataframe\">\n",
       "  <thead>\n",
       "    <tr>\n",
       "      <th></th>\n",
       "      <th colspan=\"3\" halign=\"left\">sfm_snow_depth</th>\n",
       "      <th colspan=\"3\" halign=\"left\">aso_snow_depth</th>\n",
       "      <th colspan=\"3\" halign=\"left\">sd_difference</th>\n",
       "    </tr>\n",
       "    <tr>\n",
       "      <th></th>\n",
       "      <th>mean</th>\n",
       "      <th>median</th>\n",
       "      <th>std</th>\n",
       "      <th>mean</th>\n",
       "      <th>median</th>\n",
       "      <th>std</th>\n",
       "      <th>mean</th>\n",
       "      <th>median</th>\n",
       "      <th>std</th>\n",
       "    </tr>\n",
       "    <tr>\n",
       "      <th>casi_class</th>\n",
       "      <th></th>\n",
       "      <th></th>\n",
       "      <th></th>\n",
       "      <th></th>\n",
       "      <th></th>\n",
       "      <th></th>\n",
       "      <th></th>\n",
       "      <th></th>\n",
       "      <th></th>\n",
       "    </tr>\n",
       "  </thead>\n",
       "  <tbody>\n",
       "    <tr>\n",
       "      <th>Snow</th>\n",
       "      <td>1.08 m</td>\n",
       "      <td>0.83 m</td>\n",
       "      <td>0.97 m</td>\n",
       "      <td>1.18 m</td>\n",
       "      <td>0.93 m</td>\n",
       "      <td>0.99 m</td>\n",
       "      <td>-0.09 m</td>\n",
       "      <td>-0.06 m</td>\n",
       "      <td>0.48 m</td>\n",
       "    </tr>\n",
       "    <tr>\n",
       "      <th>Vegetation</th>\n",
       "      <td>1.54 m</td>\n",
       "      <td>0.73 m</td>\n",
       "      <td>2.21 m</td>\n",
       "      <td>0.45 m</td>\n",
       "      <td>0.37 m</td>\n",
       "      <td>0.36 m</td>\n",
       "      <td>1.09 m</td>\n",
       "      <td>0.26 m</td>\n",
       "      <td>2.24 m</td>\n",
       "    </tr>\n",
       "    <tr>\n",
       "      <th>Rock</th>\n",
       "      <td>0.62 m</td>\n",
       "      <td>0.38 m</td>\n",
       "      <td>0.84 m</td>\n",
       "      <td>0.52 m</td>\n",
       "      <td>0.31 m</td>\n",
       "      <td>0.63 m</td>\n",
       "      <td>0.10 m</td>\n",
       "      <td>0.04 m</td>\n",
       "      <td>0.74 m</td>\n",
       "    </tr>\n",
       "    <tr>\n",
       "      <th>Water</th>\n",
       "      <td>1.45 m</td>\n",
       "      <td>0.63 m</td>\n",
       "      <td>2.21 m</td>\n",
       "      <td>0.43 m</td>\n",
       "      <td>0.33 m</td>\n",
       "      <td>0.43 m</td>\n",
       "      <td>1.02 m</td>\n",
       "      <td>0.23 m</td>\n",
       "      <td>2.23 m</td>\n",
       "    </tr>\n",
       "  </tbody>\n",
       "</table>\n",
       "</div>"
      ],
      "text/plain": [
       "           sfm_snow_depth               aso_snow_depth                \\\n",
       "                     mean median    std           mean median    std   \n",
       "casi_class                                                             \n",
       "Snow               1.08 m 0.83 m 0.97 m         1.18 m 0.93 m 0.99 m   \n",
       "Vegetation         1.54 m 0.73 m 2.21 m         0.45 m 0.37 m 0.36 m   \n",
       "Rock               0.62 m 0.38 m 0.84 m         0.52 m 0.31 m 0.63 m   \n",
       "Water              1.45 m 0.63 m 2.21 m         0.43 m 0.33 m 0.43 m   \n",
       "\n",
       "           sd_difference                 \n",
       "                    mean  median    std  \n",
       "casi_class                               \n",
       "Snow             -0.09 m -0.06 m 0.48 m  \n",
       "Vegetation        1.09 m  0.26 m 2.24 m  \n",
       "Rock              0.10 m  0.04 m 0.74 m  \n",
       "Water             1.02 m  0.23 m 2.23 m  "
      ]
     },
     "execution_count": 8,
     "metadata": {},
     "output_type": "execute_result"
    }
   ],
   "source": [
    "positive_sfm[columns].groupby('casi_class').agg([np.mean, np.median, np.std])"
   ]
  },
  {
   "cell_type": "code",
   "execution_count": 37,
   "metadata": {},
   "outputs": [
    {
     "data": {
      "text/plain": [
       "0.08178103810758588"
      ]
     },
     "execution_count": 37,
     "metadata": {},
     "output_type": "execute_result"
    }
   ],
   "source": [
    "values = (df.aso_snow_depth < 0.08).value_counts()\n",
    "values[True]/values.sum()"
   ]
  },
  {
   "cell_type": "code",
   "execution_count": 38,
   "metadata": {},
   "outputs": [
    {
     "data": {
      "text/plain": [
       "0.15113021384267192"
      ]
     },
     "execution_count": 38,
     "metadata": {},
     "output_type": "execute_result"
    }
   ],
   "source": [
    "values = (positive_sfm.sfm_snow_depth <= 0.22).value_counts()\n",
    "values[True]/values.sum()"
   ]
  },
  {
   "cell_type": "code",
   "execution_count": 77,
   "metadata": {},
   "outputs": [
    {
     "data": {
      "text/html": [
       "<div>\n",
       "<style scoped>\n",
       "    .dataframe tbody tr th:only-of-type {\n",
       "        vertical-align: middle;\n",
       "    }\n",
       "\n",
       "    .dataframe tbody tr th {\n",
       "        vertical-align: top;\n",
       "    }\n",
       "\n",
       "    .dataframe thead th {\n",
       "        text-align: right;\n",
       "    }\n",
       "</style>\n",
       "<table border=\"1\" class=\"dataframe\">\n",
       "  <thead>\n",
       "    <tr style=\"text-align: right;\">\n",
       "      <th></th>\n",
       "      <th>sfm_snow_depth</th>\n",
       "      <th>aso_snow_depth</th>\n",
       "      <th>sd_difference</th>\n",
       "    </tr>\n",
       "  </thead>\n",
       "  <tbody>\n",
       "    <tr>\n",
       "      <th>mean</th>\n",
       "      <td>-0.143425</td>\n",
       "      <td>0.039942</td>\n",
       "      <td>-0.183352</td>\n",
       "    </tr>\n",
       "    <tr>\n",
       "      <th>median</th>\n",
       "      <td>0.035156</td>\n",
       "      <td>0.038855</td>\n",
       "      <td>-0.003943</td>\n",
       "    </tr>\n",
       "    <tr>\n",
       "      <th>std</th>\n",
       "      <td>1.718449</td>\n",
       "      <td>0.023104</td>\n",
       "      <td>1.719109</td>\n",
       "    </tr>\n",
       "  </tbody>\n",
       "</table>\n",
       "</div>"
      ],
      "text/plain": [
       "        sfm_snow_depth  aso_snow_depth  sd_difference\n",
       "mean         -0.143425        0.039942      -0.183352\n",
       "median        0.035156        0.038855      -0.003943\n",
       "std           1.718449        0.023104       1.719109"
      ]
     },
     "execution_count": 77,
     "metadata": {},
     "output_type": "execute_result"
    }
   ],
   "source": [
    "df.where(df.aso_snow_depth <= 0.08)[['sfm_snow_depth', 'aso_snow_depth', 'sd_difference']].agg([np.mean, np.median, np.std])"
   ]
  },
  {
   "cell_type": "code",
   "execution_count": 60,
   "metadata": {},
   "outputs": [
    {
     "name": "stdout",
     "output_type": "stream",
     "text": [
      "Depth range: 0 m and 1 m\n",
      "        sfm_snow_depth  aso_snow_depth  sd_difference\n",
      "mean          0.464389        0.579376      -0.114988\n",
      "median        0.447510        0.517126      -0.053503\n",
      "std           0.279252        0.432241       0.387503\n",
      "Depth range: 1 m and 2 m\n",
      "        sfm_snow_depth  aso_snow_depth  sd_difference\n",
      "mean          1.404407        1.383389       0.021017\n",
      "median        1.361084        1.366980       0.009729\n",
      "std           0.279142        0.556227       0.494507\n",
      "Depth range: 2 m and 3 m\n",
      "        sfm_snow_depth  aso_snow_depth  sd_difference\n",
      "mean          2.411041        2.258940       0.152100\n",
      "median        2.368896        2.349890       0.025598\n",
      "std           0.281298        0.801056       0.771067\n",
      "Depth range: 3 m and 4 m\n",
      "        sfm_snow_depth  aso_snow_depth  sd_difference\n",
      "mean          3.415680        2.976354       0.439325\n",
      "median        3.375732        3.293982       0.074915\n",
      "std           0.281670        1.220017       1.213817\n",
      "Depth range: 4 m and 5 m\n",
      "        sfm_snow_depth  aso_snow_depth  sd_difference\n",
      "mean          4.424967        3.432400       0.992567\n",
      "median        4.387939        4.181433       0.169641\n",
      "std           0.284427        1.824172       1.833994\n"
     ]
    }
   ],
   "source": [
    "for i in range(1, 6):\n",
    "    print(f\"Depth range: {i - 1} m and {i} m\")\n",
    "    query = positive_sfm.where(((i - 1) < positive_sfm.sfm_snow_depth) & (positive_sfm.sfm_snow_depth <= i))\n",
    "    print(query[['sfm_snow_depth', 'aso_snow_depth', 'sd_difference']].agg([np.mean, np.median, np.std]))\n",
    "    #     print(f\" SfM: {query.sfm_snow_volume.sum():,.2f}\")\n",
    "#     print(f\" ASO: {query.aso_snow_volume.sum():,.2f}\")"
   ]
  },
  {
   "cell_type": "markdown",
   "metadata": {},
   "source": [
    "### Negative SfM values"
   ]
  },
  {
   "cell_type": "code",
   "execution_count": 10,
   "metadata": {},
   "outputs": [
    {
     "data": {
      "text/html": [
       "<div>\n",
       "<style scoped>\n",
       "    .dataframe tbody tr th:only-of-type {\n",
       "        vertical-align: middle;\n",
       "    }\n",
       "\n",
       "    .dataframe tbody tr th {\n",
       "        vertical-align: top;\n",
       "    }\n",
       "\n",
       "    .dataframe thead th {\n",
       "        text-align: right;\n",
       "    }\n",
       "</style>\n",
       "<table border=\"1\" class=\"dataframe\">\n",
       "  <thead>\n",
       "    <tr style=\"text-align: right;\">\n",
       "      <th></th>\n",
       "      <th>sfm_snow_depth</th>\n",
       "      <th>aso_snow_depth</th>\n",
       "      <th>sd_difference</th>\n",
       "    </tr>\n",
       "  </thead>\n",
       "  <tbody>\n",
       "    <tr>\n",
       "      <th>mean</th>\n",
       "      <td>-4.81 m</td>\n",
       "      <td>0.48 m</td>\n",
       "      <td>-5.28 m</td>\n",
       "    </tr>\n",
       "    <tr>\n",
       "      <th>median</th>\n",
       "      <td>-0.93 m</td>\n",
       "      <td>0.39 m</td>\n",
       "      <td>-1.67 m</td>\n",
       "    </tr>\n",
       "    <tr>\n",
       "      <th>std</th>\n",
       "      <td>6.30 m</td>\n",
       "      <td>0.42 m</td>\n",
       "      <td>6.39 m</td>\n",
       "    </tr>\n",
       "  </tbody>\n",
       "</table>\n",
       "</div>"
      ],
      "text/plain": [
       "        sfm_snow_depth  aso_snow_depth  sd_difference\n",
       "mean           -4.81 m          0.48 m        -5.28 m\n",
       "median         -0.93 m          0.39 m        -1.67 m\n",
       "std             6.30 m          0.42 m         6.39 m"
      ]
     },
     "execution_count": 10,
     "metadata": {},
     "output_type": "execute_result"
    }
   ],
   "source": [
    "negative_sfm[columns].agg([np.mean, np.median, np.std])"
   ]
  },
  {
   "cell_type": "code",
   "execution_count": 81,
   "metadata": {},
   "outputs": [
    {
     "data": {
      "text/html": [
       "<div>\n",
       "<style scoped>\n",
       "    .dataframe tbody tr th:only-of-type {\n",
       "        vertical-align: middle;\n",
       "    }\n",
       "\n",
       "    .dataframe tbody tr th {\n",
       "        vertical-align: top;\n",
       "    }\n",
       "\n",
       "    .dataframe thead th {\n",
       "        text-align: right;\n",
       "    }\n",
       "</style>\n",
       "<table border=\"1\" class=\"dataframe\">\n",
       "  <thead>\n",
       "    <tr style=\"text-align: right;\">\n",
       "      <th></th>\n",
       "      <th>sfm_snow_depth</th>\n",
       "      <th>aso_snow_depth</th>\n",
       "      <th>sd_difference</th>\n",
       "    </tr>\n",
       "  </thead>\n",
       "  <tbody>\n",
       "    <tr>\n",
       "      <th>mean</th>\n",
       "      <td>-0.779916</td>\n",
       "      <td>0.039877</td>\n",
       "      <td>-0.819759</td>\n",
       "    </tr>\n",
       "    <tr>\n",
       "      <th>median</th>\n",
       "      <td>-0.180664</td>\n",
       "      <td>0.038611</td>\n",
       "      <td>-0.220984</td>\n",
       "    </tr>\n",
       "    <tr>\n",
       "      <th>std</th>\n",
       "      <td>2.223287</td>\n",
       "      <td>0.023195</td>\n",
       "      <td>2.224483</td>\n",
       "    </tr>\n",
       "  </tbody>\n",
       "</table>\n",
       "</div>"
      ],
      "text/plain": [
       "        sfm_snow_depth  aso_snow_depth  sd_difference\n",
       "mean         -0.779916        0.039877      -0.819759\n",
       "median       -0.180664        0.038611      -0.220984\n",
       "std           2.223287        0.023195       2.224483"
      ]
     },
     "execution_count": 81,
     "metadata": {},
     "output_type": "execute_result"
    }
   ],
   "source": [
    "negative_sfm.where(negative_sfm.aso_snow_depth <= 0.08)[['sfm_snow_depth', 'aso_snow_depth', 'sd_difference']].agg([np.mean, np.median, np.std])"
   ]
  },
  {
   "cell_type": "code",
   "execution_count": 11,
   "metadata": {},
   "outputs": [
    {
     "data": {
      "text/html": [
       "<div>\n",
       "<style scoped>\n",
       "    .dataframe tbody tr th:only-of-type {\n",
       "        vertical-align: middle;\n",
       "    }\n",
       "\n",
       "    .dataframe tbody tr th {\n",
       "        vertical-align: top;\n",
       "    }\n",
       "\n",
       "    .dataframe thead tr th {\n",
       "        text-align: left;\n",
       "    }\n",
       "\n",
       "    .dataframe thead tr:last-of-type th {\n",
       "        text-align: right;\n",
       "    }\n",
       "</style>\n",
       "<table border=\"1\" class=\"dataframe\">\n",
       "  <thead>\n",
       "    <tr>\n",
       "      <th></th>\n",
       "      <th colspan=\"3\" halign=\"left\">sfm_snow_depth</th>\n",
       "      <th colspan=\"3\" halign=\"left\">aso_snow_depth</th>\n",
       "      <th colspan=\"3\" halign=\"left\">sd_difference</th>\n",
       "    </tr>\n",
       "    <tr>\n",
       "      <th></th>\n",
       "      <th>mean</th>\n",
       "      <th>median</th>\n",
       "      <th>std</th>\n",
       "      <th>mean</th>\n",
       "      <th>median</th>\n",
       "      <th>std</th>\n",
       "      <th>mean</th>\n",
       "      <th>median</th>\n",
       "      <th>std</th>\n",
       "    </tr>\n",
       "    <tr>\n",
       "      <th>casi_class</th>\n",
       "      <th></th>\n",
       "      <th></th>\n",
       "      <th></th>\n",
       "      <th></th>\n",
       "      <th></th>\n",
       "      <th></th>\n",
       "      <th></th>\n",
       "      <th></th>\n",
       "      <th></th>\n",
       "    </tr>\n",
       "  </thead>\n",
       "  <tbody>\n",
       "    <tr>\n",
       "      <th>Snow</th>\n",
       "      <td>-1.41 m</td>\n",
       "      <td>-0.28 m</td>\n",
       "      <td>3.42 m</td>\n",
       "      <td>0.52 m</td>\n",
       "      <td>0.36 m</td>\n",
       "      <td>0.52 m</td>\n",
       "      <td>-1.91 m</td>\n",
       "      <td>-0.78 m</td>\n",
       "      <td>3.48 m</td>\n",
       "    </tr>\n",
       "    <tr>\n",
       "      <th>Vegetation</th>\n",
       "      <td>-8.76 m</td>\n",
       "      <td>-8.57 m</td>\n",
       "      <td>6.61 m</td>\n",
       "      <td>0.52 m</td>\n",
       "      <td>0.48 m</td>\n",
       "      <td>0.31 m</td>\n",
       "      <td>-9.28 m</td>\n",
       "      <td>-9.11 m</td>\n",
       "      <td>6.71 m</td>\n",
       "    </tr>\n",
       "    <tr>\n",
       "      <th>Rock</th>\n",
       "      <td>-3.30 m</td>\n",
       "      <td>-0.43 m</td>\n",
       "      <td>5.40 m</td>\n",
       "      <td>0.35 m</td>\n",
       "      <td>0.23 m</td>\n",
       "      <td>0.38 m</td>\n",
       "      <td>-3.65 m</td>\n",
       "      <td>-0.80 m</td>\n",
       "      <td>5.53 m</td>\n",
       "    </tr>\n",
       "    <tr>\n",
       "      <th>Water</th>\n",
       "      <td>-8.12 m</td>\n",
       "      <td>-7.17 m</td>\n",
       "      <td>6.76 m</td>\n",
       "      <td>0.49 m</td>\n",
       "      <td>0.44 m</td>\n",
       "      <td>0.32 m</td>\n",
       "      <td>-8.60 m</td>\n",
       "      <td>-7.66 m</td>\n",
       "      <td>6.86 m</td>\n",
       "    </tr>\n",
       "  </tbody>\n",
       "</table>\n",
       "</div>"
      ],
      "text/plain": [
       "           sfm_snow_depth                aso_snow_depth                \\\n",
       "                     mean  median    std           mean median    std   \n",
       "casi_class                                                              \n",
       "Snow              -1.41 m -0.28 m 3.42 m         0.52 m 0.36 m 0.52 m   \n",
       "Vegetation        -8.76 m -8.57 m 6.61 m         0.52 m 0.48 m 0.31 m   \n",
       "Rock              -3.30 m -0.43 m 5.40 m         0.35 m 0.23 m 0.38 m   \n",
       "Water             -8.12 m -7.17 m 6.76 m         0.49 m 0.44 m 0.32 m   \n",
       "\n",
       "           sd_difference                 \n",
       "                    mean  median    std  \n",
       "casi_class                               \n",
       "Snow             -1.91 m -0.78 m 3.48 m  \n",
       "Vegetation       -9.28 m -9.11 m 6.71 m  \n",
       "Rock             -3.65 m -0.80 m 5.53 m  \n",
       "Water            -8.60 m -7.66 m 6.86 m  "
      ]
     },
     "execution_count": 11,
     "metadata": {},
     "output_type": "execute_result"
    }
   ],
   "source": [
    "negative_sfm[columns].groupby('casi_class').agg([np.mean, np.median, np.std])"
   ]
  },
  {
   "cell_type": "code",
   "execution_count": 12,
   "metadata": {},
   "outputs": [],
   "source": [
    "pd.set_option('display.float_format', None)"
   ]
  },
  {
   "cell_type": "markdown",
   "metadata": {},
   "source": [
    "# Snow Volume"
   ]
  },
  {
   "cell_type": "code",
   "execution_count": 13,
   "metadata": {
    "jupyter": {
     "source_hidden": true
    }
   },
   "outputs": [],
   "source": [
    "m2_style = \"{:,.0f} m<sup>3</sup>\"\n",
    "table_style = {\n",
    "    'sfm_snow_volume': m2_style,\n",
    "    'aso_snow_volume': m2_style,\n",
    "    'difference': m2_style,\n",
    "    'sfm % to aso': \"{:.2%}\",\n",
    "    'percent_sfm_scene': \"{:.2%}\",\n",
    "}\n",
    "columns = ['casi_class', 'aso_snow_volume', 'sfm_snow_volume']"
   ]
  },
  {
   "cell_type": "code",
   "execution_count": 14,
   "metadata": {},
   "outputs": [
    {
     "data": {
      "text/html": [
       "<style  type=\"text/css\" >\n",
       "</style><table id=\"T_4618e6f6_cc51_11ea_9d8c_20040feeea60\" ><thead>    <tr>        <th class=\"blank level0\" ></th>        <th class=\"col_heading level0 col0\" >sfm_snow_volume</th>        <th class=\"col_heading level0 col1\" >aso_snow_volume</th>        <th class=\"col_heading level0 col2\" >difference</th>        <th class=\"col_heading level0 col3\" >sfm % to aso</th>    </tr></thead><tbody>\n",
       "                <tr>\n",
       "                        <th id=\"T_4618e6f6_cc51_11ea_9d8c_20040feeea60level0_row0\" class=\"row_heading level0 row0\" >0</th>\n",
       "                        <td id=\"T_4618e6f6_cc51_11ea_9d8c_20040feeea60row0_col0\" class=\"data row0 col0\" >21,103,260 m<sup>3</sup></td>\n",
       "                        <td id=\"T_4618e6f6_cc51_11ea_9d8c_20040feeea60row0_col1\" class=\"data row0 col1\" >24,523,900 m<sup>3</sup></td>\n",
       "                        <td id=\"T_4618e6f6_cc51_11ea_9d8c_20040feeea60row0_col2\" class=\"data row0 col2\" >3,420,640 m<sup>3</sup></td>\n",
       "                        <td id=\"T_4618e6f6_cc51_11ea_9d8c_20040feeea60row0_col3\" class=\"data row0 col3\" >86.05%</td>\n",
       "            </tr>\n",
       "    </tbody></table>"
      ],
      "text/plain": [
       "<pandas.io.formats.style.Styler at 0x7fb1db1ae160>"
      ]
     },
     "execution_count": 14,
     "metadata": {},
     "output_type": "execute_result"
    }
   ],
   "source": [
    "total_volume = pd.DataFrame({\n",
    "    'sfm_snow_volume': df.sfm_snow_volume.sum(),\n",
    "    'aso_snow_volume': df.aso_snow_volume.sum(),\n",
    "    },\n",
    "    index=[0]\n",
    ")\n",
    "total_volume['difference'] = total_volume.aso_snow_volume - total_volume.sfm_snow_volume\n",
    "total_volume['sfm % to aso'] = total_volume.sfm_snow_volume / total_volume.aso_snow_volume\n",
    "total_volume.style.format(table_style)"
   ]
  },
  {
   "cell_type": "code",
   "execution_count": 15,
   "metadata": {},
   "outputs": [
    {
     "data": {
      "text/html": [
       "<style  type=\"text/css\" >\n",
       "</style><table id=\"T_46492cbc_cc51_11ea_9d8c_20040feeea60\" ><thead>    <tr>        <th class=\"blank level0\" ></th>        <th class=\"col_heading level0 col0\" >sfm_snow_volume</th>        <th class=\"col_heading level0 col1\" >aso_snow_volume</th>        <th class=\"col_heading level0 col2\" >difference</th>        <th class=\"col_heading level0 col3\" >sfm % to aso</th>    </tr></thead><tbody>\n",
       "                <tr>\n",
       "                        <th id=\"T_46492cbc_cc51_11ea_9d8c_20040feeea60level0_row0\" class=\"row_heading level0 row0\" >0</th>\n",
       "                        <td id=\"T_46492cbc_cc51_11ea_9d8c_20040feeea60row0_col0\" class=\"data row0 col0\" >21,103,260 m<sup>3</sup></td>\n",
       "                        <td id=\"T_46492cbc_cc51_11ea_9d8c_20040feeea60row0_col1\" class=\"data row0 col1\" >20,840,970 m<sup>3</sup></td>\n",
       "                        <td id=\"T_46492cbc_cc51_11ea_9d8c_20040feeea60row0_col2\" class=\"data row0 col2\" >-262,289 m<sup>3</sup></td>\n",
       "                        <td id=\"T_46492cbc_cc51_11ea_9d8c_20040feeea60row0_col3\" class=\"data row0 col3\" >101.26%</td>\n",
       "            </tr>\n",
       "    </tbody></table>"
      ],
      "text/plain": [
       "<pandas.io.formats.style.Styler at 0x7fb1db194b20>"
      ]
     },
     "execution_count": 15,
     "metadata": {},
     "output_type": "execute_result"
    }
   ],
   "source": [
    "captured_volume = pd.DataFrame({\n",
    "    'sfm_snow_volume': positive_sfm.sfm_snow_volume.sum(),\n",
    "    'aso_snow_volume': positive_sfm.aso_snow_volume.sum(),\n",
    "    },\n",
    "    index=[0]\n",
    ")\n",
    "captured_volume['difference'] = captured_volume.aso_snow_volume - captured_volume.sfm_snow_volume\n",
    "captured_volume['sfm % to aso'] = captured_volume.sfm_snow_volume / captured_volume.aso_snow_volume\n",
    "captured_volume.style.format(table_style)"
   ]
  },
  {
   "cell_type": "code",
   "execution_count": 16,
   "metadata": {},
   "outputs": [
    {
     "data": {
      "text/html": [
       "<style  type=\"text/css\" >\n",
       "</style><table id=\"T_465e7694_cc51_11ea_9d8c_20040feeea60\" ><thead>    <tr>        <th class=\"blank level0\" ></th>        <th class=\"col_heading level0 col0\" >sfm_snow_volume</th>        <th class=\"col_heading level0 col1\" >aso_snow_volume</th>        <th class=\"col_heading level0 col2\" >difference</th>        <th class=\"col_heading level0 col3\" >sfm % to aso</th>    </tr></thead><tbody>\n",
       "                <tr>\n",
       "                        <th id=\"T_465e7694_cc51_11ea_9d8c_20040feeea60level0_row0\" class=\"row_heading level0 row0\" >0</th>\n",
       "                        <td id=\"T_465e7694_cc51_11ea_9d8c_20040feeea60row0_col0\" class=\"data row0 col0\" >0 m<sup>3</sup></td>\n",
       "                        <td id=\"T_465e7694_cc51_11ea_9d8c_20040feeea60row0_col1\" class=\"data row0 col1\" >3,682,930 m<sup>3</sup></td>\n",
       "                        <td id=\"T_465e7694_cc51_11ea_9d8c_20040feeea60row0_col2\" class=\"data row0 col2\" >3,682,930 m<sup>3</sup></td>\n",
       "                        <td id=\"T_465e7694_cc51_11ea_9d8c_20040feeea60row0_col3\" class=\"data row0 col3\" >0.00%</td>\n",
       "            </tr>\n",
       "    </tbody></table>"
      ],
      "text/plain": [
       "<pandas.io.formats.style.Styler at 0x7fb1da5f4850>"
      ]
     },
     "execution_count": 16,
     "metadata": {},
     "output_type": "execute_result"
    }
   ],
   "source": [
    "missed_volume = pd.DataFrame({\n",
    "    'sfm_snow_volume': negative_sfm.sfm_snow_volume.sum(),\n",
    "    'aso_snow_volume': negative_sfm.aso_snow_volume.sum(),\n",
    "    },\n",
    "    index=[0]\n",
    ")\n",
    "missed_volume['difference'] = missed_volume.aso_snow_volume - missed_volume.sfm_snow_volume\n",
    "missed_volume['sfm % to aso'] = missed_volume.sfm_snow_volume / missed_volume.aso_snow_volume\n",
    "missed_volume.style.format(table_style)"
   ]
  },
  {
   "cell_type": "code",
   "execution_count": 17,
   "metadata": {},
   "outputs": [],
   "source": [
    "assert (captured_volume.aso_snow_volume + missed_volume.aso_snow_volume).item(), total_volume.aso_snow_volume.item()"
   ]
  },
  {
   "cell_type": "code",
   "execution_count": 18,
   "metadata": {},
   "outputs": [],
   "source": [
    "num_pixels_aso = df.aso_snow_depth.count()\n",
    "num_pixels_sfm = positive_sfm.aso_snow_depth.count()"
   ]
  },
  {
   "cell_type": "code",
   "execution_count": 36,
   "metadata": {},
   "outputs": [
    {
     "name": "stdout",
     "output_type": "stream",
     "text": [
      "Pixel:\n",
      "  ASO count: 27607023\n",
      "  SfM count: 19942465\n",
      "Percent ASO pixels:\n",
      "  with values in SfM: 72.24%\n",
      "  with negative in SfM: 27.25%\n",
      "  with no value in SfM: 0.51%\n"
     ]
    }
   ],
   "source": [
    "print(\"Pixels with depth:\")\n",
    "print(f\"  ASO count: {num_pixels_aso:,}\")\n",
    "print(f\"  SfM count: {num_pixels_sfm:,}\")\n",
    "print(\"Percent ASO pixels:\")\n",
    "print(f\"  with values in SfM: {num_pixels_sfm/num_pixels_aso:.2%}\")\n",
    "print(f\"  with negative in SfM: {negative_sfm.query('sfm_snow_depth == sfm_snow_depth').aso_snow_depth.count()/num_pixels_aso:.2%}\")\n",
    "print(f\"  with no value in SfM: {no_values_sfm.aso_snow_depth.count()/num_pixels_aso:.2%}\")"
   ]
  },
  {
   "cell_type": "code",
   "execution_count": 20,
   "metadata": {},
   "outputs": [
    {
     "data": {
      "text/html": [
       "<style  type=\"text/css\" >\n",
       "</style><table id=\"T_475ff860_cc51_11ea_9d8c_20040feeea60\" ><thead>    <tr>        <th class=\"blank level0\" ></th>        <th class=\"col_heading level0 col0\" >aso_snow_volume</th>        <th class=\"col_heading level0 col1\" >sfm_snow_volume</th>        <th class=\"col_heading level0 col2\" >difference</th>        <th class=\"col_heading level0 col3\" >sfm % to aso</th>        <th class=\"col_heading level0 col4\" >percent_sfm_scene</th>    </tr>    <tr>        <th class=\"index_name level0\" >casi_class</th>        <th class=\"blank\" ></th>        <th class=\"blank\" ></th>        <th class=\"blank\" ></th>        <th class=\"blank\" ></th>        <th class=\"blank\" ></th>    </tr></thead><tbody>\n",
       "                <tr>\n",
       "                        <th id=\"T_475ff860_cc51_11ea_9d8c_20040feeea60level0_row0\" class=\"row_heading level0 row0\" >Snow</th>\n",
       "                        <td id=\"T_475ff860_cc51_11ea_9d8c_20040feeea60row0_col0\" class=\"data row0 col0\" >20,450,122 m<sup>3</sup></td>\n",
       "                        <td id=\"T_475ff860_cc51_11ea_9d8c_20040feeea60row0_col1\" class=\"data row0 col1\" >17,465,415 m<sup>3</sup></td>\n",
       "                        <td id=\"T_475ff860_cc51_11ea_9d8c_20040feeea60row0_col2\" class=\"data row0 col2\" >2,984,707 m<sup>3</sup></td>\n",
       "                        <td id=\"T_475ff860_cc51_11ea_9d8c_20040feeea60row0_col3\" class=\"data row0 col3\" >85.40%</td>\n",
       "                        <td id=\"T_475ff860_cc51_11ea_9d8c_20040feeea60row0_col4\" class=\"data row0 col4\" >80.83%</td>\n",
       "            </tr>\n",
       "            <tr>\n",
       "                        <th id=\"T_475ff860_cc51_11ea_9d8c_20040feeea60level0_row1\" class=\"row_heading level0 row1\" >Vegetation</th>\n",
       "                        <td id=\"T_475ff860_cc51_11ea_9d8c_20040feeea60row1_col0\" class=\"data row1 col0\" >1,759,627 m<sup>3</sup></td>\n",
       "                        <td id=\"T_475ff860_cc51_11ea_9d8c_20040feeea60row1_col1\" class=\"data row1 col1\" >1,615,518 m<sup>3</sup></td>\n",
       "                        <td id=\"T_475ff860_cc51_11ea_9d8c_20040feeea60row1_col2\" class=\"data row1 col2\" >144,108 m<sup>3</sup></td>\n",
       "                        <td id=\"T_475ff860_cc51_11ea_9d8c_20040feeea60row1_col3\" class=\"data row1 col3\" >91.81%</td>\n",
       "                        <td id=\"T_475ff860_cc51_11ea_9d8c_20040feeea60row1_col4\" class=\"data row1 col4\" >5.25%</td>\n",
       "            </tr>\n",
       "            <tr>\n",
       "                        <th id=\"T_475ff860_cc51_11ea_9d8c_20040feeea60level0_row2\" class=\"row_heading level0 row2\" >Rock</th>\n",
       "                        <td id=\"T_475ff860_cc51_11ea_9d8c_20040feeea60row2_col0\" class=\"data row2 col0\" >1,852,569 m<sup>3</sup></td>\n",
       "                        <td id=\"T_475ff860_cc51_11ea_9d8c_20040feeea60row2_col1\" class=\"data row2 col1\" >1,510,543 m<sup>3</sup></td>\n",
       "                        <td id=\"T_475ff860_cc51_11ea_9d8c_20040feeea60row2_col2\" class=\"data row2 col2\" >342,026 m<sup>3</sup></td>\n",
       "                        <td id=\"T_475ff860_cc51_11ea_9d8c_20040feeea60row2_col3\" class=\"data row2 col3\" >81.54%</td>\n",
       "                        <td id=\"T_475ff860_cc51_11ea_9d8c_20040feeea60row2_col4\" class=\"data row2 col4\" >12.15%</td>\n",
       "            </tr>\n",
       "            <tr>\n",
       "                        <th id=\"T_475ff860_cc51_11ea_9d8c_20040feeea60level0_row3\" class=\"row_heading level0 row3\" >Water</th>\n",
       "                        <td id=\"T_475ff860_cc51_11ea_9d8c_20040feeea60row3_col0\" class=\"data row3 col0\" >461,582 m<sup>3</sup></td>\n",
       "                        <td id=\"T_475ff860_cc51_11ea_9d8c_20040feeea60row3_col1\" class=\"data row3 col1\" >511,783 m<sup>3</sup></td>\n",
       "                        <td id=\"T_475ff860_cc51_11ea_9d8c_20040feeea60row3_col2\" class=\"data row3 col2\" >-50,201 m<sup>3</sup></td>\n",
       "                        <td id=\"T_475ff860_cc51_11ea_9d8c_20040feeea60row3_col3\" class=\"data row3 col3\" >110.88%</td>\n",
       "                        <td id=\"T_475ff860_cc51_11ea_9d8c_20040feeea60row3_col4\" class=\"data row3 col4\" >1.77%</td>\n",
       "            </tr>\n",
       "    </tbody></table>"
      ],
      "text/plain": [
       "<pandas.io.formats.style.Styler at 0x7fb1da59afa0>"
      ]
     },
     "execution_count": 20,
     "metadata": {},
     "output_type": "execute_result"
    }
   ],
   "source": [
    "pixel_stats = positive_sfm[columns].groupby('casi_class').count()\n",
    "\n",
    "grouped_volume = df[columns].groupby('casi_class').sum()\n",
    "grouped_volume['difference'] = grouped_volume.aso_snow_volume - grouped_volume.sfm_snow_volume\n",
    "grouped_volume['sfm % to aso'] = grouped_volume.sfm_snow_volume / grouped_volume.aso_snow_volume\n",
    "grouped_volume['percent_sfm_scene'] = (pixel_stats.sfm_snow_volume / num_pixels_sfm)\n",
    "grouped_volume.style.format(table_style)"
   ]
  }
 ],
 "metadata": {
  "kernelspec": {
   "display_name": "snow_aso",
   "language": "python",
   "name": "snow_aso"
  },
  "language_info": {
   "codemirror_mode": {
    "name": "ipython",
    "version": 3
   },
   "file_extension": ".py",
   "mimetype": "text/x-python",
   "name": "python",
   "nbconvert_exporter": "python",
   "pygments_lexer": "ipython3",
   "version": "3.8.3"
  }
 },
 "nbformat": 4,
 "nbformat_minor": 4
}
