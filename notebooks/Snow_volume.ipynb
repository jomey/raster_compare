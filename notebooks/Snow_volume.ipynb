{
 "cells": [
  {
   "cell_type": "code",
   "execution_count": null,
   "metadata": {},
   "outputs": [],
   "source": [
    "from source_files import *\n",
    "from source_files_extended import aso_snow_depth, sfm_snow_depth\n",
    "\n",
    "import query_helpers\n",
    "\n",
    "import math\n",
    "import numpy as np\n",
    "import pandas as pd\n",
    "import numba"
   ]
  },
  {
   "cell_type": "code",
   "execution_count": null,
   "metadata": {},
   "outputs": [],
   "source": [
    "@numba.jit\n",
    "def column_to_volume(snow_depth, x_resolution, y_resolution):\n",
    "    length = len(snow_depth)\n",
    "    result = np.empty(length, dtype=snow_depth.dtype)\n",
    "    for i in range(length):\n",
    "        result[i] = snow_volume(snow_depth[i], x_resolution, y_resolution)\n",
    "    return result\n",
    "\n",
    "@numba.jit\n",
    "def snow_volume(snow_depth, x_resolution, y_resolution):\n",
    "    if snow_depth < 0:\n",
    "        return 0.0\n",
    "    else:\n",
    "        return math.fabs(x_resolution * y_resolution) * snow_depth\n",
    "    \n",
    "@numba.jit\n",
    "def column_to_swe(snow_depth):\n",
    "    length = len(snow_depth)\n",
    "    result = np.empty(length, dtype=snow_depth.dtype)\n",
    "    for i in range(length):\n",
    "        result[i] = swe_from_depth(snow_depth[i])\n",
    "    return result\n",
    "\n",
    "@numba.jit\n",
    "def swe_from_depth(snow_depth):\n",
    "    \"\"\"\n",
    "    Assume constant density of 350 kg/m^3\n",
    "    \"\"\"\n",
    "    if snow_depth < 0:\n",
    "        return 0.0\n",
    "    else:\n",
    "        return snow_depth * .350"
   ]
  },
  {
   "cell_type": "code",
   "execution_count": null,
   "metadata": {},
   "outputs": [],
   "source": [
    "df = db_query_to_df(\n",
    "        'Select aso_snow_depth, sfm_snow_depth, sd_difference, casi_class, elevation FROM ERW_analysis'\n",
    ")"
   ]
  },
  {
   "cell_type": "code",
   "execution_count": null,
   "metadata": {},
   "outputs": [],
   "source": [
    "df['aso_snow_volume'] = column_to_volume(\n",
    "    df.aso_snow_depth.to_numpy(), \n",
    "    aso_snow_depth.x_resolution, \n",
    "    aso_snow_depth.y_resolution\n",
    ")\n",
    "df['sfm_snow_volume'] = column_to_volume(\n",
    "    df.sfm_snow_depth.to_numpy(), \n",
    "    sfm_snow_depth.x_resolution, \n",
    "    sfm_snow_depth.y_resolution\n",
    ")\n",
    "df['aso_swe'] = column_to_swe(df.aso_snow_depth.to_numpy())\n",
    "df['sfm_swe'] = column_to_swe(df.sfm_snow_depth.to_numpy())\n",
    "df.loc[df['casi_class'] == 'Water', 'casi_class'] = 'Vegetation'"
   ]
  },
  {
   "cell_type": "code",
   "execution_count": null,
   "metadata": {},
   "outputs": [],
   "source": [
    "positive_sfm = query_helpers.get_positive(df, 'sfm_snow_depth')\n",
    "negative_sfm = query_helpers.get_negative(df, 'sfm_snow_depth')\n",
    "no_values_sfm = query_helpers.get_no_data(df, 'sfm_snow_depth')\n",
    "\n",
    "columns = ['casi_class', 'sfm_snow_depth', 'aso_snow_depth', 'sd_difference']\n",
    "\n",
    "pd.set_option('display.float_format', lambda x: '%.2f m' % x)"
   ]
  },
  {
   "cell_type": "markdown",
   "metadata": {},
   "source": [
    "# Snow Depth"
   ]
  },
  {
   "cell_type": "code",
   "execution_count": null,
   "metadata": {},
   "outputs": [],
   "source": [
    "df[columns].agg([np.mean, np.median, np.std])"
   ]
  },
  {
   "cell_type": "code",
   "execution_count": null,
   "metadata": {},
   "outputs": [],
   "source": [
    "df[columns].groupby('casi_class').agg([np.mean, np.median, np.std])"
   ]
  },
  {
   "cell_type": "markdown",
   "metadata": {},
   "source": [
    "### Positive SfM values"
   ]
  },
  {
   "cell_type": "code",
   "execution_count": null,
   "metadata": {},
   "outputs": [],
   "source": [
    "positive_sfm[columns].agg([np.mean, np.median, np.std])"
   ]
  },
  {
   "cell_type": "code",
   "execution_count": null,
   "metadata": {},
   "outputs": [],
   "source": [
    "positive_sfm[columns].groupby('casi_class').agg([np.mean, np.median, np.std])"
   ]
  },
  {
   "cell_type": "markdown",
   "metadata": {},
   "source": [
    "#### Depth between 3200 and 3500 m"
   ]
  },
  {
   "cell_type": "code",
   "execution_count": null,
   "metadata": {},
   "outputs": [],
   "source": [
    "pd.set_option('display.float_format', lambda x: '{:.2%}'.format(x))"
   ]
  },
  {
   "cell_type": "code",
   "execution_count": null,
   "metadata": {},
   "outputs": [],
   "source": [
    "low_elevation = positive_sfm[['sfm_snow_depth', 'aso_snow_depth', 'casi_class']].loc[df.elevation < 3200]"
   ]
  },
  {
   "cell_type": "code",
   "execution_count": null,
   "metadata": {},
   "outputs": [],
   "source": [
    "mid_elevation = positive_sfm[['sfm_snow_depth', 'aso_snow_depth', 'casi_class']].loc[(df.elevation >= 3200) & (df.elevation <= 3500)]"
   ]
  },
  {
   "cell_type": "code",
   "execution_count": null,
   "metadata": {},
   "outputs": [],
   "source": [
    "high_elevation = positive_sfm[['sfm_snow_depth', 'aso_snow_depth', 'casi_class']].loc[df.elevation > 3500]"
   ]
  },
  {
   "cell_type": "code",
   "execution_count": null,
   "metadata": {},
   "outputs": [],
   "source": [
    "all_count = positive_sfm[['sfm_snow_depth', 'aso_snow_depth', 'casi_class']].groupby('casi_class').agg([np.size])"
   ]
  },
  {
   "cell_type": "code",
   "execution_count": null,
   "metadata": {},
   "outputs": [],
   "source": [
    "low_elevation.groupby('casi_class').agg([np.size])/all_count"
   ]
  },
  {
   "cell_type": "code",
   "execution_count": null,
   "metadata": {},
   "outputs": [],
   "source": [
    "mid_elevation.groupby('casi_class').agg([np.size])/all_count"
   ]
  },
  {
   "cell_type": "code",
   "execution_count": null,
   "metadata": {},
   "outputs": [],
   "source": [
    "high_elevation.groupby('casi_class').agg([np.size])/all_count"
   ]
  },
  {
   "cell_type": "markdown",
   "metadata": {},
   "source": [
    "#### Values below error estimation "
   ]
  },
  {
   "cell_type": "code",
   "execution_count": null,
   "metadata": {},
   "outputs": [],
   "source": [
    "pd.set_option('display.float_format', lambda x: '%.2f m' % x)"
   ]
  },
  {
   "cell_type": "code",
   "execution_count": null,
   "metadata": {},
   "outputs": [],
   "source": [
    "values = (df.aso_snow_depth < 0.08).value_counts()\n",
    "values[True]/values.sum()"
   ]
  },
  {
   "cell_type": "code",
   "execution_count": null,
   "metadata": {},
   "outputs": [],
   "source": [
    "values = (positive_sfm.sfm_snow_depth <= 0.22).value_counts()\n",
    "values[True]/values.sum()"
   ]
  },
  {
   "cell_type": "code",
   "execution_count": null,
   "metadata": {},
   "outputs": [],
   "source": [
    "df.where(df.aso_snow_depth <= 0.08)[['sfm_snow_depth', 'aso_snow_depth', 'sd_difference']].agg([np.mean, np.median, np.std])"
   ]
  },
  {
   "cell_type": "code",
   "execution_count": null,
   "metadata": {},
   "outputs": [],
   "source": [
    "for i in range(1, 6):\n",
    "    print(f\"Depth range: {i - 1} m and {i} m\")\n",
    "    query = positive_sfm.where(((i - 1) < positive_sfm.sfm_snow_depth) & (positive_sfm.sfm_snow_depth <= i))\n",
    "    print(query[['sfm_snow_depth', 'aso_snow_depth', 'sd_difference']].agg([np.mean, np.median, np.std]))\n",
    "    #     print(f\" SfM: {query.sfm_snow_volume.sum():,.2f}\")\n",
    "#     print(f\" ASO: {query.aso_snow_volume.sum():,.2f}\")"
   ]
  },
  {
   "cell_type": "markdown",
   "metadata": {},
   "source": [
    "### Negative SfM values"
   ]
  },
  {
   "cell_type": "code",
   "execution_count": null,
   "metadata": {},
   "outputs": [],
   "source": [
    "negative_sfm[columns].agg([np.mean, np.median, np.std])"
   ]
  },
  {
   "cell_type": "code",
   "execution_count": null,
   "metadata": {},
   "outputs": [],
   "source": [
    "negative_sfm.where(negative_sfm.aso_snow_depth <= 0.08)[['sfm_snow_depth', 'aso_snow_depth', 'sd_difference']].agg([np.mean, np.median, np.std])"
   ]
  },
  {
   "cell_type": "code",
   "execution_count": null,
   "metadata": {},
   "outputs": [],
   "source": [
    "negative_sfm[columns].groupby('casi_class').agg([np.mean, np.median, np.std])"
   ]
  },
  {
   "cell_type": "code",
   "execution_count": null,
   "metadata": {},
   "outputs": [],
   "source": [
    "pd.set_option('display.float_format', None)"
   ]
  },
  {
   "cell_type": "markdown",
   "metadata": {},
   "source": [
    "# Snow Volume"
   ]
  },
  {
   "cell_type": "code",
   "execution_count": null,
   "metadata": {},
   "outputs": [],
   "source": [
    "m2_style = \"{:,.0f} m<sup>3</sup>\"\n",
    "\n",
    "table_style = {\n",
    "    'sfm_snow_volume': m2_style,\n",
    "    'aso_snow_volume': m2_style,\n",
    "    'difference': m2_style,\n",
    "    'sfm % to aso': \"{:.2%}\",\n",
    "    'percent_sfm_scene': \"{:.2%}\",\n",
    "    'percent_aso_scene': \"{:.2%}\",\n",
    "}\n",
    "columns = ['casi_class', 'aso_snow_volume', 'sfm_snow_volume']"
   ]
  },
  {
   "cell_type": "code",
   "execution_count": null,
   "metadata": {},
   "outputs": [],
   "source": [
    "total_volume = pd.DataFrame({\n",
    "    'sfm_snow_volume': df.sfm_snow_volume.sum(),\n",
    "    'aso_snow_volume': df.aso_snow_volume.sum(),\n",
    "    },\n",
    "    index=[0]\n",
    ")\n",
    "total_volume['difference'] = total_volume.aso_snow_volume - total_volume.sfm_snow_volume\n",
    "total_volume['sfm % to aso'] = total_volume.sfm_snow_volume / total_volume.aso_snow_volume\n",
    "total_volume.style.format(table_style)"
   ]
  },
  {
   "cell_type": "code",
   "execution_count": null,
   "metadata": {},
   "outputs": [],
   "source": [
    "captured_volume = pd.DataFrame({\n",
    "    'sfm_snow_volume': positive_sfm.sfm_snow_volume.sum(),\n",
    "    'aso_snow_volume': positive_sfm.aso_snow_volume.sum(),\n",
    "    },\n",
    "    index=[0]\n",
    ")\n",
    "captured_volume['difference'] = captured_volume.aso_snow_volume - captured_volume.sfm_snow_volume\n",
    "captured_volume['sfm % to aso'] = captured_volume.sfm_snow_volume / captured_volume.aso_snow_volume\n",
    "captured_volume.style.format(table_style)"
   ]
  },
  {
   "cell_type": "code",
   "execution_count": null,
   "metadata": {},
   "outputs": [],
   "source": [
    "missed_volume = pd.DataFrame({\n",
    "    'sfm_snow_volume': negative_sfm.sfm_snow_volume.sum(),\n",
    "    'aso_snow_volume': negative_sfm.aso_snow_volume.sum(),\n",
    "    },\n",
    "    index=[0]\n",
    ")\n",
    "missed_volume['difference'] = missed_volume.aso_snow_volume - missed_volume.sfm_snow_volume\n",
    "missed_volume['sfm % to aso'] = missed_volume.sfm_snow_volume / missed_volume.aso_snow_volume\n",
    "missed_volume.style.format(table_style)"
   ]
  },
  {
   "cell_type": "code",
   "execution_count": null,
   "metadata": {},
   "outputs": [],
   "source": [
    "assert (captured_volume.aso_snow_volume + missed_volume.aso_snow_volume).item(), total_volume.aso_snow_volume.item()"
   ]
  },
  {
   "cell_type": "code",
   "execution_count": null,
   "metadata": {},
   "outputs": [],
   "source": [
    "num_pixels_aso = df.aso_snow_depth.count()\n",
    "num_pixels_sfm = positive_sfm.aso_snow_depth.count()"
   ]
  },
  {
   "cell_type": "code",
   "execution_count": null,
   "metadata": {},
   "outputs": [],
   "source": [
    "print(\"Pixels with depth:\")\n",
    "print(f\"  ASO count: {num_pixels_aso:,}\")\n",
    "print(f\"  SfM count: {num_pixels_sfm:,}\")\n",
    "print(\"Percent ASO pixels:\")\n",
    "print(f\"  with values in SfM: {num_pixels_sfm/num_pixels_aso:.2%}\")\n",
    "print(f\"  with negative in SfM: {negative_sfm.query('sfm_snow_depth == sfm_snow_depth').aso_snow_depth.count()/num_pixels_aso:.2%}\")\n",
    "print(f\"  with no value in SfM: {no_values_sfm.aso_snow_depth.count()/num_pixels_aso:.2%}\")"
   ]
  },
  {
   "cell_type": "code",
   "execution_count": null,
   "metadata": {},
   "outputs": [],
   "source": [
    "pixel_stats_sfm = positive_sfm[columns].groupby('casi_class').count()\n",
    "pixel_stats_aso = df[columns].groupby('casi_class').count()\n",
    "\n",
    "grouped_volume = df[columns].groupby('casi_class').sum()\n",
    "grouped_volume['difference'] = grouped_volume.aso_snow_volume - grouped_volume.sfm_snow_volume\n",
    "grouped_volume['sfm % to aso'] = grouped_volume.sfm_snow_volume / grouped_volume.aso_snow_volume\n",
    "grouped_volume['percent_sfm_scene'] = (pixel_stats_sfm.sfm_snow_volume / num_pixels_sfm)\n",
    "grouped_volume['percent_aso_scene'] = (pixel_stats_aso.aso_snow_volume / num_pixels_aso)\n",
    "grouped_volume.style.format(table_style)"
   ]
  },
  {
   "cell_type": "markdown",
   "metadata": {},
   "source": [
    "### Overlapping area "
   ]
  },
  {
   "cell_type": "code",
   "execution_count": null,
   "metadata": {},
   "outputs": [],
   "source": [
    "grouped_volume = positive_sfm[columns].groupby('casi_class').sum()\n",
    "grouped_volume['difference'] = grouped_volume.aso_snow_volume - grouped_volume.sfm_snow_volume\n",
    "grouped_volume['sfm % to aso'] = grouped_volume.sfm_snow_volume / grouped_volume.aso_snow_volume\n",
    "grouped_volume.style.format(table_style)"
   ]
  },
  {
   "cell_type": "markdown",
   "metadata": {},
   "source": [
    "## SWE"
   ]
  },
  {
   "cell_type": "code",
   "execution_count": null,
   "metadata": {},
   "outputs": [],
   "source": [
    "m2_style = \"{:,.0f} m\"\n",
    "\n",
    "table_style = {\n",
    "    'sfm_swe': m2_style,\n",
    "    'aso_swe': m2_style,\n",
    "    'difference': m2_style,\n",
    "    'sfm % to aso': \"{:.2%}\",\n",
    "    'percent_sfm_scene': \"{:.2%}\",\n",
    "}\n",
    "columns = ['aso_swe', 'sfm_swe']"
   ]
  },
  {
   "cell_type": "code",
   "execution_count": null,
   "metadata": {},
   "outputs": [],
   "source": [
    "total_swe = pd.DataFrame({\n",
    "    'sfm_swe': df.sfm_swe.sum(),\n",
    "    'aso_swe': df.aso_swe.sum(),\n",
    "    },\n",
    "    index=[0]\n",
    ")\n",
    "total_swe['difference'] = total_swe.aso_swe - total_swe.sfm_swe\n",
    "total_swe['sfm % to aso'] = total_swe.sfm_swe / total_swe.aso_swe\n",
    "total_swe.style.format(table_style)"
   ]
  }
 ],
 "metadata": {
  "kernelspec": {
   "display_name": "snow_aso",
   "language": "python",
   "name": "snow_aso"
  },
  "language_info": {
   "codemirror_mode": {
    "name": "ipython",
    "version": 3
   },
   "file_extension": ".py",
   "mimetype": "text/x-python",
   "name": "python",
   "nbconvert_exporter": "python",
   "pygments_lexer": "ipython3",
   "version": "3.8.3"
  }
 },
 "nbformat": 4,
 "nbformat_minor": 4
}
