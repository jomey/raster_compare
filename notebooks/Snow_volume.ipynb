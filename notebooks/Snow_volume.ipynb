{
 "cells": [
  {
   "cell_type": "code",
   "execution_count": null,
   "metadata": {},
   "outputs": [],
   "source": [
    "from source_files import *\n",
    "\n",
    "import math\n",
    "import numpy as np\n",
    "import pandas as pd\n",
    "import numba"
   ]
  },
  {
   "cell_type": "code",
   "execution_count": null,
   "metadata": {},
   "outputs": [],
   "source": [
    "sd_difference_values = sfm_snow_depth_values - aso_snow_depth_values\n",
    "\n",
    "@numba.vectorize\n",
    "def snow_volume(snow_depth, x_resolution, y_resolution):\n",
    "    if snow_depth < 0:\n",
    "        return 0\n",
    "    else:\n",
    "        return math.fabs(x_resolution) * math.fabs(y_resolution) * snow_depth"
   ]
  },
  {
   "cell_type": "code",
   "execution_count": null,
   "metadata": {},
   "outputs": [],
   "source": [
    "df = pd.DataFrame({\n",
    "        'aso_snow_depth': aso_snow_depth_values.ravel(),\n",
    "        'sfm_snow_depth': sfm_snow_depth_values.ravel(),\n",
    "        'sd_difference': sd_difference_values.ravel(),\n",
    "        'aso_snow_volume': snow_volume(\n",
    "            aso_snow_depth_values.ravel(), \n",
    "            aso_snow_depth.x_resolution, \n",
    "            aso_snow_depth.y_resolution\n",
    "        ),\n",
    "        'sfm_snow_volume': snow_volume(\n",
    "            sfm_snow_depth_values.ravel(), \n",
    "            sfm_snow_depth.x_resolution, \n",
    "            sfm_snow_depth.y_resolution\n",
    "        ),\n",
    "        'casi_class': casi_classification.ravel(),\n",
    "    },\n",
    ")\n",
    "df.dropna(how='all', inplace=True, subset=['aso_snow_depth', 'sfm_snow_depth'])\n",
    "df['casi_class'] = pd.cut(df['casi_class'], CASI_MAPPING, labels=CASI_CLASSES)"
   ]
  },
  {
   "cell_type": "code",
   "execution_count": null,
   "metadata": {},
   "outputs": [],
   "source": [
    "positive_sfm = df.query('sfm_snow_depth >= 0')\n",
    "negative_sfm = df.query('sfm_snow_depth < 0')\n",
    "\n",
    "columns = ['casi_class', 'aso_snow_depth', 'sfm_snow_depth', 'sd_difference']\n",
    "\n",
    "pd.set_option('display.float_format', lambda x: '%.2f m' % x)"
   ]
  },
  {
   "cell_type": "markdown",
   "metadata": {},
   "source": [
    "# Snow Depth"
   ]
  },
  {
   "cell_type": "code",
   "execution_count": null,
   "metadata": {},
   "outputs": [],
   "source": [
    "df[columns].agg([np.mean, np.median, np.std])"
   ]
  },
  {
   "cell_type": "code",
   "execution_count": null,
   "metadata": {},
   "outputs": [],
   "source": [
    "df[columns].groupby('casi_class').agg([np.mean, np.median, np.std])"
   ]
  },
  {
   "cell_type": "markdown",
   "metadata": {},
   "source": [
    "### Positive SfM values"
   ]
  },
  {
   "cell_type": "code",
   "execution_count": null,
   "metadata": {},
   "outputs": [],
   "source": [
    "positive_sfm[columns].agg([np.mean, np.median, np.std])"
   ]
  },
  {
   "cell_type": "code",
   "execution_count": null,
   "metadata": {},
   "outputs": [],
   "source": [
    "positive_sfm[columns].groupby('casi_class').agg([np.mean, np.median, np.std])"
   ]
  },
  {
   "cell_type": "markdown",
   "metadata": {},
   "source": [
    "### Negative SfM values"
   ]
  },
  {
   "cell_type": "code",
   "execution_count": null,
   "metadata": {},
   "outputs": [],
   "source": [
    "negative_sfm[columns].groupby('casi_class').agg([np.mean, np.median, np.std])"
   ]
  },
  {
   "cell_type": "markdown",
   "metadata": {},
   "source": [
    "# Snow Volume"
   ]
  },
  {
   "cell_type": "code",
   "execution_count": null,
   "metadata": {},
   "outputs": [],
   "source": [
    "m2_style = \"{:,.0f} m<sup>3</sup>\"\n",
    "table_style = {\n",
    "    'sfm_snow_volume': m2_style,\n",
    "    'aso_snow_volume': m2_style,\n",
    "    'difference': m2_style,\n",
    "    'sfm % to aso': \"{:.2%}\",\n",
    "    'percent_sfm_scene': \"{:.2%}\",\n",
    "}\n",
    "columns = ['casi_class', 'aso_snow_volume', 'sfm_snow_volume']"
   ]
  },
  {
   "cell_type": "code",
   "execution_count": null,
   "metadata": {},
   "outputs": [],
   "source": [
    "total_volume = pd.DataFrame({\n",
    "    'sfm_snow_volume': df.sfm_snow_volume.sum(),\n",
    "    'aso_snow_volume': df.aso_snow_volume.sum(),\n",
    "    },\n",
    "    index=[0]\n",
    ")\n",
    "total_volume['difference'] = total_volume.aso_snow_volume - total_volume.sfm_snow_volume\n",
    "total_volume['sfm % to aso'] = total_volume.sfm_snow_volume / total_volume.aso_snow_volume\n",
    "total_volume.style.format(table_style)"
   ]
  },
  {
   "cell_type": "code",
   "execution_count": null,
   "metadata": {},
   "outputs": [],
   "source": [
    "num_pixels_aso = df.aso_snow_depth.count()\n",
    "num_pixels_sfm = positive_sfm.aso_snow_depth.count()"
   ]
  },
  {
   "cell_type": "code",
   "execution_count": null,
   "metadata": {},
   "outputs": [],
   "source": [
    "print(f\"Percent ASO pixels with values in SfM: {num_pixels_sfm/num_pixels_aso:.2%}\")"
   ]
  },
  {
   "cell_type": "code",
   "execution_count": null,
   "metadata": {},
   "outputs": [],
   "source": [
    "pixel_stats = positive_sfm[columns].groupby('casi_class').count()\n",
    "\n",
    "total_volume = df[columns].groupby('casi_class').sum()\n",
    "total_volume['difference'] = total_volume.aso_snow_volume - total_volume.sfm_snow_volume\n",
    "total_volume['sfm % to aso'] = total_volume.sfm_snow_volume / total_volume.aso_snow_volume\n",
    "total_volume['percent_sfm_scene'] = (pixel_stats.sfm_snow_volume / num_pixels_sfm)\n",
    "total_volume.style.format(table_style)"
   ]
  },
  {
   "cell_type": "code",
   "execution_count": null,
   "metadata": {},
   "outputs": [],
   "source": [
    "total_volume = pd.DataFrame({\n",
    "    'sfm_snow_volume': positive_sfm.sfm_snow_volume.sum(),\n",
    "    'aso_snow_volume': positive_sfm.aso_snow_volume.sum(),\n",
    "    },\n",
    "    index=[0]\n",
    ")\n",
    "total_volume['difference'] = total_volume.aso_snow_volume - total_volume.sfm_snow_volume\n",
    "total_volume['sfm % to aso'] = total_volume.sfm_snow_volume / total_volume.aso_snow_volume\n",
    "total_volume.style.format(table_style)"
   ]
  }
 ],
 "metadata": {
  "kernelspec": {
   "display_name": "Python [conda env:raster_compare]",
   "language": "python",
   "name": "conda-env-raster_compare-py"
  },
  "language_info": {
   "codemirror_mode": {
    "name": "ipython",
    "version": 3
   },
   "file_extension": ".py",
   "mimetype": "text/x-python",
   "name": "python",
   "nbconvert_exporter": "python",
   "pygments_lexer": "ipython3",
   "version": "3.8.2"
  }
 },
 "nbformat": 4,
 "nbformat_minor": 4
}
