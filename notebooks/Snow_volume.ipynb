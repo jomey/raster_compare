{
 "cells": [
  {
   "cell_type": "code",
   "execution_count": null,
   "metadata": {},
   "outputs": [],
   "source": [
    "from source_files import *\n",
    "\n",
    "import math\n",
    "import numpy as np\n",
    "import pandas as pd\n",
    "import numba"
   ]
  },
  {
   "cell_type": "code",
   "execution_count": null,
   "metadata": {},
   "outputs": [],
   "source": [
    "sd_difference_values = sfm_snow_depth_values - aso_snow_depth_values\n",
    "\n",
    "@numba.vectorize\n",
    "def snow_volume(snow_depth, x_resolution, y_resolution):\n",
    "    if snow_depth < 0:\n",
    "        return 0\n",
    "    else:\n",
    "        return math.fabs(x_resolution) * math.fabs(y_resolution) * snow_depth"
   ]
  },
  {
   "cell_type": "code",
   "execution_count": null,
   "metadata": {},
   "outputs": [],
   "source": [
    "df = pd.DataFrame({\n",
    "        'aso_snow_depth': aso_snow_depth_values.ravel(),\n",
    "        'sfm_snow_depth': sfm_snow_depth_values.ravel(),\n",
    "        'sd_difference': sd_difference_values.ravel(),\n",
    "        'aso_snow_volume': snow_volume(\n",
    "            aso_snow_depth_values.ravel(), \n",
    "            aso_snow_depth.x_resolution, \n",
    "            aso_snow_depth.y_resolution\n",
    "        ),\n",
    "        'sfm_snow_volume': snow_volume(\n",
    "            sfm_snow_depth_values.ravel(), \n",
    "            sfm_snow_depth.x_resolution, \n",
    "            sfm_snow_depth.y_resolution\n",
    "        ),\n",
    "        'casi_class': casi_classification.ravel(),\n",
    "    },\n",
    "    dtype='float32'\n",
    ")"
   ]
  },
  {
   "cell_type": "code",
   "execution_count": null,
   "metadata": {},
   "outputs": [],
   "source": [
    "df['casi_class'] = pd.cut(df['casi_class'], CASI_MAPPING, labels=CASI_CLASSES)\n",
    "\n",
    "positive_sfm = df.query('sfm_snow_depth >= 0')\n",
    "negative_sfm = df.query('sfm_snow_depth < 0')"
   ]
  },
  {
   "cell_type": "markdown",
   "metadata": {},
   "source": [
    "## Median values by CASI classes"
   ]
  },
  {
   "cell_type": "code",
   "execution_count": null,
   "metadata": {},
   "outputs": [],
   "source": [
    "columns = ['casi_class', 'aso_snow_depth', 'sfm_snow_depth']\n",
    "table_style = \"{:.2f} m\""
   ]
  },
  {
   "cell_type": "markdown",
   "metadata": {},
   "source": [
    "### All values"
   ]
  },
  {
   "cell_type": "code",
   "execution_count": null,
   "metadata": {},
   "outputs": [],
   "source": [
    "print(f\"ASO Median depth {df['aso_snow_depth'].median():.4f}m\")\n",
    "print(f\"SfM Median depth {df['sfm_snow_depth'].median():.4f}m\")"
   ]
  },
  {
   "cell_type": "code",
   "execution_count": null,
   "metadata": {},
   "outputs": [],
   "source": [
    "df[columns].groupby('casi_class').median().style.format(table_style)"
   ]
  },
  {
   "cell_type": "markdown",
   "metadata": {},
   "source": [
    "### Positive SfM values"
   ]
  },
  {
   "cell_type": "code",
   "execution_count": null,
   "metadata": {},
   "outputs": [],
   "source": [
    "print(f\"ASO Median depth {positive_sfm['aso_snow_depth'].median():.4f}m\")\n",
    "print(f\"SfM Median depth {positive_sfm['sfm_snow_depth'].median():.4f}m\")"
   ]
  },
  {
   "cell_type": "code",
   "execution_count": null,
   "metadata": {},
   "outputs": [],
   "source": [
    "positive_sfm[columns].groupby('casi_class').median().style.format(table_style)"
   ]
  },
  {
   "cell_type": "markdown",
   "metadata": {},
   "source": [
    "### Negative SfM values"
   ]
  },
  {
   "cell_type": "code",
   "execution_count": null,
   "metadata": {},
   "outputs": [],
   "source": [
    "negative_sfm[columns].groupby('casi_class').median().style.format(table_style)"
   ]
  },
  {
   "cell_type": "markdown",
   "metadata": {},
   "source": [
    "## Mean values by CASI classes"
   ]
  },
  {
   "cell_type": "markdown",
   "metadata": {},
   "source": [
    "### All values"
   ]
  },
  {
   "cell_type": "code",
   "execution_count": null,
   "metadata": {},
   "outputs": [],
   "source": [
    "print(f\"ASO Mean depth {df['aso_snow_depth'].mean():.4f}m\")\n",
    "print(f\"SfM Mean depth {df['sfm_snow_depth'].mean():.4f}m\")"
   ]
  },
  {
   "cell_type": "code",
   "execution_count": null,
   "metadata": {},
   "outputs": [],
   "source": [
    "df[columns].groupby('casi_class').mean().style.format(table_style)"
   ]
  },
  {
   "cell_type": "markdown",
   "metadata": {},
   "source": [
    "### Positive SfM values"
   ]
  },
  {
   "cell_type": "code",
   "execution_count": null,
   "metadata": {},
   "outputs": [],
   "source": [
    "print(f\"ASO Mean depth {positive_sfm['aso_snow_depth'].mean():.4f}m\")\n",
    "print(f\"SfM Mean depth {positive_sfm['sfm_snow_depth'].mean():.4f}m\")"
   ]
  },
  {
   "cell_type": "code",
   "execution_count": null,
   "metadata": {},
   "outputs": [],
   "source": [
    "positive_sfm[columns].groupby('casi_class').mean().style.format(table_style)"
   ]
  },
  {
   "cell_type": "markdown",
   "metadata": {},
   "source": [
    "### Negative SfM values"
   ]
  },
  {
   "cell_type": "code",
   "execution_count": null,
   "metadata": {},
   "outputs": [],
   "source": [
    "negative_sfm[columns].groupby('casi_class').mean().style.format(table_style)"
   ]
  },
  {
   "cell_type": "markdown",
   "metadata": {},
   "source": [
    "# Snow Volume\n",
    "\n",
    "Volume for negative SfM snow depth values was not calculated."
   ]
  },
  {
   "cell_type": "code",
   "execution_count": null,
   "metadata": {},
   "outputs": [],
   "source": [
    "table_style = {\n",
    "    'sfm_snow_volume': \"{:,.0f} m<sup>3</sup>\",\n",
    "    'aso_snow_volume': \"{:,.0f} m<sup>3</sup>\",\n",
    "    'aso - sfm': \"{:,.0f} m<sup>3</sup>\",\n",
    "    'sfm % to aso': \"{:.2%}\",\n",
    "}"
   ]
  },
  {
   "cell_type": "code",
   "execution_count": null,
   "metadata": {},
   "outputs": [],
   "source": [
    "total_volume = df[['sfm_snow_volume', 'aso_snow_volume']].sum()\n",
    "total_volume = pd.DataFrame({\n",
    "    'sfm_snow_volume': [total_volume.sfm_snow_volume],\n",
    "    'aso_snow_volume': [total_volume.aso_snow_volume],\n",
    "})\n",
    "total_volume['aso - sfm'] = total_volume.aso_snow_volume - total_volume.sfm_snow_volume\n",
    "total_volume['sfm % to aso'] = total_volume.sfm_snow_volume / total_volume.aso_snow_volume\n",
    "total_volume.style.format(table_style)"
   ]
  },
  {
   "cell_type": "code",
   "execution_count": null,
   "metadata": {},
   "outputs": [],
   "source": [
    "total_volume = df[['sfm_snow_volume', 'aso_snow_volume', 'casi_class']].groupby('casi_class').sum()\n",
    "total_volume['aso - sfm'] = total_volume.aso_snow_volume - total_volume.sfm_snow_volume\n",
    "total_volume['sfm % to aso'] = total_volume.sfm_snow_volume / total_volume.aso_snow_volume\n",
    "total_volume.style.format(table_style)"
   ]
  },
  {
   "cell_type": "markdown",
   "metadata": {},
   "source": [
    "## Positive SfM values"
   ]
  },
  {
   "cell_type": "code",
   "execution_count": null,
   "metadata": {},
   "outputs": [],
   "source": [
    "total_volume = positive_sfm[['sfm_snow_volume', 'aso_snow_volume']].sum()\n",
    "total_volume = pd.DataFrame({\n",
    "    'sfm_snow_volume': [total_volume.sfm_snow_volume],\n",
    "    'aso_snow_volume': [total_volume.aso_snow_volume],\n",
    "})\n",
    "total_volume['aso - sfm'] = total_volume.aso_snow_volume - total_volume.sfm_snow_volume\n",
    "total_volume['sfm % to aso'] = total_volume.sfm_snow_volume / total_volume.aso_snow_volume\n",
    "total_volume.style.format(table_style)"
   ]
  }
 ],
 "metadata": {
  "kernelspec": {
   "display_name": "Python [conda env:raster_compare]",
   "language": "python",
   "name": "conda-env-raster_compare-py"
  },
  "language_info": {
   "codemirror_mode": {
    "name": "ipython",
    "version": 3
   },
   "file_extension": ".py",
   "mimetype": "text/x-python",
   "name": "python",
   "nbconvert_exporter": "python",
   "pygments_lexer": "ipython3",
   "version": "3.8.2"
  }
 },
 "nbformat": 4,
 "nbformat_minor": 4
}
