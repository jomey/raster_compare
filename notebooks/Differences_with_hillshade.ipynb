{
 "cells": [
  {
   "cell_type": "code",
   "execution_count": null,
   "metadata": {},
   "outputs": [],
   "source": [
    "from source_files_extended import *\n",
    "from plot_helpers import *\n",
    "from source_files import CASI_CLASSES, CASI_MAPPING\n",
    "\n",
    "import query_helpers\n",
    "\n",
    "import math\n",
    "import pandas as pd"
   ]
  },
  {
   "cell_type": "markdown",
   "metadata": {},
   "source": [
    "# Analysis"
   ]
  },
  {
   "cell_type": "code",
   "execution_count": null,
   "metadata": {},
   "outputs": [],
   "source": [
    "aso_mask = load_aso_depth().mask\n",
    "hillshade_snow_on, hillshade_snow_free = load_hillshade(aso_mask)"
   ]
  },
  {
   "cell_type": "code",
   "execution_count": null,
   "metadata": {},
   "outputs": [],
   "source": [
    "df = pd.DataFrame({\n",
    "        'sfm_snow_depth': load_sfm_depth(aso_mask).ravel(),\n",
    "        'hillshade_snow_on': hillshade_snow_on.ravel(),\n",
    "        'hillshade_snow_free': hillshade_snow_free.ravel(),\n",
    "        'casi_class': load_classifier_data(aso_mask).ravel(),\n",
    "})\n",
    "\n",
    "df.dropna(inplace=True, how='any', subset=['sfm_snow_depth'])\n",
    "df['casi_class'] = pd.cut(df['casi_class'], CASI_MAPPING, labels=CASI_CLASSES)\n",
    "\n",
    "positive_sfm = query_helpers.get_positive(df, 'sfm_snow_depth')\n",
    "negative_sfm = query_helpers.get_negative(df, 'sfm_snow_depth')\n",
    "\n",
    "vegetation = ((negative_sfm.casi_class == 'Vegetation') | (negative_sfm.casi_class == 'Water'))\n",
    "open_areas = ~vegetation\n",
    "\n",
    "HILLSHADE_MIN = 0\n",
    "HILLSHADE_MAX = 255\n",
    "\n",
    "hillshade_range = np.arange(HILLSHADE_MIN, HILLSHADE_MAX + 1, 1)\n",
    "min_depth = math.floor(negative_sfm.sfm_snow_depth.min())\n",
    "bins = np.arange(min_depth, 0.5, 0.5)"
   ]
  },
  {
   "cell_type": "code",
   "execution_count": null,
   "metadata": {},
   "outputs": [],
   "source": [
    "def compare_column(data, column, title):\n",
    "    plot_data = data\n",
    "    plot_group = plot_data.groupby(column)\n",
    "    plot_data_median = plot_group.median()\n",
    "    plot_data_count = plot_group.count()\n",
    "\n",
    "    data = [\n",
    "        plot_data[column],\n",
    "        plot_data.sfm_snow_depth,\n",
    "        plot_data_median.index, \n",
    "        plot_data_median.sfm_snow_depth,\n",
    "        plot_data_count.index, \n",
    "        plot_data_count.sfm_snow_depth,\n",
    "    ]\n",
    "    \n",
    "    fig, (ax1, ax2) = plt.subplots(\n",
    "        2, 1, sharex=True, \n",
    "        figsize=(8,10), gridspec_kw={ 'hspace': 0.05}, \n",
    "    )\n",
    "\n",
    "    ax1.set_facecolor('whitesmoke')\n",
    "    ax1.set_facecolor('whitesmoke')\n",
    "    ha = ax1.hist2d(\n",
    "        data[0], data[1], \n",
    "        bins=[hillshade_range, bins],\n",
    "        vmin=0,\n",
    "        vmax=500,\n",
    "        cmin=1,\n",
    "    )\n",
    "    PlotBase.insert_colorbar(ax1, ha[3], 'Count', right=0.9, rect=[0.91, 0.508, 0.03, 0.368])\n",
    "    ax1.set_ylabel(SNOW_DEPTH_LABEL)\n",
    "    ax1.set_title(title)\n",
    "\n",
    "    data_ax2 = ax2.scatter(data[2], data[3], label='Median', s=2)\n",
    "    ax2.set_ylabel(r'Median $\\Delta m$')\n",
    "    ax2.set_xlim(HILLSHADE_MIN, HILLSHADE_MAX)\n",
    "    ax2.set_xlabel('Hillshade')\n",
    "\n",
    "    ax2_2 = ax2.twinx()\n",
    "\n",
    "    data_ax2_2 = ax2_2.scatter(data[4], data[5], label='Count', color='indigo', s=2)\n",
    "    PlotBase.format_axes_scientific(ax2_2, 'y', (4, 4))\n",
    "    \n",
    "    data = [data_ax2, data_ax2_2]\n",
    "    labels = [l.get_label() for l in data]\n",
    "    ax2.legend(data, labels);"
   ]
  },
  {
   "cell_type": "markdown",
   "metadata": {},
   "source": [
    "## Negative values in vegetation\n",
    "### Snow Free scene\n",
    "\n",
    "__0__ - Full shade\n",
    "\n",
    "__255__ - No shade"
   ]
  },
  {
   "cell_type": "code",
   "execution_count": null,
   "metadata": {},
   "outputs": [],
   "source": [
    "compare_column(negative_sfm[vegetation], 'hillshade_snow_free', 'Negative Snow Free Hillshade');"
   ]
  },
  {
   "cell_type": "markdown",
   "metadata": {},
   "source": [
    "### Snow On"
   ]
  },
  {
   "cell_type": "code",
   "execution_count": null,
   "metadata": {},
   "outputs": [],
   "source": [
    "compare_column(negative_sfm[vegetation], 'hillshade_snow_on', 'Negative Snow On Hillshade');"
   ]
  },
  {
   "cell_type": "markdown",
   "metadata": {},
   "source": [
    "## Hillshade comparison (No Vegetation)\n",
    "### Snow free"
   ]
  },
  {
   "cell_type": "code",
   "execution_count": null,
   "metadata": {},
   "outputs": [],
   "source": [
    "compare_column(negative_sfm[open_areas], 'hillshade_snow_free', 'Negative Snow Free Hillshade');"
   ]
  },
  {
   "cell_type": "markdown",
   "metadata": {},
   "source": [
    "### Snow On"
   ]
  },
  {
   "cell_type": "code",
   "execution_count": null,
   "metadata": {},
   "outputs": [],
   "source": [
    "compare_column(negative_sfm[open_areas], 'hillshade_snow_on', 'Negative Snow On Hillshade');"
   ]
  },
  {
   "cell_type": "code",
   "execution_count": null,
   "metadata": {},
   "outputs": [],
   "source": []
  }
 ],
 "metadata": {
  "kernelspec": {
   "display_name": "snow_aso",
   "language": "python",
   "name": "snow_aso"
  },
  "language_info": {
   "codemirror_mode": {
    "name": "ipython",
    "version": 3
   },
   "file_extension": ".py",
   "mimetype": "text/x-python",
   "name": "python",
   "nbconvert_exporter": "python",
   "pygments_lexer": "ipython3",
   "version": "3.8.3"
  }
 },
 "nbformat": 4,
 "nbformat_minor": 4
}
