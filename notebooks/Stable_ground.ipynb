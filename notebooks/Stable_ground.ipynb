{
 "cells": [
  {
   "cell_type": "markdown",
   "metadata": {},
   "source": [
    "# Co-Registration"
   ]
  },
  {
   "cell_type": "code",
   "execution_count": null,
   "metadata": {},
   "outputs": [],
   "source": [
    "from plot_helpers import *\n",
    "from source_files_extended import *\n",
    "from raster_compare.base import RasterFile, MedianAbsoluteDeviation\n",
    "\n",
    "figure_style= dict(\n",
    "    figsize=(12, 10),\n",
    "    dpi=150\n",
    ")"
   ]
  },
  {
   "cell_type": "markdown",
   "metadata": {},
   "source": [
    "### GeoTiff masked used to classify points in point cloud as stable ground"
   ]
  },
  {
   "cell_type": "code",
   "execution_count": null,
   "metadata": {},
   "outputs": [],
   "source": [
    "stable_ground_values = stable_ground.band_values()\n",
    "np.ma.masked_where(stable_ground_values == 0, stable_ground_values, copy=False)\n",
    "\n"
   ]
  },
  {
   "cell_type": "code",
   "execution_count": null,
   "metadata": {},
   "outputs": [],
   "source": [
    "\"Percent of scene: {:.2%}\".format(stable_ground_values.count() / sfm_snow_free_values.count())"
   ]
  },
  {
   "cell_type": "code",
   "execution_count": null,
   "metadata": {},
   "outputs": [],
   "source": [
    "np.ma.masked_where(stable_ground_values.mask, sfm_snow_free_values, copy=False)\n",
    "np.ma.masked_where(stable_ground_values.mask, sfm_snow_on_values, copy=False)\n",
    "\n",
    "stable_ground_difference = sfm_snow_on_values - sfm_snow_free_values"
   ]
  },
  {
   "cell_type": "code",
   "execution_count": null,
   "metadata": {},
   "outputs": [],
   "source": [
    "mad = MedianAbsoluteDeviation(\n",
    "    stable_ground_difference[np.isfinite(stable_ground_difference)].compressed()\n",
    ")\n",
    "\"NMAD: {:.2f} m\".format(mad.normalized())"
   ]
  },
  {
   "cell_type": "code",
   "execution_count": null,
   "metadata": {},
   "outputs": [],
   "source": [
    "make_box_plot(stable_ground_difference, 'Stable Ground');"
   ]
  },
  {
   "cell_type": "code",
   "execution_count": null,
   "metadata": {},
   "outputs": [],
   "source": [
    "plot_histogram(\n",
    "    [{\n",
    "        'data': stable_ground_difference,\n",
    "        'label': 'Stable Surfaces',\n",
    "        'color': 'brown',\n",
    "    }],\n",
    "    (-2, 2),\n",
    "    **figure_style\n",
    ");"
   ]
  },
  {
   "cell_type": "code",
   "execution_count": null,
   "metadata": {},
   "outputs": [],
   "source": [
    "plt.figure(**figure_style)\n",
    "plt.imshow(\n",
    "    stable_ground_difference, \n",
    "    extent=stable_ground.extent,\n",
    "#     cmap='Reds',\n",
    "    vmin=-1,\n",
    "    vmax=1,\n",
    ");"
   ]
  },
  {
   "cell_type": "code",
   "execution_count": null,
   "metadata": {},
   "outputs": [],
   "source": []
  }
 ],
 "metadata": {
  "kernelspec": {
   "display_name": "Python [conda env:raster_compare]",
   "language": "python",
   "name": "conda-env-raster_compare-py"
  },
  "language_info": {
   "codemirror_mode": {
    "name": "ipython",
    "version": 3
   },
   "file_extension": ".py",
   "mimetype": "text/x-python",
   "name": "python",
   "nbconvert_exporter": "python",
   "pygments_lexer": "ipython3",
   "version": "3.8.2"
  },
  "pycharm": {
   "stem_cell": {
    "cell_type": "raw",
    "metadata": {
     "collapsed": false
    },
    "source": []
   }
  }
 },
 "nbformat": 4,
 "nbformat_minor": 4
}
