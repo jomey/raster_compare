{
 "cells": [
  {
   "cell_type": "markdown",
   "metadata": {},
   "source": [
    "\\x# Co-Registration"
   ]
  },
  {
   "cell_type": "code",
   "execution_count": null,
   "metadata": {},
   "outputs": [],
   "source": [
    "from plot_helpers import *\n",
    "from source_files import *\n",
    "from raster_compare.base import RasterFile\n",
    "\n",
    "figure_style= dict(\n",
    "    figsize=(12, 10)\n",
    ")"
   ]
  },
  {
   "cell_type": "code",
   "execution_count": null,
   "metadata": {},
   "outputs": [],
   "source": [
    "snow_free = RasterFile(SFM_SNOW_FREE, band_number=3)\n",
    "snow_free_values = snow_free.band_values()\n",
    "\n",
    "snow_on = RasterFile(SFM_SNOW_ON, band_number=3)\n",
    "snow_on_values = snow_on.band_values()\n",
    "\n",
    "assert snow_free.geo_transform == snow_on.geo_transform\n",
    "assert snow_free_values.size == snow_on_values.size"
   ]
  },
  {
   "cell_type": "markdown",
   "metadata": {},
   "source": [
    "### GeoTiff masked used to classify points in point cloud as stable ground"
   ]
  },
  {
   "cell_type": "code",
   "execution_count": null,
   "metadata": {},
   "outputs": [],
   "source": [
    "stable_ground = RasterFile(STABLE_GROUND, band_number=1)\n",
    "stable_ground_values = stable_ground.band_values()\n",
    "\n",
    "assert stable_ground.geo_transform == snow_free.geo_transform\n",
    "assert stable_ground_values.size == snow_free_values.size"
   ]
  },
  {
   "cell_type": "code",
   "execution_count": null,
   "metadata": {},
   "outputs": [],
   "source": [
    "stable_ground_values.count()"
   ]
  },
  {
   "cell_type": "code",
   "execution_count": null,
   "metadata": {},
   "outputs": [],
   "source": [
    "np.ma.masked_where(stable_ground_values.mask, snow_free_values)\n",
    "np.ma.masked_where(stable_ground_values.mask, snow_on_values)\n",
    "\n",
    "stable_ground_difference = snow_on_values - snow_free_values"
   ]
  },
  {
   "cell_type": "code",
   "execution_count": null,
   "metadata": {},
   "outputs": [],
   "source": [
    "make_box_plot(stable_ground_difference, 'Stable Ground');"
   ]
  },
  {
   "cell_type": "code",
   "execution_count": null,
   "metadata": {},
   "outputs": [],
   "source": []
  }
 ],
 "metadata": {
  "kernelspec": {
   "display_name": "Python [conda env:raster_compare]",
   "language": "python",
   "name": "conda-env-raster_compare-py"
  },
  "language_info": {
   "codemirror_mode": {
    "name": "ipython",
    "version": 3
   },
   "file_extension": ".py",
   "mimetype": "text/x-python",
   "name": "python",
   "nbconvert_exporter": "python",
   "pygments_lexer": "ipython3",
   "version": "3.8.2"
  },
  "pycharm": {
   "stem_cell": {
    "cell_type": "raw",
    "metadata": {
     "collapsed": false
    },
    "source": []
   }
  }
 },
 "nbformat": 4,
 "nbformat_minor": 4
}
