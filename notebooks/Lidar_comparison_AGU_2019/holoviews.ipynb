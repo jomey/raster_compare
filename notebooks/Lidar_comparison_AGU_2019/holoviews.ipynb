{
 "cells": [
  {
   "cell_type": "code",
   "execution_count": null,
   "metadata": {},
   "outputs": [],
   "source": [
    "import holoviews as hv\n",
    "import numpy as np\n",
    "\n",
    "from holoviews import opts\n",
    "from holoviews.streams import RangeXY\n",
    "from bokeh.models import HoverTool\n",
    "from pathlib import PurePath\n",
    "\n",
    "from raster_compare.base import PixelClassifier, RasterFile\n",
    "\n",
    "hv.extension('bokeh', 'matplotlib')\n",
    "\n",
    "HOME_DIR = PurePath('/Volumes/warehouse/projects/UofU/ASO/ERW')"
   ]
  },
  {
   "cell_type": "code",
   "execution_count": null,
   "metadata": {},
   "outputs": [],
   "source": [
    "casi_data = PixelClassifier(\n",
    "    HOME_DIR / 'ERW_20180524/CASI/CASI_2018_05_24_weekly_mosaic_classified_lidargrid_4m.tif',\n",
    "    HOME_DIR / 'cloud_mask/cloud_mask_lidargrid_4m.tif',\n",
    ")\n",
    "\n",
    "return_diff = RasterFile(\n",
    "    HOME_DIR / 'ERW_20180524/Lidar/ERW_20180524_Lidar_fr__lr_diff_4m.tif', \n",
    "    band_number=1\n",
    ")\n",
    "\n",
    "return_diff_values = return_diff.band_values()\n",
    "return_diff_values_mask = return_diff_values.mask.copy()\n",
    "return_diff_values.mask = casi_data.snow_surfaces(return_diff_values_mask)"
   ]
  },
  {
   "cell_type": "code",
   "execution_count": null,
   "metadata": {},
   "outputs": [],
   "source": [
    "hv_raster = hv.Dataset(\n",
    "    (range(return_diff_values.shape[1]), range(return_diff_values.shape[0]), \n",
    "    np.flip(return_diff_values, axis=0)),\n",
    "    ['x', 'y'], 'difference'\n",
    ")"
   ]
  },
  {
   "cell_type": "code",
   "execution_count": null,
   "metadata": {},
   "outputs": [],
   "source": [
    "plot = hv_raster.to(hv.Image, ['x', 'y']).redim.range(difference=(-3, 3))"
   ]
  },
  {
   "cell_type": "code",
   "execution_count": null,
   "metadata": {},
   "outputs": [],
   "source": [
    "hover = HoverTool(\n",
    "    tooltips=[\n",
    "        (\"Difference\", \"@image{%0.3f}\")\n",
    "    ],\n",
    "    formatters={\n",
    "        'image': 'printf'\n",
    "    }\n",
    ")\n",
    "clip_colors = { 'NaN': 'lightgray', 'min': 'red', 'max': 'blue'}\n",
    "\n",
    "plot.opts(\n",
    "    opts.Image(\n",
    "        height=840, width=700, \n",
    "        cmap='RdBu', symmetric=True, clipping_colors=clip_colors,\n",
    "        tools=[hover], \n",
    "        colorbar=True\n",
    "    )\n",
    ")"
   ]
  },
  {
   "cell_type": "code",
   "execution_count": null,
   "metadata": {},
   "outputs": [],
   "source": [
    "def selected_hist(x_range, y_range):\n",
    "    obj = plot.select(x=x_range, y=y_range) if x_range and y_range else plot\n",
    "    return hv.operation.histogram(obj).opts(width=700)\n",
    "\n",
    "diff_range_xy = hv.streams.RangeXY(source=plot)\n",
    "layout = hv.Layout(plot + hv.DynamicMap(selected_hist, streams=[diff_range_xy])).cols(2)"
   ]
  },
  {
   "cell_type": "code",
   "execution_count": null,
   "metadata": {},
   "outputs": [],
   "source": [
    "layout"
   ]
  },
  {
   "cell_type": "code",
   "execution_count": null,
   "metadata": {},
   "outputs": [],
   "source": []
  }
 ],
 "metadata": {
  "kernelspec": {
   "display_name": "Python [conda env:raster_compare]",
   "language": "python",
   "name": "conda-env-raster_compare-py"
  },
  "language_info": {
   "codemirror_mode": {
    "name": "ipython",
    "version": 3
   },
   "file_extension": ".py",
   "mimetype": "text/x-python",
   "name": "python",
   "nbconvert_exporter": "python",
   "pygments_lexer": "ipython3",
   "version": "3.8.2"
  }
 },
 "nbformat": 4,
 "nbformat_minor": 4
}
