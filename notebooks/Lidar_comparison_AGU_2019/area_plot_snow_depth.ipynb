{
 "cells": [
  {
   "cell_type": "code",
   "execution_count": null,
   "metadata": {},
   "outputs": [],
   "source": [
    "from plot_helpers import *"
   ]
  },
  {
   "cell_type": "code",
   "execution_count": null,
   "metadata": {},
   "outputs": [],
   "source": [
    "casi_data = PixelClassifier(CASI_DATA, CLOUD_MASK, VEGETATION_MASK)\n",
    "hillshade = RasterFile(HILLSHADE, band_number=1).band_values()"
   ]
  },
  {
   "cell_type": "markdown",
   "metadata": {},
   "source": [
    "## Lidar Snow Depth"
   ]
  },
  {
   "cell_type": "code",
   "execution_count": null,
   "metadata": {},
   "outputs": [],
   "source": [
    "lidar_data = RasterFile(LIDAR_SNOW_DEPTH, band_number=1)\n",
    "band_values_lidar = lidar_data.band_values()\n",
    "band_values_lidar.mask = casi_data.snow_surfaces(band_values_lidar.mask)\n",
    "\n",
    "plot = side_by_side_plot(\n",
    "    band_values_lidar,\n",
    "    lidar_data.extent,\n",
    "    ORTHO_IMAGE,\n",
    "    hillshade\n",
    ")\n",
    "style_area_axes(plot.axes)"
   ]
  },
  {
   "cell_type": "code",
   "execution_count": null,
   "metadata": {},
   "outputs": [],
   "source": [
    "del band_values_lidar"
   ]
  },
  {
   "cell_type": "markdown",
   "metadata": {},
   "source": [
    "## SfM Snow Depth"
   ]
  },
  {
   "cell_type": "code",
   "execution_count": null,
   "metadata": {},
   "outputs": [],
   "source": [
    "sfm_data = RasterFile(SFM_SNOW_DEPTH, band_number=1)\n",
    "band_values_sfm = sfm_data.band_values()\n",
    "band_values_sfm.mask = casi_data.snow_surfaces(band_values_sfm.mask)\n",
    "\n",
    "plot = side_by_side_plot(\n",
    "    band_values_sfm,\n",
    "    sfm_data.extent,\n",
    "    ORTHO_IMAGE,\n",
    "    hillshade\n",
    ")\n",
    "\n",
    "style_area_axes(plot.axes)"
   ]
  },
  {
   "cell_type": "code",
   "execution_count": null,
   "metadata": {},
   "outputs": [],
   "source": [
    "del band_values_sfm"
   ]
  },
  {
   "cell_type": "markdown",
   "metadata": {},
   "source": [
    "## Snow Depth Diff"
   ]
  },
  {
   "cell_type": "code",
   "execution_count": null,
   "metadata": {},
   "outputs": [],
   "source": [
    "snow_depth_diff_data = RasterFile(SNOW_DEPTH_DIFF, band_number=1)\n",
    "band_values_snow_depth_diff = snow_depth_diff_data.band_values()\n",
    "band_values_snow_depth_diff.mask = casi_data.snow_surfaces(\n",
    "    band_values_snow_depth_diff.mask\n",
    ")\n",
    "\n",
    "plot = side_by_side_plot(\n",
    "    band_values_snow_depth_diff,\n",
    "    snow_depth_diff_data.extent,\n",
    "    ORTHO_IMAGE,\n",
    "    hillshade\n",
    ")\n",
    "\n",
    "style_area_axes(plot.axes)"
   ]
  },
  {
   "cell_type": "code",
   "execution_count": null,
   "metadata": {},
   "outputs": [],
   "source": [
    "plt.figure()\n",
    "plt.hist(\n",
    "    band_values_snow_depth_diff[np.isfinite(band_values_snow_depth_diff)],\n",
    "    bins=np.arange(-3, 3.1, 0.1)\n",
    ");\n",
    "plt.axvline(0, color='k');"
   ]
  },
  {
   "cell_type": "code",
   "execution_count": null,
   "metadata": {},
   "outputs": [],
   "source": [
    "del band_values_snow_depth_diff"
   ]
  }
 ],
 "metadata": {
  "kernelspec": {
   "display_name": "Python [conda env:raster_compare]",
   "language": "python",
   "name": "conda-env-raster_compare-py"
  },
  "language_info": {
   "codemirror_mode": {
    "name": "ipython",
    "version": 3
   },
   "file_extension": ".py",
   "mimetype": "text/x-python",
   "name": "python",
   "nbconvert_exporter": "python",
   "pygments_lexer": "ipython3",
   "version": "3.8.1"
  }
 },
 "nbformat": 4,
 "nbformat_minor": 4
}
