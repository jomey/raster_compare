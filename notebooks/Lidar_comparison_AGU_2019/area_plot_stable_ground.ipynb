{
 "cells": [
  {
   "cell_type": "code",
   "execution_count": null,
   "metadata": {},
   "outputs": [],
   "source": [
    "from plot_helpers import *"
   ]
  },
  {
   "cell_type": "code",
   "execution_count": null,
   "metadata": {},
   "outputs": [],
   "source": [
    "casi_data = PixelClassifier(CASI_DATA, CLOUD_MASK, VEGETATION_MASK)\n",
    "hillshade = RasterFile(HILLSHADE, band_number=1).band_values()"
   ]
  },
  {
   "cell_type": "markdown",
   "metadata": {},
   "source": [
    "## Stable Terrain\n",
    "### Lidar Snow Depth"
   ]
  },
  {
   "cell_type": "code",
   "execution_count": null,
   "metadata": {},
   "outputs": [],
   "source": [
    "lidar_data = RasterFile(LIDAR_SNOW_DEPTH, band_number=1)\n",
    "band_values_lidar = lidar_data.band_values()\n",
    "band_values_lidar.mask = casi_data.stable_surfaces(band_values_lidar.mask)\n",
    "\n",
    "plot = side_by_side_plot(\n",
    "    band_values_lidar,\n",
    "    lidar_data.extent,\n",
    "    ORTHO_IMAGE,\n",
    "    hillshade\n",
    ")\n",
    "\n",
    "set_axes_style(plot.axes[0])"
   ]
  },
  {
   "cell_type": "code",
   "execution_count": null,
   "metadata": {},
   "outputs": [],
   "source": [
    "del band_values_lidar"
   ]
  },
  {
   "cell_type": "markdown",
   "metadata": {},
   "source": [
    "### SfM Snow Depth"
   ]
  },
  {
   "cell_type": "code",
   "execution_count": null,
   "metadata": {},
   "outputs": [],
   "source": [
    "sfm_data = RasterFile(SFM_SNOW_DEPTH, band_number=1)\n",
    "band_values_sfm = sfm_data.band_values()\n",
    "band_values_sfm.mask = casi_data.stable_surfaces(band_values_sfm.mask)\n",
    "\n",
    "plot = side_by_side_plot(\n",
    "    band_values_sfm,\n",
    "    sfm_data.extent,\n",
    "    ORTHO_IMAGE,\n",
    "    hillshade\n",
    ")\n",
    "\n",
    "set_axes_style(plot.axes[0])"
   ]
  },
  {
   "cell_type": "code",
   "execution_count": null,
   "metadata": {},
   "outputs": [],
   "source": [
    "del band_values_sfm"
   ]
  },
  {
   "cell_type": "markdown",
   "metadata": {},
   "source": [
    "### Snow on comparison (SfM - Lidar)"
   ]
  },
  {
   "cell_type": "code",
   "execution_count": null,
   "metadata": {},
   "outputs": [],
   "source": [
    "snow_on_data = RasterFile(SNOW_ON_DIFF, band_number=1)\n",
    "band_values_snow_on = snow_on_data.band_values()\n",
    "band_values_snow_on.mask = casi_data.stable_surfaces(band_values_snow_on.mask)\n",
    "\n",
    "plot = side_by_side_plot(\n",
    "    band_values_snow_on,\n",
    "    snow_on_data.extent,\n",
    "    ORTHO_IMAGE,\n",
    ")\n",
    "\n",
    "set_axes_style(plot.axes[0])"
   ]
  },
  {
   "cell_type": "code",
   "execution_count": null,
   "metadata": {},
   "outputs": [],
   "source": [
    "del band_values_snow_on"
   ]
  },
  {
   "cell_type": "markdown",
   "metadata": {},
   "source": [
    "### Snow free comparison (SfM - Lidar)"
   ]
  },
  {
   "cell_type": "code",
   "execution_count": null,
   "metadata": {},
   "outputs": [],
   "source": [
    "snow_free_data = RasterFile(SNOW_FREE_DIFF, band_number=1)\n",
    "band_values_snow_free = snow_free_data.band_values()\n",
    "band_values_snow_free.mask = casi_data.stable_surfaces(band_values_snow_free.mask)\n",
    "\n",
    "plot = side_by_side_plot(\n",
    "    band_values_snow_free,\n",
    "    snow_free_data.extent,\n",
    "    ORTHO_IMAGE,\n",
    ")\n",
    "\n",
    "set_axes_style(plot.axes[0])"
   ]
  },
  {
   "cell_type": "code",
   "execution_count": null,
   "metadata": {},
   "outputs": [],
   "source": [
    "del band_values_snow_free"
   ]
  }
 ],
 "metadata": {
  "kernelspec": {
   "display_name": "Python [conda env:raster_compare]",
   "language": "python",
   "name": "conda-env-raster_compare-py"
  },
  "language_info": {
   "codemirror_mode": {
    "name": "ipython",
    "version": 3
   },
   "file_extension": ".py",
   "mimetype": "text/x-python",
   "name": "python",
   "nbconvert_exporter": "python",
   "pygments_lexer": "ipython3",
   "version": "3.8.1"
  }
 },
 "nbformat": 4,
 "nbformat_minor": 4
}
