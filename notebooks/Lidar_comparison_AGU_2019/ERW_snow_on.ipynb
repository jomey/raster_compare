{
 "cells": [
  {
   "cell_type": "markdown",
   "metadata": {},
   "source": [
    "## Swow On and Free Scenes"
   ]
  },
  {
   "cell_type": "code",
   "execution_count": null,
   "metadata": {},
   "outputs": [],
   "source": [
    "from plot_helpers import *\n",
    "\n",
    "plt.style.use('fivethirtyeight')"
   ]
  },
  {
   "cell_type": "code",
   "execution_count": null,
   "metadata": {},
   "outputs": [],
   "source": [
    "casi_data = PixelClassifier(CASI_DATA, CLOUD_MASK, VEGETATION_MASK)\n",
    "hillshade = RasterFile(HILLSHADE, band_number=1).band_values()\n",
    "\n",
    "snow_on_diff_data = RasterFile(SNOW_ON_DIFF, band_number=1)\n",
    "band_values_snow_on_diff = snow_on_diff_data.band_values()\n",
    "band_values_snow_on_diff_mask = band_values_snow_on_diff.mask.copy()\n",
    "\n",
    "snow_free_diff_data = RasterFile(SNOW_FREE_DIFF, band_number=1)\n",
    "band_values_snow_free_diff = snow_free_diff_data.band_values()\n",
    "band_values_snow_free_diff_mask = band_values_snow_free_diff.mask.copy()"
   ]
  },
  {
   "cell_type": "markdown",
   "metadata": {},
   "source": [
    "## Snow Pixels comparison"
   ]
  },
  {
   "cell_type": "code",
   "execution_count": null,
   "metadata": {},
   "outputs": [],
   "source": [
    "band_values_snow_free_diff.mask = casi_data.snow_surfaces(band_values_snow_free_diff_mask)\n",
    "band_values_snow_on_diff.mask = casi_data.snow_surfaces(band_values_snow_on_diff_mask)\n",
    "\n",
    "ax = box_plot_compare(\n",
    "    [\n",
    "        band_values_snow_free_diff,\n",
    "        band_values_snow_on_diff,\n",
    "    ],\n",
    "    [\n",
    "        'SfM Bare Ground\\n- Lidar Bare Ground', \n",
    "        'SfM Snow\\n- Lidar Snow', \n",
    "    ],\n",
    ")\n",
    "ax.set_ylabel('$\\Delta$ Elevation (m)')\n",
    "ax.set_ylim([-1, 1]);"
   ]
  },
  {
   "cell_type": "code",
   "execution_count": null,
   "metadata": {},
   "outputs": [],
   "source": [
    "color_map = LinearSegmentedColormap.from_list(\n",
    "    'snow_pixels',\n",
    "    ['royalblue', 'none'],\n",
    "    N=2\n",
    ")\n",
    "\n",
    "plt.figure(figsize=(6,6), dpi=150)\n",
    "plt.imshow(hillshade, cmap='gray', clim=(1, 255), alpha=0.5)\n",
    "plt.imshow(\n",
    "    band_values_snow_on_diff.mask,\n",
    "    cmap=color_map,\n",
    ")\n",
    "set_axes_style(plt.gca())\n",
    "plt.xticks([])\n",
    "plt.yticks([]);"
   ]
  },
  {
   "cell_type": "markdown",
   "metadata": {},
   "source": [
    "## Stable Ground"
   ]
  },
  {
   "cell_type": "code",
   "execution_count": null,
   "metadata": {},
   "outputs": [],
   "source": [
    "lidar_data = RasterFile(LIDAR_SNOW_DEPTH, band_number=1)\n",
    "band_values_lidar = lidar_data.band_values()\n",
    "\n",
    "sfm_data = RasterFile(SFM_SNOW_DEPTH, band_number=1)\n",
    "band_values_sfm = sfm_data.band_values()"
   ]
  },
  {
   "cell_type": "code",
   "execution_count": null,
   "metadata": {},
   "outputs": [],
   "source": [
    "band_values_lidar.mask = casi_data.stable_surfaces(band_values_lidar.mask)\n",
    "band_values_sfm.mask = casi_data.stable_surfaces(band_values_sfm.mask)\n",
    "band_values_snow_on_diff.mask = casi_data.stable_surfaces(band_values_snow_on_diff_mask)\n",
    "band_values_snow_free_diff.mask = casi_data.stable_surfaces(band_values_snow_free_diff_mask)\n",
    "\n",
    "data_sources = [\n",
    "    band_values_lidar,\n",
    "    band_values_sfm,\n",
    "    band_values_snow_on_diff,\n",
    "    band_values_snow_free_diff,\n",
    "]\n",
    "\n",
    "labels=[\n",
    "    'Lidar Snow\\n Depth',\n",
    "    'SfM Snow\\n Depth',\n",
    "    'Snow On\\n Scenes',\n",
    "    'Bare Ground\\n Scenes',\n",
    "]\n",
    "\n",
    "ax = box_plot_compare(data_sources, labels)\n",
    "\n",
    "ax.set_ylim([-1.2, 1.2]);"
   ]
  },
  {
   "cell_type": "code",
   "execution_count": null,
   "metadata": {},
   "outputs": [],
   "source": [
    "color_map = LinearSegmentedColormap.from_list(\n",
    "    'snow_pixels',\n",
    "    ['sienna', 'none'],\n",
    "    N=2\n",
    ")\n",
    "\n",
    "\n",
    "plt.figure(figsize=(6,6), dpi=150)\n",
    "plt.imshow(hillshade, cmap='gray', clim=(1, 255), alpha=0.5)\n",
    "plt.imshow(\n",
    "    band_values_snow_on_diff.mask,\n",
    "    cmap=color_map,\n",
    ")\n",
    "set_axes_style(plt.gca())\n",
    "plt.xticks([])\n",
    "plt.yticks([]);"
   ]
  },
  {
   "cell_type": "code",
   "execution_count": null,
   "metadata": {},
   "outputs": [],
   "source": []
  }
 ],
 "metadata": {
  "kernelspec": {
   "display_name": "Python [conda env:raster_compare]",
   "language": "python",
   "name": "conda-env-raster_compare-py"
  },
  "language_info": {
   "codemirror_mode": {
    "name": "ipython",
    "version": 3
   },
   "file_extension": ".py",
   "mimetype": "text/x-python",
   "name": "python",
   "nbconvert_exporter": "python",
   "pygments_lexer": "ipython3",
   "version": "3.8.1"
  }
 },
 "nbformat": 4,
 "nbformat_minor": 4
}
