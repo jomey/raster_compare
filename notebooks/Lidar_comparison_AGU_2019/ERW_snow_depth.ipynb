{
 "cells": [
  {
   "cell_type": "markdown",
   "metadata": {},
   "source": [
    "## Snow Depth Comparison"
   ]
  },
  {
   "cell_type": "code",
   "execution_count": null,
   "metadata": {},
   "outputs": [],
   "source": [
    "from plot_helpers import *\n",
    "\n",
    "plt.style.use('fivethirtyeight')"
   ]
  },
  {
   "cell_type": "code",
   "execution_count": null,
   "metadata": {},
   "outputs": [],
   "source": [
    "casi_data = PixelClassifier(CASI_DATA, CLOUD_MASK, VEGETATION_MASK)\n",
    "\n",
    "lidar_data = RasterFile(LIDAR_SNOW_DEPTH, band_number=1)\n",
    "band_values_lidar = lidar_data.band_values()\n",
    "band_values_lidar.mask = casi_data.snow_surfaces(band_values_lidar.mask)\n",
    "\n",
    "sfm_data = RasterFile(SFM_SNOW_DEPTH, band_number=1)\n",
    "band_values_sfm = sfm_data.band_values()\n",
    "band_values_sfm.mask = casi_data.snow_surfaces(band_values_sfm.mask)\n",
    "\n",
    "data_sources = [\n",
    "    band_values_lidar,\n",
    "    band_values_sfm,\n",
    "]"
   ]
  },
  {
   "cell_type": "markdown",
   "metadata": {},
   "source": [
    "### Histograms"
   ]
  },
  {
   "cell_type": "code",
   "execution_count": null,
   "metadata": {},
   "outputs": [],
   "source": [
    "plot_histogram(data_sources);"
   ]
  },
  {
   "cell_type": "markdown",
   "metadata": {},
   "source": [
    "### Boxplots"
   ]
  },
  {
   "cell_type": "code",
   "execution_count": null,
   "metadata": {},
   "outputs": [],
   "source": [
    "labels=[\n",
    "    'Lidar Snow\\n Depth',\n",
    "    'SfM Snow\\n Depth',\n",
    "]\n",
    "\n",
    "ax = box_plot_compare(data_sources, labels)\n",
    "plt.title('Snow Depth');"
   ]
  }
 ],
 "metadata": {
  "kernelspec": {
   "display_name": "Python [conda env:raster_compare]",
   "language": "python",
   "name": "conda-env-raster_compare-py"
  },
  "language_info": {
   "codemirror_mode": {
    "name": "ipython",
    "version": 3
   },
   "file_extension": ".py",
   "mimetype": "text/x-python",
   "name": "python",
   "nbconvert_exporter": "python",
   "pygments_lexer": "ipython3",
   "version": "3.8.1"
  }
 },
 "nbformat": 4,
 "nbformat_minor": 4
}
