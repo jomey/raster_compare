{
 "cells": [
  {
   "cell_type": "code",
   "execution_count": null,
   "metadata": {},
   "outputs": [],
   "source": [
    "from plot_helpers import *\n",
    "from source_files import *\n",
    "\n",
    "figure_style= dict(\n",
    "    figsize=(8, 6),\n",
    "    dpi=150,\n",
    ")"
   ]
  },
  {
   "cell_type": "markdown",
   "metadata": {},
   "source": [
    "## SfM snow depth distribution"
   ]
  },
  {
   "cell_type": "code",
   "execution_count": null,
   "metadata": {},
   "outputs": [],
   "source": [
    "data = [\n",
    "    {\n",
    "        'data': sfm_snow_depth_values,\n",
    "        'label': 'SfM',\n",
    "        'color': 'brown',\n",
    "    }\n",
    "]\n",
    "\n",
    "plot_histogram(data, (-5, 5), **figure_style);"
   ]
  },
  {
   "cell_type": "markdown",
   "metadata": {},
   "source": [
    "## Positive snow depth comparison"
   ]
  },
  {
   "cell_type": "code",
   "execution_count": null,
   "metadata": {},
   "outputs": [],
   "source": [
    "data = [\n",
    "    {\n",
    "        'data': aso_snow_depth_values,\n",
    "        'label': 'ASO',\n",
    "        'color': 'dodgerblue',\n",
    "    },\n",
    "    {\n",
    "        'data': np.ma.masked_where(sfm_snow_depth_values <= 0.0, sfm_snow_depth_values, copy=True),\n",
    "        'label': 'SfM',\n",
    "        'color': 'brown',\n",
    "    }\n",
    "]\n",
    "\n",
    "plot_histogram(data, (0, 5), **figure_style);"
   ]
  },
  {
   "cell_type": "markdown",
   "metadata": {},
   "source": [
    "## Pixel Classification"
   ]
  },
  {
   "cell_type": "code",
   "execution_count": null,
   "metadata": {},
   "outputs": [],
   "source": [
    "casi_classes, classes_count = np.unique(casi_classification, return_counts=True)"
   ]
  },
  {
   "cell_type": "code",
   "execution_count": null,
   "metadata": {},
   "outputs": [],
   "source": [
    "cmap = plt.get_cmap(\"tab20c\")\n",
    "sizes = classes_count[:-1]\n",
    "colors = ['gold', 'yellowgreen', 'lightcoral', 'lightskyblue']\n",
    "\n",
    "plt.figure(figsize=(8,8))\n",
    "patches, texts, autotexts = plt.pie(\n",
    "    sizes, \n",
    "    labels=CASI_CLASSES, \n",
    "    colors=cmap(np.arange(4)*4, alpha=0.8),\n",
    "    wedgeprops=dict(width=0.5, edgecolor='w'),\n",
    "    textprops={'fontsize': 14},\n",
    "    autopct='%1.1f%%')\n",
    "plt.axis('equal')\n",
    "plt.show()\n",
    "classes_count"
   ]
  },
  {
   "cell_type": "code",
   "execution_count": null,
   "metadata": {},
   "outputs": [],
   "source": [
    "non_snow_casi = np.ma.masked_where(casi_classification == 1, casi_classification, copy=True)\n",
    "\n",
    "assert classes_count[1:4].sum() == np.count_nonzero(~non_snow_casi.mask)"
   ]
  },
  {
   "cell_type": "markdown",
   "metadata": {},
   "source": [
    "## ASO non-snow pixels depth values"
   ]
  },
  {
   "cell_type": "code",
   "execution_count": null,
   "metadata": {},
   "outputs": [],
   "source": [
    "data = [\n",
    "    {\n",
    "        'data': np.ma.masked_where(non_snow_casi.mask, aso_snow_depth_values, copy=True),\n",
    "        'label': 'ASO',\n",
    "        'color': 'dodgerblue',\n",
    "    }\n",
    "]\n",
    "\n",
    "plot_histogram(data, (0, 5), **figure_style);"
   ]
  },
  {
   "cell_type": "markdown",
   "metadata": {},
   "source": [
    "## CASI snow pixels snow depth values"
   ]
  },
  {
   "cell_type": "code",
   "execution_count": null,
   "metadata": {},
   "outputs": [],
   "source": [
    "data = [\n",
    "    {\n",
    "        'data': np.ma.masked_where(~non_snow_casi.mask, aso_snow_depth_values, copy=True),\n",
    "        'label': 'ASO',\n",
    "        'color': 'dodgerblue',\n",
    "    },\n",
    "    {\n",
    "        'data': np.ma.masked_where(~non_snow_casi.mask, sfm_snow_depth_values, copy=True),\n",
    "        'label': 'SfM',\n",
    "        'color': 'brown',\n",
    "    }\n",
    "]\n",
    "\n",
    "ax = plot_histogram(data, (0, 5), **figure_style)\n",
    "ax.axvline(x=0.08, color=\"springgreen\", label='ASO Precision');"
   ]
  },
  {
   "cell_type": "code",
   "execution_count": null,
   "metadata": {},
   "outputs": [],
   "source": [
    "data = [\n",
    "    {\n",
    "        'data': np.ma.masked_where(sfm_snow_depth_values < 0, aso_snow_depth_values, copy=True),\n",
    "        'label': 'ASO',\n",
    "        'color': 'dodgerblue',\n",
    "    },\n",
    "    {\n",
    "        'data': np.ma.masked_where(sfm_snow_depth_values < 0, sfm_snow_depth_values, copy=True),\n",
    "        'label': 'SfM',\n",
    "        'color': 'brown',\n",
    "    }\n",
    "]\n",
    "\n",
    "ax = plot_histogram(data, (0, 5), **figure_style)\n",
    "ax.set_title('SfM positive Snow Depth Values');"
   ]
  }
 ],
 "metadata": {
  "kernelspec": {
   "display_name": "Python [conda env:raster_compare]",
   "language": "python",
   "name": "conda-env-raster_compare-py"
  },
  "language_info": {
   "codemirror_mode": {
    "name": "ipython",
    "version": 3
   },
   "file_extension": ".py",
   "mimetype": "text/x-python",
   "name": "python",
   "nbconvert_exporter": "python",
   "pygments_lexer": "ipython3",
   "version": "3.8.2"
  }
 },
 "nbformat": 4,
 "nbformat_minor": 4
}
