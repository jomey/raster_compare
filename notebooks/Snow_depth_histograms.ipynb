{
 "cells": [
  {
   "cell_type": "code",
   "execution_count": null,
   "metadata": {},
   "outputs": [],
   "source": [
    "from plot_helpers import *\n",
    "from source_files import *\n",
    "\n",
    "figure_style= dict(\n",
    "    figsize=(8, 6),\n",
    "    dpi=150,\n",
    ")"
   ]
  },
  {
   "cell_type": "markdown",
   "metadata": {},
   "source": [
    "## SfM snow depth distribution"
   ]
  },
  {
   "cell_type": "code",
   "execution_count": null,
   "metadata": {},
   "outputs": [],
   "source": [
    "data = [\n",
    "    {\n",
    "        'data': sfm_snow_depth_values,\n",
    "        'label': 'SfM',\n",
    "        'color': 'brown',\n",
    "    }\n",
    "]\n",
    "\n",
    "with plot_histogram(data, (-5, 5), **figure_style) as ax:\n",
    "    ax"
   ]
  },
  {
   "cell_type": "markdown",
   "metadata": {},
   "source": [
    "## Positive snow depth comparison"
   ]
  },
  {
   "cell_type": "code",
   "execution_count": null,
   "metadata": {},
   "outputs": [],
   "source": [
    "data = [\n",
    "    {\n",
    "        'data': aso_snow_depth_values,\n",
    "        'label': 'ASO',\n",
    "        'color': 'dodgerblue',\n",
    "    },\n",
    "    {\n",
    "        'data': np.ma.masked_where(sfm_snow_depth_values <= 0.0, sfm_snow_depth_values, copy=True),\n",
    "        'label': 'SfM',\n",
    "        'color': 'brown',\n",
    "    }\n",
    "]\n",
    "\n",
    "with plot_histogram(data, (0, 5), **figure_style) as ax:\n",
    "    ax"
   ]
  },
  {
   "cell_type": "markdown",
   "metadata": {},
   "source": [
    "## Pixel Classification"
   ]
  },
  {
   "cell_type": "code",
   "execution_count": null,
   "metadata": {},
   "outputs": [],
   "source": [
    "casi_classes, classes_count = np.unique(casi_classification, return_counts=True)\n",
    "\n",
    "non_snow_casi = np.ma.masked_where(casi_classification == 1, casi_classification, copy=True)\n",
    "\n",
    "assert classes_count[1:4].sum() == np.count_nonzero(~non_snow_casi.mask)"
   ]
  },
  {
   "cell_type": "markdown",
   "metadata": {},
   "source": [
    "## ASO non-snow pixels depth values"
   ]
  },
  {
   "cell_type": "code",
   "execution_count": null,
   "metadata": {},
   "outputs": [],
   "source": [
    "data = [\n",
    "    {\n",
    "        'data': np.ma.masked_where(non_snow_casi.mask, aso_snow_depth_values, copy=True),\n",
    "        'label': 'ASO',\n",
    "        'color': 'dodgerblue',\n",
    "    }\n",
    "]\n",
    "\n",
    "with plot_histogram(data, (0, 5), **figure_style) as ax:\n",
    "    ax"
   ]
  },
  {
   "cell_type": "markdown",
   "metadata": {},
   "source": [
    "## CASI snow pixels snow depth values"
   ]
  },
  {
   "cell_type": "code",
   "execution_count": null,
   "metadata": {},
   "outputs": [],
   "source": [
    "data = [\n",
    "    {\n",
    "        'data': np.ma.masked_where(~non_snow_casi.mask, aso_snow_depth_values, copy=True),\n",
    "        'label': 'ASO',\n",
    "        'color': 'dodgerblue',\n",
    "    },\n",
    "    {\n",
    "        'data': np.ma.masked_where(~non_snow_casi.mask, sfm_snow_depth_values, copy=True),\n",
    "        'label': 'SfM',\n",
    "        'color': 'brown',\n",
    "    }\n",
    "]\n",
    "\n",
    "with plot_histogram(data, (0, 5), **figure_style) as ax:\n",
    "    ax.axvline(x=0.08, color=\"springgreen\", label='ASO Precision')"
   ]
  },
  {
   "cell_type": "markdown",
   "metadata": {},
   "source": [
    "## SfM positive values"
   ]
  },
  {
   "cell_type": "code",
   "execution_count": null,
   "metadata": {},
   "outputs": [],
   "source": [
    "data = [\n",
    "    {\n",
    "        'data': np.ma.masked_where(sfm_snow_depth_values < 0, aso_snow_depth_values, copy=True),\n",
    "        'label': 'ASO',\n",
    "        'color': 'dodgerblue',\n",
    "    },\n",
    "    {\n",
    "        'data': np.ma.masked_where(sfm_snow_depth_values < 0, sfm_snow_depth_values, copy=True),\n",
    "        'label': 'SfM',\n",
    "        'color': 'brown',\n",
    "    }\n",
    "]\n",
    "\n",
    "\n",
    "with plot_histogram(data, (0, 5), **figure_style) as ax:\n",
    "    ax.axvline(x=0.08, color=\"springgreen\", label='ASO Precision')\n",
    "    ax.set_title('SfM positive area snow depth values');"
   ]
  }
 ],
 "metadata": {
  "kernelspec": {
   "display_name": "Python [conda env:raster_compare]",
   "language": "python",
   "name": "conda-env-raster_compare-py"
  },
  "language_info": {
   "codemirror_mode": {
    "name": "ipython",
    "version": 3
   },
   "file_extension": ".py",
   "mimetype": "text/x-python",
   "name": "python",
   "nbconvert_exporter": "python",
   "pygments_lexer": "ipython3",
   "version": "3.8.2"
  }
 },
 "nbformat": 4,
 "nbformat_minor": 4
}
