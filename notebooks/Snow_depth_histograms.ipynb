{
 "cells": [
  {
   "cell_type": "code",
   "execution_count": null,
   "metadata": {},
   "outputs": [],
   "source": [
    "from plot_helpers import *\n",
    "from source_files_extended import \\\n",
    "    load_sfm_depth, load_aso_depth, load_classifier_data\n",
    "\n",
    "figure_style= dict(figsize=(8, 6))\n",
    "\n",
    "aso_snow_depth_values = load_aso_depth()\n",
    "sfm_snow_depth_values = load_sfm_depth(aso_snow_depth_values.mask)"
   ]
  },
  {
   "cell_type": "markdown",
   "metadata": {},
   "source": [
    "## SfM snow depth distribution"
   ]
  },
  {
   "cell_type": "code",
   "execution_count": null,
   "metadata": {},
   "outputs": [],
   "source": [
    "data = [\n",
    "    {\n",
    "        'data': sfm_snow_depth_values,\n",
    "        'label': 'SfM',\n",
    "        'color': 'brown',\n",
    "    }\n",
    "]\n",
    "\n",
    "with Histogram.plot(data, (-5, 5), **figure_style) as ax:\n",
    "    ax"
   ]
  },
  {
   "cell_type": "markdown",
   "metadata": {},
   "source": [
    "## Positive snow depth comparison"
   ]
  },
  {
   "cell_type": "code",
   "execution_count": null,
   "metadata": {},
   "outputs": [],
   "source": [
    "data = [\n",
    "    {\n",
    "        'data': aso_snow_depth_values,\n",
    "        'label': 'ASO',\n",
    "        'color': 'dodgerblue',\n",
    "    },\n",
    "    {\n",
    "        'data': np.ma.masked_where(\n",
    "            sfm_snow_depth_values < 0.0, \n",
    "            sfm_snow_depth_values, copy=True),\n",
    "        'label': 'SfM',\n",
    "        'color': 'brown',\n",
    "    }\n",
    "]\n",
    "\n",
    "with Histogram.plot(data, (0, 5), **figure_style) as ax:\n",
    "    ax"
   ]
  },
  {
   "cell_type": "markdown",
   "metadata": {},
   "source": [
    "## Pixel Classification"
   ]
  },
  {
   "cell_type": "code",
   "execution_count": null,
   "metadata": {},
   "outputs": [],
   "source": [
    "casi_classification = load_classifier_data(aso_snow_depth_values.mask)\n",
    "casi_classes, classes_count = np.unique(casi_classification, return_counts=True)\n",
    "\n",
    "non_snow_casi = np.ma.masked_where(casi_classification == 1, casi_classification, copy=True)\n",
    "\n",
    "assert classes_count[1:4].sum() == np.count_nonzero(~non_snow_casi.mask)"
   ]
  },
  {
   "cell_type": "markdown",
   "metadata": {},
   "source": [
    "## ASO non-snow pixels depth values"
   ]
  },
  {
   "cell_type": "code",
   "execution_count": null,
   "metadata": {},
   "outputs": [],
   "source": [
    "data = [\n",
    "    {\n",
    "        'data': np.ma.masked_where(\n",
    "            non_snow_casi.mask, \n",
    "            aso_snow_depth_values, copy=True),\n",
    "        'label': 'ASO',\n",
    "        'color': 'dodgerblue',\n",
    "    }\n",
    "]\n",
    "\n",
    "with Histogram.plot(data, (0, 5), **figure_style) as ax:\n",
    "    ax"
   ]
  },
  {
   "cell_type": "markdown",
   "metadata": {},
   "source": [
    "## CASI snow pixels snow depth values"
   ]
  },
  {
   "cell_type": "code",
   "execution_count": null,
   "metadata": {},
   "outputs": [],
   "source": [
    "data = [\n",
    "    {\n",
    "        'data': np.ma.masked_where(\n",
    "            non_snow_casi.mask, \n",
    "            aso_snow_depth_values, copy=True),\n",
    "        'label': 'ASO',\n",
    "        'color': 'steelblue',\n",
    "    },\n",
    "    {\n",
    "        'data': np.ma.masked_where(\n",
    "            np.logical_or(non_snow_casi.mask, sfm_snow_depth_values < 0),\n",
    "            sfm_snow_depth_values, copy=True),\n",
    "        'label': 'SfM',\n",
    "        'color': 'beige',\n",
    "        'alpha': 0.7,\n",
    "    }\n",
    "]\n",
    "\n",
    "with Histogram.plot(data, (0, 5), **figure_style) as ax:\n",
    "    ax.axvline(x=0.08, linestyle='dotted', color='dimgrey', label='ASO Precision')"
   ]
  },
  {
   "cell_type": "markdown",
   "metadata": {},
   "source": [
    "## SfM positive values"
   ]
  },
  {
   "cell_type": "code",
   "execution_count": null,
   "metadata": {},
   "outputs": [],
   "source": [
    "data = [\n",
    "    {\n",
    "        'data': aso_snow_depth_values,\n",
    "        'label': 'ASO',\n",
    "        'color': 'white',\n",
    "    },\n",
    "    {\n",
    "        'data': np.ma.masked_where(\n",
    "            sfm_snow_depth_values < 0, \n",
    "            aso_snow_depth_values, copy=True),\n",
    "        'label': 'ASO',\n",
    "        'color': 'steelblue',\n",
    "    },\n",
    "    {\n",
    "        'data': np.ma.masked_where(\n",
    "            sfm_snow_depth_values < 0, \n",
    "            sfm_snow_depth_values, copy=True),\n",
    "        'label': 'SfM',\n",
    "        'color': 'beige',\n",
    "        'alpha': 0.7,\n",
    "    }\n",
    "]\n",
    "\n",
    "\n",
    "with Histogram.plot(data, (0, 5), **figure_style) as ax:\n",
    "    ax.axvline(x=0.08, linestyle='dotted', color='dimgrey', label='ASO Precision')\n",
    "    ax.set_title('SfM positive area snow depth values');"
   ]
  },
  {
   "cell_type": "code",
   "execution_count": null,
   "metadata": {},
   "outputs": [],
   "source": []
  }
 ],
 "metadata": {
  "language_info": {
   "name": "python"
  }
 },
 "nbformat": 4,
 "nbformat_minor": 4
}
