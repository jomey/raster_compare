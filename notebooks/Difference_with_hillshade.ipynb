{
 "cells": [
  {
   "cell_type": "code",
   "execution_count": null,
   "metadata": {},
   "outputs": [],
   "source": [
    "from source_files_extended import *\n",
    "from plot_helpers import *\n",
    "from raster_compare.plots import PlotBase\n",
    "\n",
    "import query_helpers\n",
    "\n",
    "import math\n",
    "import pandas as pd"
   ]
  },
  {
   "cell_type": "markdown",
   "metadata": {},
   "source": [
    "# Analysis"
   ]
  },
  {
   "cell_type": "code",
   "execution_count": null,
   "metadata": {},
   "outputs": [],
   "source": [
    "hillshade_snow_on, hillshade_snow_free = load_hillshade()\n",
    "\n",
    "df = pd.DataFrame({\n",
    "        'sfm_snow_depth': sfm_snow_depth_values.ravel(),\n",
    "        'hillshade_snow_on': hillshade_snow_on.ravel(),\n",
    "        'hillshade_snow_free': hillshade_snow_free.ravel(),\n",
    "        'casi_class': casi_classification.ravel(),\n",
    "})"
   ]
  },
  {
   "cell_type": "code",
   "execution_count": null,
   "metadata": {},
   "outputs": [],
   "source": [
    "df.dropna(inplace=True, how='any', subset=['sfm_snow_depth', 'hillshade_snow_on', 'hillshade_snow_free' ])\n",
    "df['hillshade_snow_on'] = df['hillshade_snow_on'].astype('int16')\n",
    "df['hillshade_snow_free'] = df['hillshade_snow_free'].astype('int16')\n",
    "df['casi_class'] = pd.cut(df['casi_class'], CASI_MAPPING, labels=CASI_CLASSES)\n",
    "\n",
    "positive_sfm = query_helpers.get_positive(df, 'sfm_snow_depth')\n",
    "negative_sfm = query_helpers.get_negative(df, 'sfm_snow_depth')\n",
    "\n",
    "vegetation = ((negative_sfm.casi_class == 'Vegetation') | (negative_sfm.casi_class == 'Water'))\n",
    "open_areas = ~vegetation"
   ]
  },
  {
   "cell_type": "markdown",
   "metadata": {},
   "source": [
    "## Hillshade comparison (No Vegetation)"
   ]
  },
  {
   "cell_type": "markdown",
   "metadata": {},
   "source": [
    "## Snow free SfM\n",
    "\n",
    "Azimuth: 247\n",
    "\n",
    "Altitude: 32"
   ]
  },
  {
   "cell_type": "code",
   "execution_count": null,
   "metadata": {},
   "outputs": [],
   "source": [
    "HILLSHADE_MIN = 0\n",
    "HILLSHADE_MAX = 255\n",
    "\n",
    "hillshade_range = np.arange(HILLSHADE_MIN, HILLSHADE_MAX + 1, 1)\n",
    "\n",
    "min_depth = math.floor(negative_sfm.sfm_snow_depth.min())\n",
    "bins = np.arange(min_depth, 0.5, 0.5)\n",
    "\n",
    "hist_opts = dict(\n",
    "    bins=[hillshade_range, bins],\n",
    "    vmin=0,\n",
    "    vmax=150,\n",
    "    cmin=1,\n",
    ")"
   ]
  },
  {
   "cell_type": "code",
   "execution_count": null,
   "metadata": {},
   "outputs": [],
   "source": [
    "hillshade_snow_free = negative_sfm[open_areas].groupby('hillshade_snow_free')\n",
    "hillshade_snow_free_median = hillshade_snow_free.median()\n",
    "hillshade_snow_free_count = hillshade_snow_free.count()\n",
    "\n",
    "fig, (ax1, ax2, ax3) = plt.subplots(3, 1, sharex=True, figsize=(15,24))\n",
    "\n",
    "ax1.set_facecolor('whitesmoke')\n",
    "ax1.set_facecolor('whitesmoke')\n",
    "ha = ax1.hist2d(\n",
    "    negative_sfm[open_areas].hillshade_snow_free,\n",
    "    negative_sfm[open_areas].sfm_snow_depth,\n",
    "    **hist_opts,\n",
    ")\n",
    "PlotBase.insert_colorbar(ax1, ha[3], 'count')\n",
    "ax1.set_ylabel(SNOW_DEPTH_LABEL)\n",
    "ax1.set_title('Negative values with Snow Free hillshade')\n",
    "\n",
    "ax2.scatter(hillshade_snow_free_median.index, hillshade_snow_free_median.sfm_snow_depth)\n",
    "ax2.set_ylabel('Median SD difference')\n",
    "ax2.set_title('Median difference')\n",
    "\n",
    "ax3.scatter(hillshade_snow_free_count.index, hillshade_snow_free_count.sfm_snow_depth)\n",
    "ax3.set_ylabel('Count')\n",
    "ax3.set_title('Count by hillshade')\n",
    "\n",
    "ax3.set_xlim(HILLSHADE_MIN, HILLSHADE_MAX)\n",
    "ax3.set_xlabel('Hillshade');"
   ]
  },
  {
   "cell_type": "markdown",
   "metadata": {},
   "source": [
    "## SfM snow on\n",
    "\n",
    "Azimuth: 100\n",
    "\n",
    "Altitude: 47"
   ]
  },
  {
   "cell_type": "code",
   "execution_count": null,
   "metadata": {},
   "outputs": [],
   "source": [
    "hillshade_snow_on = negative_sfm[open_areas].groupby('hillshade_snow_on')\n",
    "hillshade_snow_on_median = hillshade_snow_on.median()\n",
    "hillshade_snow_on_count = hillshade_snow_on.count()\n",
    "\n",
    "fig, (ax1, ax2, ax3) = plt.subplots(3, 1, sharex=True, figsize=(15,24))\n",
    "\n",
    "ax1.set_facecolor('whitesmoke')\n",
    "ax1.set_facecolor('whitesmoke')\n",
    "ha = ax1.hist2d(\n",
    "    negative_sfm[open_areas].hillshade_snow_on,\n",
    "    negative_sfm[open_areas].sfm_snow_depth,\n",
    "    **hist_opts,\n",
    ")\n",
    "PlotBase.insert_colorbar(ax1, ha[3], 'count')\n",
    "ax1.set_ylabel(SNOW_DEPTH_LABEL)\n",
    "ax1.set_title('Negative values with Snow On hillshade')\n",
    "\n",
    "ax2.scatter(hillshade_snow_on_median.index, hillshade_snow_on_median.sfm_snow_depth)\n",
    "ax2.set_ylabel('Median SD difference')\n",
    "ax2.set_title('Median difference')\n",
    "\n",
    "ax3.scatter(hillshade_snow_on_count.index, hillshade_snow_on_count.sfm_snow_depth)\n",
    "ax3.set_ylabel('Count')\n",
    "ax3.set_title('Count by hillshade')\n",
    "\n",
    "ax3.set_xlim(HILLSHADE_MIN, HILLSHADE_MAX)\n",
    "ax3.set_xlabel('Hillshade');"
   ]
  }
 ],
 "metadata": {
  "kernelspec": {
   "display_name": "Python [conda env:raster_compare]",
   "language": "python",
   "name": "conda-env-raster_compare-py"
  },
  "language_info": {
   "codemirror_mode": {
    "name": "ipython",
    "version": 3
   },
   "file_extension": ".py",
   "mimetype": "text/x-python",
   "name": "python",
   "nbconvert_exporter": "python",
   "pygments_lexer": "ipython3",
   "version": "3.8.2"
  }
 },
 "nbformat": 4,
 "nbformat_minor": 4
}
